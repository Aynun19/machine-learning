{
 "cells": [
  {
   "cell_type": "markdown",
   "metadata": {},
   "source": [
    "# Preprocessing data"
   ]
  },
  {
   "cell_type": "code",
   "execution_count": 2,
   "metadata": {},
   "outputs": [
    {
     "data": {
      "text/html": [
       "<div>\n",
       "<style scoped>\n",
       "    .dataframe tbody tr th:only-of-type {\n",
       "        vertical-align: middle;\n",
       "    }\n",
       "\n",
       "    .dataframe tbody tr th {\n",
       "        vertical-align: top;\n",
       "    }\n",
       "\n",
       "    .dataframe thead th {\n",
       "        text-align: right;\n",
       "    }\n",
       "</style>\n",
       "<table border=\"1\" class=\"dataframe\">\n",
       "  <thead>\n",
       "    <tr style=\"text-align: right;\">\n",
       "      <th></th>\n",
       "      <th>Id</th>\n",
       "      <th>SepalLengthCm</th>\n",
       "      <th>SepalWidthCm</th>\n",
       "      <th>PetalLengthCm</th>\n",
       "      <th>PetalWidthCm</th>\n",
       "      <th>Species</th>\n",
       "    </tr>\n",
       "  </thead>\n",
       "  <tbody>\n",
       "    <tr>\n",
       "      <th>145</th>\n",
       "      <td>146</td>\n",
       "      <td>6.7</td>\n",
       "      <td>3.0</td>\n",
       "      <td>5.2</td>\n",
       "      <td>2.3</td>\n",
       "      <td>Iris-virginica</td>\n",
       "    </tr>\n",
       "    <tr>\n",
       "      <th>146</th>\n",
       "      <td>147</td>\n",
       "      <td>6.3</td>\n",
       "      <td>2.5</td>\n",
       "      <td>5.0</td>\n",
       "      <td>1.9</td>\n",
       "      <td>Iris-virginica</td>\n",
       "    </tr>\n",
       "    <tr>\n",
       "      <th>147</th>\n",
       "      <td>148</td>\n",
       "      <td>6.5</td>\n",
       "      <td>3.0</td>\n",
       "      <td>5.2</td>\n",
       "      <td>2.0</td>\n",
       "      <td>Iris-virginica</td>\n",
       "    </tr>\n",
       "    <tr>\n",
       "      <th>148</th>\n",
       "      <td>149</td>\n",
       "      <td>6.2</td>\n",
       "      <td>3.4</td>\n",
       "      <td>5.4</td>\n",
       "      <td>2.3</td>\n",
       "      <td>Iris-virginica</td>\n",
       "    </tr>\n",
       "    <tr>\n",
       "      <th>149</th>\n",
       "      <td>150</td>\n",
       "      <td>5.9</td>\n",
       "      <td>3.0</td>\n",
       "      <td>5.1</td>\n",
       "      <td>1.8</td>\n",
       "      <td>Iris-virginica</td>\n",
       "    </tr>\n",
       "  </tbody>\n",
       "</table>\n",
       "</div>"
      ],
      "text/plain": [
       "      Id  SepalLengthCm  SepalWidthCm  PetalLengthCm  PetalWidthCm  \\\n",
       "145  146            6.7           3.0            5.2           2.3   \n",
       "146  147            6.3           2.5            5.0           1.9   \n",
       "147  148            6.5           3.0            5.2           2.0   \n",
       "148  149            6.2           3.4            5.4           2.3   \n",
       "149  150            5.9           3.0            5.1           1.8   \n",
       "\n",
       "            Species  \n",
       "145  Iris-virginica  \n",
       "146  Iris-virginica  \n",
       "147  Iris-virginica  \n",
       "148  Iris-virginica  \n",
       "149  Iris-virginica  "
      ]
     },
     "execution_count": 2,
     "metadata": {},
     "output_type": "execute_result"
    }
   ],
   "source": [
    "import pandas as pd\n",
    "import matplotlib.pyplot as plt\n",
    "import seaborn as sns\n",
    "\n",
    "# Import data\n",
    "df = pd.read_csv('Iris.csv')\n",
    "#  Tampilkan 5 data pertama\n",
    "df.tail()"
   ]
  },
  {
   "cell_type": "code",
   "execution_count": 3,
   "metadata": {},
   "outputs": [
    {
     "data": {
      "text/html": [
       "<div>\n",
       "<style scoped>\n",
       "    .dataframe tbody tr th:only-of-type {\n",
       "        vertical-align: middle;\n",
       "    }\n",
       "\n",
       "    .dataframe tbody tr th {\n",
       "        vertical-align: top;\n",
       "    }\n",
       "\n",
       "    .dataframe thead th {\n",
       "        text-align: right;\n",
       "    }\n",
       "</style>\n",
       "<table border=\"1\" class=\"dataframe\">\n",
       "  <thead>\n",
       "    <tr style=\"text-align: right;\">\n",
       "      <th></th>\n",
       "      <th>SepalLengthCm</th>\n",
       "      <th>SepalWidthCm</th>\n",
       "      <th>PetalLengthCm</th>\n",
       "      <th>PetalWidthCm</th>\n",
       "      <th>Species</th>\n",
       "    </tr>\n",
       "  </thead>\n",
       "  <tbody>\n",
       "    <tr>\n",
       "      <th>0</th>\n",
       "      <td>5.1</td>\n",
       "      <td>3.5</td>\n",
       "      <td>1.4</td>\n",
       "      <td>0.2</td>\n",
       "      <td>Iris-setosa</td>\n",
       "    </tr>\n",
       "    <tr>\n",
       "      <th>1</th>\n",
       "      <td>4.9</td>\n",
       "      <td>3.0</td>\n",
       "      <td>1.4</td>\n",
       "      <td>0.2</td>\n",
       "      <td>Iris-setosa</td>\n",
       "    </tr>\n",
       "    <tr>\n",
       "      <th>2</th>\n",
       "      <td>4.7</td>\n",
       "      <td>3.2</td>\n",
       "      <td>1.3</td>\n",
       "      <td>0.2</td>\n",
       "      <td>Iris-setosa</td>\n",
       "    </tr>\n",
       "    <tr>\n",
       "      <th>3</th>\n",
       "      <td>4.6</td>\n",
       "      <td>3.1</td>\n",
       "      <td>1.5</td>\n",
       "      <td>0.2</td>\n",
       "      <td>Iris-setosa</td>\n",
       "    </tr>\n",
       "    <tr>\n",
       "      <th>4</th>\n",
       "      <td>5.0</td>\n",
       "      <td>3.6</td>\n",
       "      <td>1.4</td>\n",
       "      <td>0.2</td>\n",
       "      <td>Iris-setosa</td>\n",
       "    </tr>\n",
       "  </tbody>\n",
       "</table>\n",
       "</div>"
      ],
      "text/plain": [
       "   SepalLengthCm  SepalWidthCm  PetalLengthCm  PetalWidthCm      Species\n",
       "0            5.1           3.5            1.4           0.2  Iris-setosa\n",
       "1            4.9           3.0            1.4           0.2  Iris-setosa\n",
       "2            4.7           3.2            1.3           0.2  Iris-setosa\n",
       "3            4.6           3.1            1.5           0.2  Iris-setosa\n",
       "4            5.0           3.6            1.4           0.2  Iris-setosa"
      ]
     },
     "execution_count": 3,
     "metadata": {},
     "output_type": "execute_result"
    }
   ],
   "source": [
    "# hapus atribut yang tidak digunakan\n",
    "df.drop(['Id'], axis=1, inplace=True)\n",
    "\n",
    "# tampilkan 5 data pertama\n",
    "df.head()"
   ]
  },
  {
   "cell_type": "code",
   "execution_count": 34,
   "metadata": {},
   "outputs": [
    {
     "data": {
      "text/plain": [
       "(30, 120)"
      ]
     },
     "execution_count": 34,
     "metadata": {},
     "output_type": "execute_result"
    }
   ],
   "source": [
    "import sklearn\n",
    "from sklearn.model_selection import train_test_split\n",
    "\n",
    "## Bagi menjadi atribut dan label\n",
    "x = df[['SepalLengthCm', 'SepalWidthCm', 'PetalLengthCm', 'PetalWidthCm']]\n",
    "y = df['Species']\n",
    "\n",
    "x_train, x_test, y_train, y_test = train_test_split(x, y, test_size=0.2)\n",
    "\n",
    "len(x_test), len(x_train)"
   ]
  },
  {
   "cell_type": "code",
   "execution_count": 35,
   "metadata": {},
   "outputs": [
    {
     "data": {
      "text/plain": [
       "44         Iris-setosa\n",
       "95     Iris-versicolor\n",
       "82     Iris-versicolor\n",
       "7          Iris-setosa\n",
       "53     Iris-versicolor\n",
       "            ...       \n",
       "36         Iris-setosa\n",
       "135     Iris-virginica\n",
       "47         Iris-setosa\n",
       "26         Iris-setosa\n",
       "58     Iris-versicolor\n",
       "Name: Species, Length: 120, dtype: object"
      ]
     },
     "execution_count": 35,
     "metadata": {},
     "output_type": "execute_result"
    }
   ],
   "source": [
    "y_train"
   ]
  },
  {
   "cell_type": "markdown",
   "metadata": {},
   "source": [
    "# SVM"
   ]
  },
  {
   "cell_type": "code",
   "execution_count": 36,
   "metadata": {},
   "outputs": [
    {
     "name": "stderr",
     "output_type": "stream",
     "text": [
      "C:\\Users\\Rio Mukhtarom\\AppData\\Local\\Programs\\Python\\Python37\\lib\\site-packages\\sklearn\\svm\\base.py:193: FutureWarning: The default value of gamma will change from 'auto' to 'scale' in version 0.22 to account better for unscaled features. Set gamma explicitly to 'auto' or 'scale' to avoid this warning.\n",
      "  \"avoid this warning.\", FutureWarning)\n"
     ]
    },
    {
     "data": {
      "text/plain": [
       "SVC(C=1.0, cache_size=200, class_weight=None, coef0=0.0,\n",
       "    decision_function_shape='ovr', degree=3, gamma='auto_deprecated',\n",
       "    kernel='rbf', max_iter=-1, probability=False, random_state=None,\n",
       "    shrinking=True, tol=0.001, verbose=False)"
      ]
     },
     "execution_count": 36,
     "metadata": {},
     "output_type": "execute_result"
    }
   ],
   "source": [
    "from sklearn import svm\n",
    "\n",
    "# Create Model\n",
    "model_svm = svm.SVC()\n",
    "# Training model\n",
    "model_svm.fit(x_train, y_train)"
   ]
  },
  {
   "cell_type": "code",
   "execution_count": 7,
   "metadata": {},
   "outputs": [
    {
     "data": {
      "text/plain": [
       "0.9333333333333333"
      ]
     },
     "execution_count": 7,
     "metadata": {},
     "output_type": "execute_result"
    }
   ],
   "source": [
    "# Predict model\n",
    "pred_svm = model_svm.predict(x_test)\n",
    "# Evaluate using data test\n",
    "accuracy = (pred_svm == y_test).sum()/len(y_test)\n",
    "accuracy"
   ]
  },
  {
   "cell_type": "code",
   "execution_count": 10,
   "metadata": {},
   "outputs": [
    {
     "data": {
      "text/plain": [
       "array([[ 9,  0,  0],\n",
       "       [ 0,  7,  1],\n",
       "       [ 0,  1, 12]], dtype=int64)"
      ]
     },
     "execution_count": 10,
     "metadata": {},
     "output_type": "execute_result"
    }
   ],
   "source": [
    "from sklearn.metrics import confusion_matrix\n",
    "cm = confusion_matrix(pred_svm, y_test)\n",
    "cm"
   ]
  },
  {
   "cell_type": "markdown",
   "metadata": {},
   "source": [
    "# ANN"
   ]
  },
  {
   "cell_type": "markdown",
   "metadata": {},
   "source": [
    "## SKLearn"
   ]
  },
  {
   "cell_type": "code",
   "execution_count": 27,
   "metadata": {},
   "outputs": [
    {
     "name": "stderr",
     "output_type": "stream",
     "text": [
      "C:\\Users\\Rio Mukhtarom\\AppData\\Local\\Programs\\Python\\Python37\\lib\\site-packages\\sklearn\\neural_network\\multilayer_perceptron.py:566: ConvergenceWarning: Stochastic Optimizer: Maximum iterations (200) reached and the optimization hasn't converged yet.\n",
      "  % self.max_iter, ConvergenceWarning)\n"
     ]
    },
    {
     "data": {
      "text/plain": [
       "MLPClassifier(activation='relu', alpha=0.0001, batch_size='auto', beta_1=0.9,\n",
       "              beta_2=0.999, early_stopping=False, epsilon=1e-08,\n",
       "              hidden_layer_sizes=(8, 16, 32, 64, 32, 8, 4),\n",
       "              learning_rate='constant', learning_rate_init=0.001, max_iter=200,\n",
       "              momentum=0.9, n_iter_no_change=10, nesterovs_momentum=True,\n",
       "              power_t=0.5, random_state=None, shuffle=True, solver='adam',\n",
       "              tol=0.0001, validation_fraction=0.1, verbose=False,\n",
       "              warm_start=False)"
      ]
     },
     "execution_count": 27,
     "metadata": {},
     "output_type": "execute_result"
    }
   ],
   "source": [
    "from sklearn.neural_network import MLPClassifier\n",
    "# Create model\n",
    "model_mlp = MLPClassifier(hidden_layer_sizes=(8,16,32,64,32,8,4))\n",
    "# Training model\n",
    "model_mlp.fit(x_train, y_train)\n"
   ]
  },
  {
   "cell_type": "code",
   "execution_count": 28,
   "metadata": {},
   "outputs": [
    {
     "data": {
      "text/plain": [
       "0.9666666666666667"
      ]
     },
     "execution_count": 28,
     "metadata": {},
     "output_type": "execute_result"
    }
   ],
   "source": [
    "# Predict model\n",
    "pred_mlp = model_mlp.predict(x_test)\n",
    "# Evaluate using data test\n",
    "accuracy = (pred_mlp == y_test).sum()/len(y_test)\n",
    "accuracy"
   ]
  },
  {
   "cell_type": "code",
   "execution_count": 29,
   "metadata": {},
   "outputs": [
    {
     "data": {
      "text/plain": [
       "array([[ 9,  0,  0],\n",
       "       [ 0,  7,  0],\n",
       "       [ 0,  1, 13]], dtype=int64)"
      ]
     },
     "execution_count": 29,
     "metadata": {},
     "output_type": "execute_result"
    }
   ],
   "source": [
    "from sklearn.metrics import confusion_matrix\n",
    "cm = confusion_matrix(pred_mlp, y_test)\n",
    "cm"
   ]
  },
  {
   "cell_type": "markdown",
   "metadata": {},
   "source": [
    "## Keras"
   ]
  },
  {
   "cell_type": "code",
   "execution_count": 38,
   "metadata": {},
   "outputs": [
    {
     "data": {
      "text/plain": [
       "array([[1, 0, 0],\n",
       "       [1, 0, 0],\n",
       "       [1, 0, 0],\n",
       "       [1, 0, 0],\n",
       "       [1, 0, 0],\n",
       "       [1, 0, 0],\n",
       "       [1, 0, 0],\n",
       "       [1, 0, 0],\n",
       "       [1, 0, 0],\n",
       "       [1, 0, 0],\n",
       "       [1, 0, 0],\n",
       "       [1, 0, 0],\n",
       "       [1, 0, 0],\n",
       "       [1, 0, 0],\n",
       "       [1, 0, 0],\n",
       "       [1, 0, 0],\n",
       "       [1, 0, 0],\n",
       "       [1, 0, 0],\n",
       "       [1, 0, 0],\n",
       "       [1, 0, 0],\n",
       "       [1, 0, 0],\n",
       "       [1, 0, 0],\n",
       "       [1, 0, 0],\n",
       "       [1, 0, 0],\n",
       "       [1, 0, 0],\n",
       "       [1, 0, 0],\n",
       "       [1, 0, 0],\n",
       "       [1, 0, 0],\n",
       "       [1, 0, 0],\n",
       "       [1, 0, 0],\n",
       "       [1, 0, 0],\n",
       "       [1, 0, 0],\n",
       "       [1, 0, 0],\n",
       "       [1, 0, 0],\n",
       "       [1, 0, 0],\n",
       "       [1, 0, 0],\n",
       "       [1, 0, 0],\n",
       "       [1, 0, 0],\n",
       "       [1, 0, 0],\n",
       "       [1, 0, 0],\n",
       "       [1, 0, 0],\n",
       "       [1, 0, 0],\n",
       "       [1, 0, 0],\n",
       "       [1, 0, 0],\n",
       "       [1, 0, 0],\n",
       "       [1, 0, 0],\n",
       "       [1, 0, 0],\n",
       "       [1, 0, 0],\n",
       "       [1, 0, 0],\n",
       "       [1, 0, 0],\n",
       "       [0, 1, 0],\n",
       "       [0, 1, 0],\n",
       "       [0, 1, 0],\n",
       "       [0, 1, 0],\n",
       "       [0, 1, 0],\n",
       "       [0, 1, 0],\n",
       "       [0, 1, 0],\n",
       "       [0, 1, 0],\n",
       "       [0, 1, 0],\n",
       "       [0, 1, 0],\n",
       "       [0, 1, 0],\n",
       "       [0, 1, 0],\n",
       "       [0, 1, 0],\n",
       "       [0, 1, 0],\n",
       "       [0, 1, 0],\n",
       "       [0, 1, 0],\n",
       "       [0, 1, 0],\n",
       "       [0, 1, 0],\n",
       "       [0, 1, 0],\n",
       "       [0, 1, 0],\n",
       "       [0, 1, 0],\n",
       "       [0, 1, 0],\n",
       "       [0, 1, 0],\n",
       "       [0, 1, 0],\n",
       "       [0, 1, 0],\n",
       "       [0, 1, 0],\n",
       "       [0, 1, 0],\n",
       "       [0, 1, 0],\n",
       "       [0, 1, 0],\n",
       "       [0, 1, 0],\n",
       "       [0, 1, 0],\n",
       "       [0, 1, 0],\n",
       "       [0, 1, 0],\n",
       "       [0, 1, 0],\n",
       "       [0, 1, 0],\n",
       "       [0, 1, 0],\n",
       "       [0, 1, 0],\n",
       "       [0, 1, 0],\n",
       "       [0, 1, 0],\n",
       "       [0, 1, 0],\n",
       "       [0, 1, 0],\n",
       "       [0, 1, 0],\n",
       "       [0, 1, 0],\n",
       "       [0, 1, 0],\n",
       "       [0, 1, 0],\n",
       "       [0, 1, 0],\n",
       "       [0, 1, 0],\n",
       "       [0, 1, 0],\n",
       "       [0, 1, 0],\n",
       "       [0, 1, 0],\n",
       "       [0, 0, 1],\n",
       "       [0, 0, 1],\n",
       "       [0, 0, 1],\n",
       "       [0, 0, 1],\n",
       "       [0, 0, 1],\n",
       "       [0, 0, 1],\n",
       "       [0, 0, 1],\n",
       "       [0, 0, 1],\n",
       "       [0, 0, 1],\n",
       "       [0, 0, 1],\n",
       "       [0, 0, 1],\n",
       "       [0, 0, 1],\n",
       "       [0, 0, 1],\n",
       "       [0, 0, 1],\n",
       "       [0, 0, 1],\n",
       "       [0, 0, 1],\n",
       "       [0, 0, 1],\n",
       "       [0, 0, 1],\n",
       "       [0, 0, 1],\n",
       "       [0, 0, 1],\n",
       "       [0, 0, 1],\n",
       "       [0, 0, 1],\n",
       "       [0, 0, 1],\n",
       "       [0, 0, 1],\n",
       "       [0, 0, 1],\n",
       "       [0, 0, 1],\n",
       "       [0, 0, 1],\n",
       "       [0, 0, 1],\n",
       "       [0, 0, 1],\n",
       "       [0, 0, 1],\n",
       "       [0, 0, 1],\n",
       "       [0, 0, 1],\n",
       "       [0, 0, 1],\n",
       "       [0, 0, 1],\n",
       "       [0, 0, 1],\n",
       "       [0, 0, 1],\n",
       "       [0, 0, 1],\n",
       "       [0, 0, 1],\n",
       "       [0, 0, 1],\n",
       "       [0, 0, 1],\n",
       "       [0, 0, 1],\n",
       "       [0, 0, 1],\n",
       "       [0, 0, 1],\n",
       "       [0, 0, 1],\n",
       "       [0, 0, 1],\n",
       "       [0, 0, 1],\n",
       "       [0, 0, 1],\n",
       "       [0, 0, 1],\n",
       "       [0, 0, 1],\n",
       "       [0, 0, 1]], dtype=uint8)"
      ]
     },
     "execution_count": 38,
     "metadata": {},
     "output_type": "execute_result"
    }
   ],
   "source": [
    "import sklearn\n",
    "from sklearn.model_selection import train_test_split\n",
    "from sklearn.preprocessing import LabelEncoder\n",
    "\n",
    "## Bagi menjadi atribut dan label\n",
    "x = df[['SepalLengthCm', 'SepalWidthCm', 'PetalLengthCm', 'PetalWidthCm']]\n",
    "y = df['Species']\n",
    "\n",
    "encoder =  LabelEncoder()\n",
    "y1 = encoder.fit_transform(y)\n",
    "\n",
    "y = pd.get_dummies(y1).values\n",
    "\n",
    "x_train, x_test, y_train, y_test = train_test_split(x, y, test_size=0.2)\n",
    "\n",
    "len(x_test), len(x_train)\n",
    "y"
   ]
  },
  {
   "cell_type": "code",
   "execution_count": 53,
   "metadata": {},
   "outputs": [
    {
     "name": "stdout",
     "output_type": "stream",
     "text": [
      "Model: \"sequential_6\"\n",
      "_________________________________________________________________\n",
      "Layer (type)                 Output Shape              Param #   \n",
      "=================================================================\n",
      "dense_13 (Dense)             (None, 10)                50        \n",
      "_________________________________________________________________\n",
      "dense_14 (Dense)             (None, 8)                 88        \n",
      "_________________________________________________________________\n",
      "dense_15 (Dense)             (None, 6)                 54        \n",
      "_________________________________________________________________\n",
      "dense_16 (Dense)             (None, 3)                 21        \n",
      "=================================================================\n",
      "Total params: 213\n",
      "Trainable params: 213\n",
      "Non-trainable params: 0\n",
      "_________________________________________________________________\n"
     ]
    }
   ],
   "source": [
    "from keras.models import Sequential\n",
    "from keras.layers import Dense, Flatten\n",
    "from keras.optimizers import SGD,Adam\n",
    "\n",
    "model = Sequential()\n",
    "\n",
    "model.add(Dense(10,activation='relu', input_shape=(4,)))\n",
    "model.add(Dense(8,activation='relu'))\n",
    "model.add(Dense(6,activation='relu'))\n",
    "model.add(Dense(3,activation='softmax'))\n",
    "\n",
    "model.summary()"
   ]
  },
  {
   "cell_type": "code",
   "execution_count": 54,
   "metadata": {},
   "outputs": [],
   "source": [
    "model.compile(optimizer=Adam(), loss='categorical_crossentropy',metrics=['accuracy'])"
   ]
  },
  {
   "cell_type": "code",
   "execution_count": 55,
   "metadata": {},
   "outputs": [
    {
     "name": "stdout",
     "output_type": "stream",
     "text": [
      "Epoch 1/100\n",
      "120/120 [==============================] - 1s 10ms/step - loss: 1.0965 - accuracy: 0.3333\n",
      "Epoch 2/100\n",
      "120/120 [==============================] - 0s 271us/step - loss: 1.0444 - accuracy: 0.3333\n",
      "Epoch 3/100\n",
      "120/120 [==============================] - 0s 272us/step - loss: 1.0238 - accuracy: 0.3333\n",
      "Epoch 4/100\n",
      "120/120 [==============================] - 0s 283us/step - loss: 1.0089 - accuracy: 0.3333\n",
      "Epoch 5/100\n",
      "120/120 [==============================] - 0s 257us/step - loss: 1.0024 - accuracy: 0.3333\n",
      "Epoch 6/100\n",
      "120/120 [==============================] - 0s 283us/step - loss: 0.9942 - accuracy: 0.3417\n",
      "Epoch 7/100\n",
      "120/120 [==============================] - 0s 283us/step - loss: 0.9834 - accuracy: 0.3417\n",
      "Epoch 8/100\n",
      "120/120 [==============================] - 0s 280us/step - loss: 0.9725 - accuracy: 0.3333\n",
      "Epoch 9/100\n",
      "120/120 [==============================] - 0s 258us/step - loss: 0.9642 - accuracy: 0.3333\n",
      "Epoch 10/100\n",
      "120/120 [==============================] - 0s 291us/step - loss: 0.9547 - accuracy: 0.3333\n",
      "Epoch 11/100\n",
      "120/120 [==============================] - 0s 276us/step - loss: 0.9460 - accuracy: 0.3333\n",
      "Epoch 12/100\n",
      "120/120 [==============================] - 0s 274us/step - loss: 0.9370 - accuracy: 0.3333\n",
      "Epoch 13/100\n",
      "120/120 [==============================] - 0s 453us/step - loss: 0.9280 - accuracy: 0.3333\n",
      "Epoch 14/100\n",
      "120/120 [==============================] - 0s 466us/step - loss: 0.9189 - accuracy: 0.3667\n",
      "Epoch 15/100\n",
      "120/120 [==============================] - 0s 460us/step - loss: 0.9095 - accuracy: 0.3750\n",
      "Epoch 16/100\n",
      "120/120 [==============================] - 0s 433us/step - loss: 0.9002 - accuracy: 0.4500\n",
      "Epoch 17/100\n",
      "120/120 [==============================] - 0s 433us/step - loss: 0.8907 - accuracy: 0.5083\n",
      "Epoch 18/100\n",
      "120/120 [==============================] - 0s 433us/step - loss: 0.8816 - accuracy: 0.5750\n",
      "Epoch 19/100\n",
      "120/120 [==============================] - 0s 432us/step - loss: 0.8721 - accuracy: 0.6250\n",
      "Epoch 20/100\n",
      "120/120 [==============================] - 0s 467us/step - loss: 0.8618 - accuracy: 0.6417\n",
      "Epoch 21/100\n",
      "120/120 [==============================] - 0s 441us/step - loss: 0.8523 - accuracy: 0.6500\n",
      "Epoch 22/100\n",
      "120/120 [==============================] - 0s 407us/step - loss: 0.8418 - accuracy: 0.6667\n",
      "Epoch 23/100\n",
      "120/120 [==============================] - 0s 441us/step - loss: 0.8323 - accuracy: 0.6667\n",
      "Epoch 24/100\n",
      "120/120 [==============================] - 0s 432us/step - loss: 0.8213 - accuracy: 0.6833\n",
      "Epoch 25/100\n",
      "120/120 [==============================] - 0s 457us/step - loss: 0.8114 - accuracy: 0.6833\n",
      "Epoch 26/100\n",
      "120/120 [==============================] - 0s 424us/step - loss: 0.8016 - accuracy: 0.6833\n",
      "Epoch 27/100\n",
      "120/120 [==============================] - 0s 419us/step - loss: 0.7901 - accuracy: 0.7000\n",
      "Epoch 28/100\n",
      "120/120 [==============================] - 0s 424us/step - loss: 0.7794 - accuracy: 0.6917\n",
      "Epoch 29/100\n",
      "120/120 [==============================] - 0s 407us/step - loss: 0.7691 - accuracy: 0.6833\n",
      "Epoch 30/100\n",
      "120/120 [==============================] - 0s 470us/step - loss: 0.7582 - accuracy: 0.6833\n",
      "Epoch 31/100\n",
      "120/120 [==============================] - 0s 416us/step - loss: 0.7477 - accuracy: 0.7000\n",
      "Epoch 32/100\n",
      "120/120 [==============================] - 0s 445us/step - loss: 0.7361 - accuracy: 0.7083\n",
      "Epoch 33/100\n",
      "120/120 [==============================] - 0s 448us/step - loss: 0.7255 - accuracy: 0.7167\n",
      "Epoch 34/100\n",
      "120/120 [==============================] - 0s 441us/step - loss: 0.7151 - accuracy: 0.7417\n",
      "Epoch 35/100\n",
      "120/120 [==============================] - 0s 421us/step - loss: 0.7045 - accuracy: 0.7583\n",
      "Epoch 36/100\n",
      "120/120 [==============================] - 0s 463us/step - loss: 0.6938 - accuracy: 0.7500\n",
      "Epoch 37/100\n",
      "120/120 [==============================] - 0s 446us/step - loss: 0.6839 - accuracy: 0.7500\n",
      "Epoch 38/100\n",
      "120/120 [==============================] - 0s 432us/step - loss: 0.6744 - accuracy: 0.7333\n",
      "Epoch 39/100\n",
      "120/120 [==============================] - 0s 451us/step - loss: 0.6653 - accuracy: 0.7333\n",
      "Epoch 40/100\n",
      "120/120 [==============================] - 0s 484us/step - loss: 0.6557 - accuracy: 0.7417\n",
      "Epoch 41/100\n",
      "120/120 [==============================] - 0s 449us/step - loss: 0.6465 - accuracy: 0.7750\n",
      "Epoch 42/100\n",
      "120/120 [==============================] - 0s 449us/step - loss: 0.6373 - accuracy: 0.7833\n",
      "Epoch 43/100\n",
      "120/120 [==============================] - 0s 449us/step - loss: 0.6286 - accuracy: 0.8167\n",
      "Epoch 44/100\n",
      "120/120 [==============================] - 0s 474us/step - loss: 0.6193 - accuracy: 0.8167\n",
      "Epoch 45/100\n",
      "120/120 [==============================] - 0s 400us/step - loss: 0.6096 - accuracy: 0.8083\n",
      "Epoch 46/100\n",
      "120/120 [==============================] - 0s 450us/step - loss: 0.6008 - accuracy: 0.8083\n",
      "Epoch 47/100\n",
      "120/120 [==============================] - 0s 449us/step - loss: 0.5920 - accuracy: 0.8167\n",
      "Epoch 48/100\n",
      "120/120 [==============================] - 0s 433us/step - loss: 0.5828 - accuracy: 0.8333\n",
      "Epoch 49/100\n",
      "120/120 [==============================] - 0s 482us/step - loss: 0.5743 - accuracy: 0.8167\n",
      "Epoch 50/100\n",
      "120/120 [==============================] - 0s 468us/step - loss: 0.5655 - accuracy: 0.8333\n",
      "Epoch 51/100\n",
      "120/120 [==============================] - 0s 439us/step - loss: 0.5574 - accuracy: 0.8500\n",
      "Epoch 52/100\n",
      "120/120 [==============================] - 0s 469us/step - loss: 0.5482 - accuracy: 0.8750\n",
      "Epoch 53/100\n",
      "120/120 [==============================] - 0s 455us/step - loss: 0.5399 - accuracy: 0.8833\n",
      "Epoch 54/100\n",
      "120/120 [==============================] - 0s 482us/step - loss: 0.5314 - accuracy: 0.8833\n",
      "Epoch 55/100\n",
      "120/120 [==============================] - 0s 427us/step - loss: 0.5233 - accuracy: 0.8750\n",
      "Epoch 56/100\n",
      "120/120 [==============================] - 0s 433us/step - loss: 0.5152 - accuracy: 0.8583\n",
      "Epoch 57/100\n",
      "120/120 [==============================] - 0s 415us/step - loss: 0.5067 - accuracy: 0.8833\n",
      "Epoch 58/100\n",
      "120/120 [==============================] - 0s 407us/step - loss: 0.4984 - accuracy: 0.9000\n",
      "Epoch 59/100\n",
      "120/120 [==============================] - 0s 436us/step - loss: 0.4938 - accuracy: 0.9333\n",
      "Epoch 60/100\n",
      "120/120 [==============================] - 0s 407us/step - loss: 0.4841 - accuracy: 0.9333\n",
      "Epoch 61/100\n",
      "120/120 [==============================] - 0s 450us/step - loss: 0.4764 - accuracy: 0.9167\n",
      "Epoch 62/100\n",
      "120/120 [==============================] - 0s 420us/step - loss: 0.4690 - accuracy: 0.9083\n",
      "Epoch 63/100\n",
      "120/120 [==============================] - 0s 449us/step - loss: 0.4616 - accuracy: 0.9000\n",
      "Epoch 64/100\n",
      "120/120 [==============================] - 0s 450us/step - loss: 0.4547 - accuracy: 0.9083\n",
      "Epoch 65/100\n",
      "120/120 [==============================] - 0s 416us/step - loss: 0.4475 - accuracy: 0.9250\n",
      "Epoch 66/100\n",
      "120/120 [==============================] - 0s 432us/step - loss: 0.4410 - accuracy: 0.9333\n",
      "Epoch 67/100\n",
      "120/120 [==============================] - 0s 485us/step - loss: 0.4341 - accuracy: 0.9500\n",
      "Epoch 68/100\n",
      "120/120 [==============================] - 0s 449us/step - loss: 0.4277 - accuracy: 0.9500\n",
      "Epoch 69/100\n",
      "120/120 [==============================] - 0s 417us/step - loss: 0.4215 - accuracy: 0.9500\n",
      "Epoch 70/100\n",
      "120/120 [==============================] - 0s 449us/step - loss: 0.4163 - accuracy: 0.9500\n",
      "Epoch 71/100\n",
      "120/120 [==============================] - 0s 449us/step - loss: 0.4088 - accuracy: 0.9500\n",
      "Epoch 72/100\n",
      "120/120 [==============================] - 0s 432us/step - loss: 0.4034 - accuracy: 0.9333\n",
      "Epoch 73/100\n",
      "120/120 [==============================] - 0s 474us/step - loss: 0.3977 - accuracy: 0.9333\n",
      "Epoch 74/100\n",
      "120/120 [==============================] - 0s 482us/step - loss: 0.3924 - accuracy: 0.9417\n",
      "Epoch 75/100\n",
      "120/120 [==============================] - 0s 512us/step - loss: 0.3865 - accuracy: 0.9583\n",
      "Epoch 76/100\n",
      "120/120 [==============================] - 0s 465us/step - loss: 0.3820 - accuracy: 0.9583\n",
      "Epoch 77/100\n",
      "120/120 [==============================] - 0s 467us/step - loss: 0.3756 - accuracy: 0.9583\n",
      "Epoch 78/100\n",
      "120/120 [==============================] - 0s 491us/step - loss: 0.3699 - accuracy: 0.9583\n",
      "Epoch 79/100\n"
     ]
    },
    {
     "name": "stdout",
     "output_type": "stream",
     "text": [
      "120/120 [==============================] - 0s 424us/step - loss: 0.3657 - accuracy: 0.9500\n",
      "Epoch 80/100\n",
      "120/120 [==============================] - 0s 466us/step - loss: 0.3602 - accuracy: 0.9500\n",
      "Epoch 81/100\n",
      "120/120 [==============================] - 0s 451us/step - loss: 0.3550 - accuracy: 0.9583\n",
      "Epoch 82/100\n",
      "120/120 [==============================] - 0s 427us/step - loss: 0.3505 - accuracy: 0.9667\n",
      "Epoch 83/100\n",
      "120/120 [==============================] - 0s 452us/step - loss: 0.3457 - accuracy: 0.9667\n",
      "Epoch 84/100\n",
      "120/120 [==============================] - 0s 423us/step - loss: 0.3411 - accuracy: 0.9667\n",
      "Epoch 85/100\n",
      "120/120 [==============================] - 0s 449us/step - loss: 0.3363 - accuracy: 0.9583\n",
      "Epoch 86/100\n",
      "120/120 [==============================] - 0s 416us/step - loss: 0.3319 - accuracy: 0.9583\n",
      "Epoch 87/100\n",
      "120/120 [==============================] - 0s 428us/step - loss: 0.3278 - accuracy: 0.9583\n",
      "Epoch 88/100\n",
      "120/120 [==============================] - 0s 433us/step - loss: 0.3237 - accuracy: 0.9667\n",
      "Epoch 89/100\n",
      "120/120 [==============================] - 0s 425us/step - loss: 0.3202 - accuracy: 0.9750\n",
      "Epoch 90/100\n",
      "120/120 [==============================] - 0s 439us/step - loss: 0.3159 - accuracy: 0.9667\n",
      "Epoch 91/100\n",
      "120/120 [==============================] - 0s 452us/step - loss: 0.3107 - accuracy: 0.9583\n",
      "Epoch 92/100\n",
      "120/120 [==============================] - 0s 432us/step - loss: 0.3081 - accuracy: 0.9583\n",
      "Epoch 93/100\n",
      "120/120 [==============================] - 0s 473us/step - loss: 0.3024 - accuracy: 0.9667\n",
      "Epoch 94/100\n",
      "120/120 [==============================] - 0s 457us/step - loss: 0.3009 - accuracy: 0.9750\n",
      "Epoch 95/100\n",
      "120/120 [==============================] - 0s 420us/step - loss: 0.2964 - accuracy: 0.9750\n",
      "Epoch 96/100\n",
      "120/120 [==============================] - 0s 449us/step - loss: 0.2917 - accuracy: 0.9750\n",
      "Epoch 97/100\n",
      "120/120 [==============================] - 0s 428us/step - loss: 0.2881 - accuracy: 0.9667\n",
      "Epoch 98/100\n",
      "120/120 [==============================] - 0s 428us/step - loss: 0.2841 - accuracy: 0.9583\n",
      "Epoch 99/100\n",
      "120/120 [==============================] - 0s 445us/step - loss: 0.2798 - accuracy: 0.9667\n",
      "Epoch 100/100\n",
      "120/120 [==============================] - 0s 424us/step - loss: 0.2769 - accuracy: 0.9750\n"
     ]
    },
    {
     "data": {
      "text/plain": [
       "<keras.callbacks.callbacks.History at 0x29ae02ae9c8>"
      ]
     },
     "execution_count": 55,
     "metadata": {},
     "output_type": "execute_result"
    }
   ],
   "source": [
    "model.fit(x_train,y_train,epochs=100)"
   ]
  },
  {
   "cell_type": "code",
   "execution_count": 60,
   "metadata": {},
   "outputs": [
    {
     "data": {
      "text/plain": [
       "1.0"
      ]
     },
     "execution_count": 60,
     "metadata": {},
     "output_type": "execute_result"
    }
   ],
   "source": [
    "import numpy as np\n",
    "y_pred = model.predict(x_test)\n",
    "\n",
    "y_test_class = np.argmax(y_test,axis=1)\n",
    "y_pred_class = np.argmax(y_pred,axis=1)\n",
    "\n",
    "accuracy = (y_pred_class == y_test_class).sum()/len(y_test_class)\n",
    "accuracy"
   ]
  },
  {
   "cell_type": "code",
   "execution_count": 59,
   "metadata": {},
   "outputs": [
    {
     "data": {
      "text/plain": [
       "array([[11,  0,  0],\n",
       "       [ 0,  9,  0],\n",
       "       [ 0,  0, 10]], dtype=int64)"
      ]
     },
     "execution_count": 59,
     "metadata": {},
     "output_type": "execute_result"
    }
   ],
   "source": [
    "from sklearn.metrics import confusion_matrix\n",
    "cm = confusion_matrix(y_pred_class, y_test_class)\n",
    "cm"
   ]
  },
  {
   "cell_type": "code",
   "execution_count": null,
   "metadata": {},
   "outputs": [],
   "source": []
  }
 ],
 "metadata": {
  "kernelspec": {
   "display_name": "Python 3.7.4 64-bit",
   "language": "python",
   "name": "python37464bite6db8bd4905c4497a23eeb50e5c99a2b"
  },
  "language_info": {
   "codemirror_mode": {
    "name": "ipython",
    "version": 3
   },
   "file_extension": ".py",
   "mimetype": "text/x-python",
   "name": "python",
   "nbconvert_exporter": "python",
   "pygments_lexer": "ipython3",
   "version": "3.7.4"
  }
 },
 "nbformat": 4,
 "nbformat_minor": 2
}
