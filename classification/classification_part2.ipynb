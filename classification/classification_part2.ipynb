{
  "nbformat": 4,
  "nbformat_minor": 0,
  "metadata": {
    "kernelspec": {
      "display_name": "Python 3.7.4 64-bit",
      "language": "python",
      "name": "python37464bite6db8bd4905c4497a23eeb50e5c99a2b"
    },
    "language_info": {
      "codemirror_mode": {
        "name": "ipython",
        "version": 3
      },
      "file_extension": ".py",
      "mimetype": "text/x-python",
      "name": "python",
      "nbconvert_exporter": "python",
      "pygments_lexer": "ipython3",
      "version": "3.7.4"
    },
    "colab": {
      "name": "classification_part2.ipynb",
      "provenance": [],
      "collapsed_sections": []
    }
  },
  "cells": [
    {
      "cell_type": "markdown",
      "metadata": {
        "id": "Y3sh2cnfMO34"
      },
      "source": [
        "# Preprocessing data"
      ]
    },
    {
      "cell_type": "code",
      "metadata": {
        "id": "GGBbXOqsMO38",
        "outputId": "4fa897d2-b4a4-4ee8-b505-74e8221b3bee",
        "colab": {
          "base_uri": "https://localhost:8080/",
          "height": 206
        }
      },
      "source": [
        "import pandas as pd\n",
        "import matplotlib.pyplot as plt\n",
        "import seaborn as sns\n",
        "\n",
        "# Import data\n",
        "df = pd.read_csv('/content/drive/My Drive/dataset/Iris.csv')\n",
        "#  Tampilkan 5 data pertama\n",
        "df.tail()"
      ],
      "execution_count": null,
      "outputs": [
        {
          "output_type": "execute_result",
          "data": {
            "text/html": [
              "<div>\n",
              "<style scoped>\n",
              "    .dataframe tbody tr th:only-of-type {\n",
              "        vertical-align: middle;\n",
              "    }\n",
              "\n",
              "    .dataframe tbody tr th {\n",
              "        vertical-align: top;\n",
              "    }\n",
              "\n",
              "    .dataframe thead th {\n",
              "        text-align: right;\n",
              "    }\n",
              "</style>\n",
              "<table border=\"1\" class=\"dataframe\">\n",
              "  <thead>\n",
              "    <tr style=\"text-align: right;\">\n",
              "      <th></th>\n",
              "      <th>Id</th>\n",
              "      <th>SepalLengthCm</th>\n",
              "      <th>SepalWidthCm</th>\n",
              "      <th>PetalLengthCm</th>\n",
              "      <th>PetalWidthCm</th>\n",
              "      <th>Species</th>\n",
              "    </tr>\n",
              "  </thead>\n",
              "  <tbody>\n",
              "    <tr>\n",
              "      <th>145</th>\n",
              "      <td>146</td>\n",
              "      <td>6.7</td>\n",
              "      <td>3.0</td>\n",
              "      <td>5.2</td>\n",
              "      <td>2.3</td>\n",
              "      <td>Iris-virginica</td>\n",
              "    </tr>\n",
              "    <tr>\n",
              "      <th>146</th>\n",
              "      <td>147</td>\n",
              "      <td>6.3</td>\n",
              "      <td>2.5</td>\n",
              "      <td>5.0</td>\n",
              "      <td>1.9</td>\n",
              "      <td>Iris-virginica</td>\n",
              "    </tr>\n",
              "    <tr>\n",
              "      <th>147</th>\n",
              "      <td>148</td>\n",
              "      <td>6.5</td>\n",
              "      <td>3.0</td>\n",
              "      <td>5.2</td>\n",
              "      <td>2.0</td>\n",
              "      <td>Iris-virginica</td>\n",
              "    </tr>\n",
              "    <tr>\n",
              "      <th>148</th>\n",
              "      <td>149</td>\n",
              "      <td>6.2</td>\n",
              "      <td>3.4</td>\n",
              "      <td>5.4</td>\n",
              "      <td>2.3</td>\n",
              "      <td>Iris-virginica</td>\n",
              "    </tr>\n",
              "    <tr>\n",
              "      <th>149</th>\n",
              "      <td>150</td>\n",
              "      <td>5.9</td>\n",
              "      <td>3.0</td>\n",
              "      <td>5.1</td>\n",
              "      <td>1.8</td>\n",
              "      <td>Iris-virginica</td>\n",
              "    </tr>\n",
              "  </tbody>\n",
              "</table>\n",
              "</div>"
            ],
            "text/plain": [
              "      Id  SepalLengthCm  ...  PetalWidthCm         Species\n",
              "145  146            6.7  ...           2.3  Iris-virginica\n",
              "146  147            6.3  ...           1.9  Iris-virginica\n",
              "147  148            6.5  ...           2.0  Iris-virginica\n",
              "148  149            6.2  ...           2.3  Iris-virginica\n",
              "149  150            5.9  ...           1.8  Iris-virginica\n",
              "\n",
              "[5 rows x 6 columns]"
            ]
          },
          "metadata": {
            "tags": []
          },
          "execution_count": 2
        }
      ]
    },
    {
      "cell_type": "code",
      "metadata": {
        "id": "VdYMpQ4NMO4U",
        "outputId": "6e6a9a17-3929-4800-cc54-59eec421d35d",
        "colab": {
          "base_uri": "https://localhost:8080/",
          "height": 206
        }
      },
      "source": [
        "# hapus atribut yang tidak digunakan\n",
        "df.drop(['Id'], axis=1, inplace=True)\n",
        "\n",
        "# tampilkan 5 data pertama\n",
        "df.head()"
      ],
      "execution_count": null,
      "outputs": [
        {
          "output_type": "execute_result",
          "data": {
            "text/html": [
              "<div>\n",
              "<style scoped>\n",
              "    .dataframe tbody tr th:only-of-type {\n",
              "        vertical-align: middle;\n",
              "    }\n",
              "\n",
              "    .dataframe tbody tr th {\n",
              "        vertical-align: top;\n",
              "    }\n",
              "\n",
              "    .dataframe thead th {\n",
              "        text-align: right;\n",
              "    }\n",
              "</style>\n",
              "<table border=\"1\" class=\"dataframe\">\n",
              "  <thead>\n",
              "    <tr style=\"text-align: right;\">\n",
              "      <th></th>\n",
              "      <th>SepalLengthCm</th>\n",
              "      <th>SepalWidthCm</th>\n",
              "      <th>PetalLengthCm</th>\n",
              "      <th>PetalWidthCm</th>\n",
              "      <th>Species</th>\n",
              "    </tr>\n",
              "  </thead>\n",
              "  <tbody>\n",
              "    <tr>\n",
              "      <th>0</th>\n",
              "      <td>5.1</td>\n",
              "      <td>3.5</td>\n",
              "      <td>1.4</td>\n",
              "      <td>0.2</td>\n",
              "      <td>Iris-setosa</td>\n",
              "    </tr>\n",
              "    <tr>\n",
              "      <th>1</th>\n",
              "      <td>4.9</td>\n",
              "      <td>3.0</td>\n",
              "      <td>1.4</td>\n",
              "      <td>0.2</td>\n",
              "      <td>Iris-setosa</td>\n",
              "    </tr>\n",
              "    <tr>\n",
              "      <th>2</th>\n",
              "      <td>4.7</td>\n",
              "      <td>3.2</td>\n",
              "      <td>1.3</td>\n",
              "      <td>0.2</td>\n",
              "      <td>Iris-setosa</td>\n",
              "    </tr>\n",
              "    <tr>\n",
              "      <th>3</th>\n",
              "      <td>4.6</td>\n",
              "      <td>3.1</td>\n",
              "      <td>1.5</td>\n",
              "      <td>0.2</td>\n",
              "      <td>Iris-setosa</td>\n",
              "    </tr>\n",
              "    <tr>\n",
              "      <th>4</th>\n",
              "      <td>5.0</td>\n",
              "      <td>3.6</td>\n",
              "      <td>1.4</td>\n",
              "      <td>0.2</td>\n",
              "      <td>Iris-setosa</td>\n",
              "    </tr>\n",
              "  </tbody>\n",
              "</table>\n",
              "</div>"
            ],
            "text/plain": [
              "   SepalLengthCm  SepalWidthCm  PetalLengthCm  PetalWidthCm      Species\n",
              "0            5.1           3.5            1.4           0.2  Iris-setosa\n",
              "1            4.9           3.0            1.4           0.2  Iris-setosa\n",
              "2            4.7           3.2            1.3           0.2  Iris-setosa\n",
              "3            4.6           3.1            1.5           0.2  Iris-setosa\n",
              "4            5.0           3.6            1.4           0.2  Iris-setosa"
            ]
          },
          "metadata": {
            "tags": []
          },
          "execution_count": 3
        }
      ]
    },
    {
      "cell_type": "code",
      "metadata": {
        "id": "onow5iRiMO4p",
        "outputId": "3d024771-73c0-4296-b0f3-1c93836a05f4",
        "colab": {
          "base_uri": "https://localhost:8080/",
          "height": 36
        }
      },
      "source": [
        "import sklearn\n",
        "from sklearn.model_selection import train_test_split\n",
        "\n",
        "## Bagi menjadi atribut dan label\n",
        "x = df[['SepalLengthCm', 'SepalWidthCm', 'PetalLengthCm', 'PetalWidthCm']]\n",
        "y = df['Species']\n",
        "\n",
        "x_train, x_test, y_train, y_test = train_test_split(x, y, test_size=0.2)\n",
        "\n",
        "len(x_test), len(x_train)"
      ],
      "execution_count": null,
      "outputs": [
        {
          "output_type": "execute_result",
          "data": {
            "text/plain": [
              "(30, 120)"
            ]
          },
          "metadata": {
            "tags": []
          },
          "execution_count": 4
        }
      ]
    },
    {
      "cell_type": "code",
      "metadata": {
        "id": "5YrY4CJsMO44",
        "outputId": "c189b403-8ba2-4bce-d20b-6a424f723666",
        "colab": {
          "base_uri": "https://localhost:8080/",
          "height": 239
        }
      },
      "source": [
        "y_train"
      ],
      "execution_count": null,
      "outputs": [
        {
          "output_type": "execute_result",
          "data": {
            "text/plain": [
              "70     Iris-versicolor\n",
              "42         Iris-setosa\n",
              "51     Iris-versicolor\n",
              "73     Iris-versicolor\n",
              "126     Iris-virginica\n",
              "            ...       \n",
              "98     Iris-versicolor\n",
              "13         Iris-setosa\n",
              "10         Iris-setosa\n",
              "82     Iris-versicolor\n",
              "77     Iris-versicolor\n",
              "Name: Species, Length: 120, dtype: object"
            ]
          },
          "metadata": {
            "tags": []
          },
          "execution_count": 5
        }
      ]
    },
    {
      "cell_type": "markdown",
      "metadata": {
        "id": "UPx69LoGMO5G"
      },
      "source": [
        "# SVM"
      ]
    },
    {
      "cell_type": "code",
      "metadata": {
        "id": "hX6XKdH8MO5J",
        "outputId": "1d271c19-f44f-459f-abf8-0ead828b075b",
        "colab": {
          "base_uri": "https://localhost:8080/",
          "height": 91
        }
      },
      "source": [
        "from sklearn import svm\n",
        "\n",
        "# Create Model\n",
        "model_svm = svm.SVC(kernel='rbf')\n",
        "# Training model\n",
        "model_svm.fit(x_train, y_train)"
      ],
      "execution_count": null,
      "outputs": [
        {
          "output_type": "execute_result",
          "data": {
            "text/plain": [
              "SVC(C=1.0, break_ties=False, cache_size=200, class_weight=None, coef0=0.0,\n",
              "    decision_function_shape='ovr', degree=3, gamma='scale', kernel='rbf',\n",
              "    max_iter=-1, probability=False, random_state=None, shrinking=True,\n",
              "    tol=0.001, verbose=False)"
            ]
          },
          "metadata": {
            "tags": []
          },
          "execution_count": 6
        }
      ]
    },
    {
      "cell_type": "code",
      "metadata": {
        "id": "1lOZ_TkhMO5W",
        "outputId": "8228305f-071e-4cdb-b390-350e5203be9a",
        "colab": {
          "base_uri": "https://localhost:8080/",
          "height": 36
        }
      },
      "source": [
        "# Predict model\n",
        "pred_svm = model_svm.predict(x_test)\n",
        "# Evaluate using data test\n",
        "accuracy = (pred_svm == y_test).sum()/len(y_test)\n",
        "accuracy"
      ],
      "execution_count": null,
      "outputs": [
        {
          "output_type": "execute_result",
          "data": {
            "text/plain": [
              "0.9"
            ]
          },
          "metadata": {
            "tags": []
          },
          "execution_count": 7
        }
      ]
    },
    {
      "cell_type": "code",
      "metadata": {
        "id": "RCYkbyCRMO5k",
        "outputId": "ec538136-6636-46e1-8e68-ff9128c3f2a5",
        "colab": {
          "base_uri": "https://localhost:8080/",
          "height": 73
        }
      },
      "source": [
        "from sklearn.metrics import confusion_matrix\n",
        "cm = confusion_matrix(pred_svm, y_test)\n",
        "cm"
      ],
      "execution_count": null,
      "outputs": [
        {
          "output_type": "execute_result",
          "data": {
            "text/plain": [
              "array([[11,  0,  0],\n",
              "       [ 0,  6,  2],\n",
              "       [ 0,  1, 10]])"
            ]
          },
          "metadata": {
            "tags": []
          },
          "execution_count": 8
        }
      ]
    },
    {
      "cell_type": "markdown",
      "metadata": {
        "id": "0weiLd8dMO5u"
      },
      "source": [
        "# ANN"
      ]
    },
    {
      "cell_type": "markdown",
      "metadata": {
        "id": "xJyCdWKUMO5w"
      },
      "source": [
        "## SKLearn"
      ]
    },
    {
      "cell_type": "code",
      "metadata": {
        "id": "1ZYEdMJ3MO5y",
        "outputId": "24cdac7e-1ced-4a7d-970d-880c5b00d8e5",
        "colab": {
          "base_uri": "https://localhost:8080/",
          "height": 222
        }
      },
      "source": [
        "from sklearn.neural_network import MLPClassifier\n",
        "# Create model\n",
        "model_mlp = MLPClassifier(hidden_layer_sizes=(8,16,32,64,32,8,4))\n",
        "# Training model\n",
        "model_mlp.fit(x_train, y_train)\n"
      ],
      "execution_count": null,
      "outputs": [
        {
          "output_type": "stream",
          "text": [
            "/usr/local/lib/python3.6/dist-packages/sklearn/neural_network/_multilayer_perceptron.py:571: ConvergenceWarning: Stochastic Optimizer: Maximum iterations (200) reached and the optimization hasn't converged yet.\n",
            "  % self.max_iter, ConvergenceWarning)\n"
          ],
          "name": "stderr"
        },
        {
          "output_type": "execute_result",
          "data": {
            "text/plain": [
              "MLPClassifier(activation='relu', alpha=0.0001, batch_size='auto', beta_1=0.9,\n",
              "              beta_2=0.999, early_stopping=False, epsilon=1e-08,\n",
              "              hidden_layer_sizes=(8, 16, 32, 64, 32, 8, 4),\n",
              "              learning_rate='constant', learning_rate_init=0.001, max_fun=15000,\n",
              "              max_iter=200, momentum=0.9, n_iter_no_change=10,\n",
              "              nesterovs_momentum=True, power_t=0.5, random_state=None,\n",
              "              shuffle=True, solver='adam', tol=0.0001, validation_fraction=0.1,\n",
              "              verbose=False, warm_start=False)"
            ]
          },
          "metadata": {
            "tags": []
          },
          "execution_count": 8
        }
      ]
    },
    {
      "cell_type": "code",
      "metadata": {
        "id": "b5cuctegMO5-",
        "outputId": "df5a6b17-1070-4bf3-d4ad-4094dd9eeb25",
        "colab": {
          "base_uri": "https://localhost:8080/",
          "height": 36
        }
      },
      "source": [
        "# Predict model\n",
        "pred_mlp = model_mlp.predict(x_test)\n",
        "# Evaluate using data test\n",
        "accuracy = (pred_mlp == y_test).sum()/len(y_test)\n",
        "accuracy"
      ],
      "execution_count": null,
      "outputs": [
        {
          "output_type": "execute_result",
          "data": {
            "text/plain": [
              "0.7333333333333333"
            ]
          },
          "metadata": {
            "tags": []
          },
          "execution_count": 9
        }
      ]
    },
    {
      "cell_type": "code",
      "metadata": {
        "id": "dcuB6u-iMO6J",
        "outputId": "907ce1d8-ea67-4430-b263-186737cffc73",
        "colab": {
          "base_uri": "https://localhost:8080/",
          "height": 73
        }
      },
      "source": [
        "from sklearn.metrics import confusion_matrix\n",
        "cm = confusion_matrix(pred_mlp, y_test)\n",
        "cm"
      ],
      "execution_count": null,
      "outputs": [
        {
          "output_type": "execute_result",
          "data": {
            "text/plain": [
              "array([[ 8,  8,  0],\n",
              "       [ 0,  0,  0],\n",
              "       [ 0,  0, 14]])"
            ]
          },
          "metadata": {
            "tags": []
          },
          "execution_count": 10
        }
      ]
    },
    {
      "cell_type": "markdown",
      "metadata": {
        "id": "c0t3wjNdMO6U"
      },
      "source": [
        "## Keras Tensorflow"
      ]
    },
    {
      "cell_type": "code",
      "metadata": {
        "id": "P011j_CrTUuf",
        "outputId": "c9851dc5-a217-4c03-d2bd-a7de95e92926",
        "colab": {
          "base_uri": "https://localhost:8080/",
          "height": 206
        }
      },
      "source": [
        "import pandas as pd\n",
        "import matplotlib.pyplot as plt\n",
        "import seaborn as sns\n",
        "\n",
        "# Import data\n",
        "df = pd.read_csv('/content/drive/My Drive/dataset/Iris.csv')\n",
        "#  Tampilkan 5 data pertama\n",
        "df.tail()"
      ],
      "execution_count": null,
      "outputs": [
        {
          "output_type": "execute_result",
          "data": {
            "text/html": [
              "<div>\n",
              "<style scoped>\n",
              "    .dataframe tbody tr th:only-of-type {\n",
              "        vertical-align: middle;\n",
              "    }\n",
              "\n",
              "    .dataframe tbody tr th {\n",
              "        vertical-align: top;\n",
              "    }\n",
              "\n",
              "    .dataframe thead th {\n",
              "        text-align: right;\n",
              "    }\n",
              "</style>\n",
              "<table border=\"1\" class=\"dataframe\">\n",
              "  <thead>\n",
              "    <tr style=\"text-align: right;\">\n",
              "      <th></th>\n",
              "      <th>Id</th>\n",
              "      <th>SepalLengthCm</th>\n",
              "      <th>SepalWidthCm</th>\n",
              "      <th>PetalLengthCm</th>\n",
              "      <th>PetalWidthCm</th>\n",
              "      <th>Species</th>\n",
              "    </tr>\n",
              "  </thead>\n",
              "  <tbody>\n",
              "    <tr>\n",
              "      <th>145</th>\n",
              "      <td>146</td>\n",
              "      <td>6.7</td>\n",
              "      <td>3.0</td>\n",
              "      <td>5.2</td>\n",
              "      <td>2.3</td>\n",
              "      <td>Iris-virginica</td>\n",
              "    </tr>\n",
              "    <tr>\n",
              "      <th>146</th>\n",
              "      <td>147</td>\n",
              "      <td>6.3</td>\n",
              "      <td>2.5</td>\n",
              "      <td>5.0</td>\n",
              "      <td>1.9</td>\n",
              "      <td>Iris-virginica</td>\n",
              "    </tr>\n",
              "    <tr>\n",
              "      <th>147</th>\n",
              "      <td>148</td>\n",
              "      <td>6.5</td>\n",
              "      <td>3.0</td>\n",
              "      <td>5.2</td>\n",
              "      <td>2.0</td>\n",
              "      <td>Iris-virginica</td>\n",
              "    </tr>\n",
              "    <tr>\n",
              "      <th>148</th>\n",
              "      <td>149</td>\n",
              "      <td>6.2</td>\n",
              "      <td>3.4</td>\n",
              "      <td>5.4</td>\n",
              "      <td>2.3</td>\n",
              "      <td>Iris-virginica</td>\n",
              "    </tr>\n",
              "    <tr>\n",
              "      <th>149</th>\n",
              "      <td>150</td>\n",
              "      <td>5.9</td>\n",
              "      <td>3.0</td>\n",
              "      <td>5.1</td>\n",
              "      <td>1.8</td>\n",
              "      <td>Iris-virginica</td>\n",
              "    </tr>\n",
              "  </tbody>\n",
              "</table>\n",
              "</div>"
            ],
            "text/plain": [
              "      Id  SepalLengthCm  ...  PetalWidthCm         Species\n",
              "145  146            6.7  ...           2.3  Iris-virginica\n",
              "146  147            6.3  ...           1.9  Iris-virginica\n",
              "147  148            6.5  ...           2.0  Iris-virginica\n",
              "148  149            6.2  ...           2.3  Iris-virginica\n",
              "149  150            5.9  ...           1.8  Iris-virginica\n",
              "\n",
              "[5 rows x 6 columns]"
            ]
          },
          "metadata": {
            "tags": []
          },
          "execution_count": 11
        }
      ]
    },
    {
      "cell_type": "code",
      "metadata": {
        "id": "F6Vv1y87TYtB",
        "outputId": "f67f1c63-20b3-4920-8e1a-905e89be9de3",
        "colab": {
          "base_uri": "https://localhost:8080/",
          "height": 206
        }
      },
      "source": [
        "# hapus atribut yang tidak digunakan\n",
        "df.drop(['Id'], axis=1, inplace=True)\n",
        "\n",
        "# tampilkan 5 data pertama\n",
        "df.head()"
      ],
      "execution_count": null,
      "outputs": [
        {
          "output_type": "execute_result",
          "data": {
            "text/html": [
              "<div>\n",
              "<style scoped>\n",
              "    .dataframe tbody tr th:only-of-type {\n",
              "        vertical-align: middle;\n",
              "    }\n",
              "\n",
              "    .dataframe tbody tr th {\n",
              "        vertical-align: top;\n",
              "    }\n",
              "\n",
              "    .dataframe thead th {\n",
              "        text-align: right;\n",
              "    }\n",
              "</style>\n",
              "<table border=\"1\" class=\"dataframe\">\n",
              "  <thead>\n",
              "    <tr style=\"text-align: right;\">\n",
              "      <th></th>\n",
              "      <th>SepalLengthCm</th>\n",
              "      <th>SepalWidthCm</th>\n",
              "      <th>PetalLengthCm</th>\n",
              "      <th>PetalWidthCm</th>\n",
              "      <th>Species</th>\n",
              "    </tr>\n",
              "  </thead>\n",
              "  <tbody>\n",
              "    <tr>\n",
              "      <th>0</th>\n",
              "      <td>5.1</td>\n",
              "      <td>3.5</td>\n",
              "      <td>1.4</td>\n",
              "      <td>0.2</td>\n",
              "      <td>Iris-setosa</td>\n",
              "    </tr>\n",
              "    <tr>\n",
              "      <th>1</th>\n",
              "      <td>4.9</td>\n",
              "      <td>3.0</td>\n",
              "      <td>1.4</td>\n",
              "      <td>0.2</td>\n",
              "      <td>Iris-setosa</td>\n",
              "    </tr>\n",
              "    <tr>\n",
              "      <th>2</th>\n",
              "      <td>4.7</td>\n",
              "      <td>3.2</td>\n",
              "      <td>1.3</td>\n",
              "      <td>0.2</td>\n",
              "      <td>Iris-setosa</td>\n",
              "    </tr>\n",
              "    <tr>\n",
              "      <th>3</th>\n",
              "      <td>4.6</td>\n",
              "      <td>3.1</td>\n",
              "      <td>1.5</td>\n",
              "      <td>0.2</td>\n",
              "      <td>Iris-setosa</td>\n",
              "    </tr>\n",
              "    <tr>\n",
              "      <th>4</th>\n",
              "      <td>5.0</td>\n",
              "      <td>3.6</td>\n",
              "      <td>1.4</td>\n",
              "      <td>0.2</td>\n",
              "      <td>Iris-setosa</td>\n",
              "    </tr>\n",
              "  </tbody>\n",
              "</table>\n",
              "</div>"
            ],
            "text/plain": [
              "   SepalLengthCm  SepalWidthCm  PetalLengthCm  PetalWidthCm      Species\n",
              "0            5.1           3.5            1.4           0.2  Iris-setosa\n",
              "1            4.9           3.0            1.4           0.2  Iris-setosa\n",
              "2            4.7           3.2            1.3           0.2  Iris-setosa\n",
              "3            4.6           3.1            1.5           0.2  Iris-setosa\n",
              "4            5.0           3.6            1.4           0.2  Iris-setosa"
            ]
          },
          "metadata": {
            "tags": []
          },
          "execution_count": 12
        }
      ]
    },
    {
      "cell_type": "code",
      "metadata": {
        "id": "65VBzWJrMO6W",
        "outputId": "bbf5be66-5f97-44c8-8176-22cfc07d3145",
        "colab": {
          "base_uri": "https://localhost:8080/",
          "height": 36
        }
      },
      "source": [
        "import sklearn\n",
        "from sklearn.model_selection import train_test_split\n",
        "from sklearn.preprocessing import LabelEncoder\n",
        "\n",
        "## Bagi menjadi atribut dan label\n",
        "x = df[['SepalLengthCm', 'SepalWidthCm', 'PetalLengthCm', 'PetalWidthCm']]\n",
        "y = df['Species']\n",
        "\n",
        "encoder =  LabelEncoder()\n",
        "y1 = encoder.fit_transform(y)\n",
        "\n",
        "y = pd.get_dummies(y1).values\n",
        "\n",
        "x_train, x_test, y_train, y_test = train_test_split(x, y, test_size=0.2)\n",
        "x_train, x_val, y_train, y_val = train_test_split(x_train, y_train, test_size=0.2)\n",
        "\n",
        "len(x_test), len(x_train), len(x_val)"
      ],
      "execution_count": null,
      "outputs": [
        {
          "output_type": "execute_result",
          "data": {
            "text/plain": [
              "(30, 96, 24)"
            ]
          },
          "metadata": {
            "tags": []
          },
          "execution_count": 17
        }
      ]
    },
    {
      "cell_type": "code",
      "metadata": {
        "id": "_K7PjvR1jXxG",
        "outputId": "4b0295c9-8dfb-4e08-ed74-d334a82f9f4c",
        "colab": {
          "base_uri": "https://localhost:8080/",
          "height": 1000
        }
      },
      "source": [
        "y"
      ],
      "execution_count": null,
      "outputs": [
        {
          "output_type": "execute_result",
          "data": {
            "text/plain": [
              "array([[1, 0, 0],\n",
              "       [1, 0, 0],\n",
              "       [1, 0, 0],\n",
              "       [1, 0, 0],\n",
              "       [1, 0, 0],\n",
              "       [1, 0, 0],\n",
              "       [1, 0, 0],\n",
              "       [1, 0, 0],\n",
              "       [1, 0, 0],\n",
              "       [1, 0, 0],\n",
              "       [1, 0, 0],\n",
              "       [1, 0, 0],\n",
              "       [1, 0, 0],\n",
              "       [1, 0, 0],\n",
              "       [1, 0, 0],\n",
              "       [1, 0, 0],\n",
              "       [1, 0, 0],\n",
              "       [1, 0, 0],\n",
              "       [1, 0, 0],\n",
              "       [1, 0, 0],\n",
              "       [1, 0, 0],\n",
              "       [1, 0, 0],\n",
              "       [1, 0, 0],\n",
              "       [1, 0, 0],\n",
              "       [1, 0, 0],\n",
              "       [1, 0, 0],\n",
              "       [1, 0, 0],\n",
              "       [1, 0, 0],\n",
              "       [1, 0, 0],\n",
              "       [1, 0, 0],\n",
              "       [1, 0, 0],\n",
              "       [1, 0, 0],\n",
              "       [1, 0, 0],\n",
              "       [1, 0, 0],\n",
              "       [1, 0, 0],\n",
              "       [1, 0, 0],\n",
              "       [1, 0, 0],\n",
              "       [1, 0, 0],\n",
              "       [1, 0, 0],\n",
              "       [1, 0, 0],\n",
              "       [1, 0, 0],\n",
              "       [1, 0, 0],\n",
              "       [1, 0, 0],\n",
              "       [1, 0, 0],\n",
              "       [1, 0, 0],\n",
              "       [1, 0, 0],\n",
              "       [1, 0, 0],\n",
              "       [1, 0, 0],\n",
              "       [1, 0, 0],\n",
              "       [1, 0, 0],\n",
              "       [0, 1, 0],\n",
              "       [0, 1, 0],\n",
              "       [0, 1, 0],\n",
              "       [0, 1, 0],\n",
              "       [0, 1, 0],\n",
              "       [0, 1, 0],\n",
              "       [0, 1, 0],\n",
              "       [0, 1, 0],\n",
              "       [0, 1, 0],\n",
              "       [0, 1, 0],\n",
              "       [0, 1, 0],\n",
              "       [0, 1, 0],\n",
              "       [0, 1, 0],\n",
              "       [0, 1, 0],\n",
              "       [0, 1, 0],\n",
              "       [0, 1, 0],\n",
              "       [0, 1, 0],\n",
              "       [0, 1, 0],\n",
              "       [0, 1, 0],\n",
              "       [0, 1, 0],\n",
              "       [0, 1, 0],\n",
              "       [0, 1, 0],\n",
              "       [0, 1, 0],\n",
              "       [0, 1, 0],\n",
              "       [0, 1, 0],\n",
              "       [0, 1, 0],\n",
              "       [0, 1, 0],\n",
              "       [0, 1, 0],\n",
              "       [0, 1, 0],\n",
              "       [0, 1, 0],\n",
              "       [0, 1, 0],\n",
              "       [0, 1, 0],\n",
              "       [0, 1, 0],\n",
              "       [0, 1, 0],\n",
              "       [0, 1, 0],\n",
              "       [0, 1, 0],\n",
              "       [0, 1, 0],\n",
              "       [0, 1, 0],\n",
              "       [0, 1, 0],\n",
              "       [0, 1, 0],\n",
              "       [0, 1, 0],\n",
              "       [0, 1, 0],\n",
              "       [0, 1, 0],\n",
              "       [0, 1, 0],\n",
              "       [0, 1, 0],\n",
              "       [0, 1, 0],\n",
              "       [0, 1, 0],\n",
              "       [0, 1, 0],\n",
              "       [0, 1, 0],\n",
              "       [0, 1, 0],\n",
              "       [0, 0, 1],\n",
              "       [0, 0, 1],\n",
              "       [0, 0, 1],\n",
              "       [0, 0, 1],\n",
              "       [0, 0, 1],\n",
              "       [0, 0, 1],\n",
              "       [0, 0, 1],\n",
              "       [0, 0, 1],\n",
              "       [0, 0, 1],\n",
              "       [0, 0, 1],\n",
              "       [0, 0, 1],\n",
              "       [0, 0, 1],\n",
              "       [0, 0, 1],\n",
              "       [0, 0, 1],\n",
              "       [0, 0, 1],\n",
              "       [0, 0, 1],\n",
              "       [0, 0, 1],\n",
              "       [0, 0, 1],\n",
              "       [0, 0, 1],\n",
              "       [0, 0, 1],\n",
              "       [0, 0, 1],\n",
              "       [0, 0, 1],\n",
              "       [0, 0, 1],\n",
              "       [0, 0, 1],\n",
              "       [0, 0, 1],\n",
              "       [0, 0, 1],\n",
              "       [0, 0, 1],\n",
              "       [0, 0, 1],\n",
              "       [0, 0, 1],\n",
              "       [0, 0, 1],\n",
              "       [0, 0, 1],\n",
              "       [0, 0, 1],\n",
              "       [0, 0, 1],\n",
              "       [0, 0, 1],\n",
              "       [0, 0, 1],\n",
              "       [0, 0, 1],\n",
              "       [0, 0, 1],\n",
              "       [0, 0, 1],\n",
              "       [0, 0, 1],\n",
              "       [0, 0, 1],\n",
              "       [0, 0, 1],\n",
              "       [0, 0, 1],\n",
              "       [0, 0, 1],\n",
              "       [0, 0, 1],\n",
              "       [0, 0, 1],\n",
              "       [0, 0, 1],\n",
              "       [0, 0, 1],\n",
              "       [0, 0, 1],\n",
              "       [0, 0, 1],\n",
              "       [0, 0, 1]], dtype=uint8)"
            ]
          },
          "metadata": {
            "tags": []
          },
          "execution_count": 18
        }
      ]
    },
    {
      "cell_type": "code",
      "metadata": {
        "id": "yTKH2hQ5MO6h",
        "outputId": "74c5581c-a976-4f91-d7d6-486efc32a0f9",
        "colab": {
          "base_uri": "https://localhost:8080/",
          "height": 313
        }
      },
      "source": [
        "from keras.models import Sequential\n",
        "from keras.layers import Dense, Flatten\n",
        "from keras.optimizers import Adam\n",
        "\n",
        "model = Sequential()\n",
        "\n",
        "model.add(Dense(10,activation='relu', input_shape=(4,)))\n",
        "model.add(Dense(8,activation='relu'))\n",
        "model.add(Dense(6,activation='relu'))\n",
        "model.add(Dense(3,activation='softmax'))\n",
        "\n",
        "model.summary()"
      ],
      "execution_count": null,
      "outputs": [
        {
          "output_type": "stream",
          "text": [
            "Model: \"sequential\"\n",
            "_________________________________________________________________\n",
            "Layer (type)                 Output Shape              Param #   \n",
            "=================================================================\n",
            "dense (Dense)                (None, 10)                50        \n",
            "_________________________________________________________________\n",
            "dense_1 (Dense)              (None, 8)                 88        \n",
            "_________________________________________________________________\n",
            "dense_2 (Dense)              (None, 6)                 54        \n",
            "_________________________________________________________________\n",
            "dense_3 (Dense)              (None, 3)                 21        \n",
            "=================================================================\n",
            "Total params: 213\n",
            "Trainable params: 213\n",
            "Non-trainable params: 0\n",
            "_________________________________________________________________\n"
          ],
          "name": "stdout"
        }
      ]
    },
    {
      "cell_type": "code",
      "metadata": {
        "id": "N2e7uZ75MO6p"
      },
      "source": [
        "model.compile(optimizer=Adam(), loss='categorical_crossentropy', metrics=['accuracy'])"
      ],
      "execution_count": null,
      "outputs": []
    },
    {
      "cell_type": "code",
      "metadata": {
        "id": "DbPpR4FcMO6v",
        "outputId": "344d625e-b731-45fe-e600-39e46aaba880",
        "colab": {
          "base_uri": "https://localhost:8080/",
          "height": 1000
        }
      },
      "source": [
        "history = model.fit(x_train, y_train, epochs=200, validation_data=(x_val, y_val))"
      ],
      "execution_count": null,
      "outputs": [
        {
          "output_type": "stream",
          "text": [
            "Epoch 1/200\n",
            "3/3 [==============================] - 0s 67ms/step - loss: 0.9334 - accuracy: 0.3125 - val_loss: 0.8911 - val_accuracy: 0.3750\n",
            "Epoch 2/200\n",
            "3/3 [==============================] - 0s 7ms/step - loss: 0.9221 - accuracy: 0.3125 - val_loss: 0.8831 - val_accuracy: 0.3750\n",
            "Epoch 3/200\n",
            "3/3 [==============================] - 0s 8ms/step - loss: 0.9129 - accuracy: 0.3125 - val_loss: 0.8768 - val_accuracy: 0.3750\n",
            "Epoch 4/200\n",
            "3/3 [==============================] - 0s 7ms/step - loss: 0.9062 - accuracy: 0.3333 - val_loss: 0.8718 - val_accuracy: 0.3750\n",
            "Epoch 5/200\n",
            "3/3 [==============================] - 0s 7ms/step - loss: 0.8996 - accuracy: 0.4062 - val_loss: 0.8672 - val_accuracy: 0.5417\n",
            "Epoch 6/200\n",
            "3/3 [==============================] - 0s 7ms/step - loss: 0.8943 - accuracy: 0.5104 - val_loss: 0.8628 - val_accuracy: 0.5833\n",
            "Epoch 7/200\n",
            "3/3 [==============================] - 0s 7ms/step - loss: 0.8892 - accuracy: 0.5938 - val_loss: 0.8590 - val_accuracy: 0.6250\n",
            "Epoch 8/200\n",
            "3/3 [==============================] - 0s 6ms/step - loss: 0.8844 - accuracy: 0.6146 - val_loss: 0.8557 - val_accuracy: 0.6250\n",
            "Epoch 9/200\n",
            "3/3 [==============================] - 0s 7ms/step - loss: 0.8799 - accuracy: 0.6250 - val_loss: 0.8524 - val_accuracy: 0.6250\n",
            "Epoch 10/200\n",
            "3/3 [==============================] - 0s 7ms/step - loss: 0.8761 - accuracy: 0.6250 - val_loss: 0.8494 - val_accuracy: 0.6250\n",
            "Epoch 11/200\n",
            "3/3 [==============================] - 0s 7ms/step - loss: 0.8715 - accuracy: 0.6250 - val_loss: 0.8462 - val_accuracy: 0.6250\n",
            "Epoch 12/200\n",
            "3/3 [==============================] - 0s 7ms/step - loss: 0.8677 - accuracy: 0.6250 - val_loss: 0.8431 - val_accuracy: 0.6250\n",
            "Epoch 13/200\n",
            "3/3 [==============================] - 0s 7ms/step - loss: 0.8639 - accuracy: 0.6042 - val_loss: 0.8399 - val_accuracy: 0.6250\n",
            "Epoch 14/200\n",
            "3/3 [==============================] - 0s 9ms/step - loss: 0.8603 - accuracy: 0.6146 - val_loss: 0.8370 - val_accuracy: 0.6250\n",
            "Epoch 15/200\n",
            "3/3 [==============================] - 0s 7ms/step - loss: 0.8562 - accuracy: 0.6250 - val_loss: 0.8337 - val_accuracy: 0.6250\n",
            "Epoch 16/200\n",
            "3/3 [==============================] - 0s 8ms/step - loss: 0.8525 - accuracy: 0.6250 - val_loss: 0.8302 - val_accuracy: 0.6667\n",
            "Epoch 17/200\n",
            "3/3 [==============================] - 0s 8ms/step - loss: 0.8485 - accuracy: 0.6354 - val_loss: 0.8266 - val_accuracy: 0.6667\n",
            "Epoch 18/200\n",
            "3/3 [==============================] - 0s 8ms/step - loss: 0.8447 - accuracy: 0.6354 - val_loss: 0.8230 - val_accuracy: 0.6667\n",
            "Epoch 19/200\n",
            "3/3 [==============================] - 0s 7ms/step - loss: 0.8409 - accuracy: 0.6458 - val_loss: 0.8196 - val_accuracy: 0.7083\n",
            "Epoch 20/200\n",
            "3/3 [==============================] - 0s 7ms/step - loss: 0.8372 - accuracy: 0.6458 - val_loss: 0.8159 - val_accuracy: 0.7083\n",
            "Epoch 21/200\n",
            "3/3 [==============================] - 0s 6ms/step - loss: 0.8335 - accuracy: 0.6458 - val_loss: 0.8124 - val_accuracy: 0.7083\n",
            "Epoch 22/200\n",
            "3/3 [==============================] - 0s 7ms/step - loss: 0.8300 - accuracy: 0.6458 - val_loss: 0.8093 - val_accuracy: 0.7083\n",
            "Epoch 23/200\n",
            "3/3 [==============================] - 0s 8ms/step - loss: 0.8264 - accuracy: 0.6458 - val_loss: 0.8059 - val_accuracy: 0.7083\n",
            "Epoch 24/200\n",
            "3/3 [==============================] - 0s 8ms/step - loss: 0.8230 - accuracy: 0.6458 - val_loss: 0.8029 - val_accuracy: 0.7083\n",
            "Epoch 25/200\n",
            "3/3 [==============================] - 0s 7ms/step - loss: 0.8194 - accuracy: 0.6458 - val_loss: 0.7997 - val_accuracy: 0.7083\n",
            "Epoch 26/200\n",
            "3/3 [==============================] - 0s 8ms/step - loss: 0.8160 - accuracy: 0.6458 - val_loss: 0.7965 - val_accuracy: 0.7083\n",
            "Epoch 27/200\n",
            "3/3 [==============================] - 0s 8ms/step - loss: 0.8127 - accuracy: 0.6458 - val_loss: 0.7931 - val_accuracy: 0.7083\n",
            "Epoch 28/200\n",
            "3/3 [==============================] - 0s 7ms/step - loss: 0.8094 - accuracy: 0.6458 - val_loss: 0.7900 - val_accuracy: 0.7083\n",
            "Epoch 29/200\n",
            "3/3 [==============================] - 0s 7ms/step - loss: 0.8061 - accuracy: 0.6458 - val_loss: 0.7866 - val_accuracy: 0.7083\n",
            "Epoch 30/200\n",
            "3/3 [==============================] - 0s 7ms/step - loss: 0.8029 - accuracy: 0.6458 - val_loss: 0.7826 - val_accuracy: 0.7083\n",
            "Epoch 31/200\n",
            "3/3 [==============================] - 0s 7ms/step - loss: 0.7992 - accuracy: 0.6458 - val_loss: 0.7795 - val_accuracy: 0.7083\n",
            "Epoch 32/200\n",
            "3/3 [==============================] - 0s 8ms/step - loss: 0.7960 - accuracy: 0.6562 - val_loss: 0.7761 - val_accuracy: 0.7083\n",
            "Epoch 33/200\n",
            "3/3 [==============================] - 0s 8ms/step - loss: 0.7925 - accuracy: 0.6562 - val_loss: 0.7721 - val_accuracy: 0.7083\n",
            "Epoch 34/200\n",
            "3/3 [==============================] - 0s 8ms/step - loss: 0.7887 - accuracy: 0.6562 - val_loss: 0.7689 - val_accuracy: 0.7083\n",
            "Epoch 35/200\n",
            "3/3 [==============================] - 0s 7ms/step - loss: 0.7856 - accuracy: 0.6562 - val_loss: 0.7662 - val_accuracy: 0.7083\n",
            "Epoch 36/200\n",
            "3/3 [==============================] - 0s 6ms/step - loss: 0.7822 - accuracy: 0.6562 - val_loss: 0.7626 - val_accuracy: 0.7083\n",
            "Epoch 37/200\n",
            "3/3 [==============================] - 0s 8ms/step - loss: 0.7792 - accuracy: 0.6562 - val_loss: 0.7581 - val_accuracy: 0.7083\n",
            "Epoch 38/200\n",
            "3/3 [==============================] - 0s 8ms/step - loss: 0.7754 - accuracy: 0.6562 - val_loss: 0.7542 - val_accuracy: 0.7083\n",
            "Epoch 39/200\n",
            "3/3 [==============================] - 0s 9ms/step - loss: 0.7718 - accuracy: 0.6562 - val_loss: 0.7507 - val_accuracy: 0.7083\n",
            "Epoch 40/200\n",
            "3/3 [==============================] - 0s 8ms/step - loss: 0.7686 - accuracy: 0.6562 - val_loss: 0.7475 - val_accuracy: 0.7083\n",
            "Epoch 41/200\n",
            "3/3 [==============================] - 0s 8ms/step - loss: 0.7651 - accuracy: 0.6562 - val_loss: 0.7441 - val_accuracy: 0.7083\n",
            "Epoch 42/200\n",
            "3/3 [==============================] - 0s 8ms/step - loss: 0.7614 - accuracy: 0.6562 - val_loss: 0.7406 - val_accuracy: 0.7083\n",
            "Epoch 43/200\n",
            "3/3 [==============================] - 0s 7ms/step - loss: 0.7578 - accuracy: 0.6562 - val_loss: 0.7373 - val_accuracy: 0.7083\n",
            "Epoch 44/200\n",
            "3/3 [==============================] - 0s 7ms/step - loss: 0.7545 - accuracy: 0.6562 - val_loss: 0.7337 - val_accuracy: 0.7083\n",
            "Epoch 45/200\n",
            "3/3 [==============================] - 0s 7ms/step - loss: 0.7507 - accuracy: 0.6562 - val_loss: 0.7298 - val_accuracy: 0.7083\n",
            "Epoch 46/200\n",
            "3/3 [==============================] - 0s 7ms/step - loss: 0.7471 - accuracy: 0.6562 - val_loss: 0.7261 - val_accuracy: 0.7083\n",
            "Epoch 47/200\n",
            "3/3 [==============================] - 0s 8ms/step - loss: 0.7433 - accuracy: 0.6562 - val_loss: 0.7225 - val_accuracy: 0.7083\n",
            "Epoch 48/200\n",
            "3/3 [==============================] - 0s 8ms/step - loss: 0.7396 - accuracy: 0.6562 - val_loss: 0.7187 - val_accuracy: 0.7083\n",
            "Epoch 49/200\n",
            "3/3 [==============================] - 0s 11ms/step - loss: 0.7364 - accuracy: 0.6562 - val_loss: 0.7153 - val_accuracy: 0.7083\n",
            "Epoch 50/200\n",
            "3/3 [==============================] - 0s 9ms/step - loss: 0.7328 - accuracy: 0.6562 - val_loss: 0.7103 - val_accuracy: 0.7083\n",
            "Epoch 51/200\n",
            "3/3 [==============================] - 0s 7ms/step - loss: 0.7281 - accuracy: 0.6562 - val_loss: 0.7063 - val_accuracy: 0.7083\n",
            "Epoch 52/200\n",
            "3/3 [==============================] - 0s 7ms/step - loss: 0.7237 - accuracy: 0.6562 - val_loss: 0.7026 - val_accuracy: 0.7083\n",
            "Epoch 53/200\n",
            "3/3 [==============================] - 0s 7ms/step - loss: 0.7200 - accuracy: 0.6562 - val_loss: 0.6983 - val_accuracy: 0.7083\n",
            "Epoch 54/200\n",
            "3/3 [==============================] - 0s 7ms/step - loss: 0.7157 - accuracy: 0.6771 - val_loss: 0.6948 - val_accuracy: 0.7083\n",
            "Epoch 55/200\n",
            "3/3 [==============================] - 0s 7ms/step - loss: 0.7116 - accuracy: 0.6771 - val_loss: 0.6908 - val_accuracy: 0.7500\n",
            "Epoch 56/200\n",
            "3/3 [==============================] - 0s 9ms/step - loss: 0.7070 - accuracy: 0.6875 - val_loss: 0.6874 - val_accuracy: 0.7500\n",
            "Epoch 57/200\n",
            "3/3 [==============================] - 0s 8ms/step - loss: 0.7024 - accuracy: 0.6875 - val_loss: 0.6833 - val_accuracy: 0.7500\n",
            "Epoch 58/200\n",
            "3/3 [==============================] - 0s 7ms/step - loss: 0.6971 - accuracy: 0.6875 - val_loss: 0.6782 - val_accuracy: 0.7500\n",
            "Epoch 59/200\n",
            "3/3 [==============================] - 0s 7ms/step - loss: 0.6918 - accuracy: 0.6875 - val_loss: 0.6730 - val_accuracy: 0.7500\n",
            "Epoch 60/200\n",
            "3/3 [==============================] - 0s 8ms/step - loss: 0.6865 - accuracy: 0.6875 - val_loss: 0.6667 - val_accuracy: 0.7500\n",
            "Epoch 61/200\n",
            "3/3 [==============================] - 0s 7ms/step - loss: 0.6805 - accuracy: 0.6875 - val_loss: 0.6604 - val_accuracy: 0.7500\n",
            "Epoch 62/200\n",
            "3/3 [==============================] - 0s 7ms/step - loss: 0.6742 - accuracy: 0.6875 - val_loss: 0.6545 - val_accuracy: 0.7917\n",
            "Epoch 63/200\n",
            "3/3 [==============================] - 0s 9ms/step - loss: 0.6677 - accuracy: 0.6979 - val_loss: 0.6476 - val_accuracy: 0.8333\n",
            "Epoch 64/200\n",
            "3/3 [==============================] - 0s 7ms/step - loss: 0.6609 - accuracy: 0.7188 - val_loss: 0.6403 - val_accuracy: 0.8333\n",
            "Epoch 65/200\n",
            "3/3 [==============================] - 0s 7ms/step - loss: 0.6542 - accuracy: 0.7292 - val_loss: 0.6336 - val_accuracy: 0.8750\n",
            "Epoch 66/200\n",
            "3/3 [==============================] - 0s 8ms/step - loss: 0.6468 - accuracy: 0.7500 - val_loss: 0.6248 - val_accuracy: 0.9167\n",
            "Epoch 67/200\n",
            "3/3 [==============================] - 0s 8ms/step - loss: 0.6390 - accuracy: 0.7292 - val_loss: 0.6163 - val_accuracy: 0.9167\n",
            "Epoch 68/200\n",
            "3/3 [==============================] - 0s 8ms/step - loss: 0.6313 - accuracy: 0.7396 - val_loss: 0.6082 - val_accuracy: 0.9167\n",
            "Epoch 69/200\n",
            "3/3 [==============================] - 0s 7ms/step - loss: 0.6229 - accuracy: 0.7708 - val_loss: 0.5997 - val_accuracy: 0.9167\n",
            "Epoch 70/200\n",
            "3/3 [==============================] - 0s 8ms/step - loss: 0.6147 - accuracy: 0.7917 - val_loss: 0.5910 - val_accuracy: 0.9167\n",
            "Epoch 71/200\n",
            "3/3 [==============================] - 0s 7ms/step - loss: 0.6061 - accuracy: 0.7917 - val_loss: 0.5836 - val_accuracy: 0.9583\n",
            "Epoch 72/200\n",
            "3/3 [==============================] - 0s 7ms/step - loss: 0.5968 - accuracy: 0.8125 - val_loss: 0.5754 - val_accuracy: 0.9583\n",
            "Epoch 73/200\n",
            "3/3 [==============================] - 0s 8ms/step - loss: 0.5882 - accuracy: 0.8229 - val_loss: 0.5647 - val_accuracy: 0.9583\n",
            "Epoch 74/200\n",
            "3/3 [==============================] - 0s 7ms/step - loss: 0.5783 - accuracy: 0.8229 - val_loss: 0.5549 - val_accuracy: 0.9583\n",
            "Epoch 75/200\n",
            "3/3 [==============================] - 0s 8ms/step - loss: 0.5694 - accuracy: 0.8229 - val_loss: 0.5454 - val_accuracy: 0.9583\n",
            "Epoch 76/200\n",
            "3/3 [==============================] - 0s 7ms/step - loss: 0.5592 - accuracy: 0.8333 - val_loss: 0.5351 - val_accuracy: 0.9583\n",
            "Epoch 77/200\n",
            "3/3 [==============================] - 0s 7ms/step - loss: 0.5505 - accuracy: 0.8333 - val_loss: 0.5243 - val_accuracy: 0.9583\n",
            "Epoch 78/200\n",
            "3/3 [==============================] - 0s 7ms/step - loss: 0.5404 - accuracy: 0.8333 - val_loss: 0.5155 - val_accuracy: 0.9583\n",
            "Epoch 79/200\n",
            "3/3 [==============================] - 0s 7ms/step - loss: 0.5310 - accuracy: 0.8542 - val_loss: 0.5061 - val_accuracy: 0.9583\n",
            "Epoch 80/200\n",
            "3/3 [==============================] - 0s 8ms/step - loss: 0.5217 - accuracy: 0.8750 - val_loss: 0.4976 - val_accuracy: 0.9583\n",
            "Epoch 81/200\n",
            "3/3 [==============================] - 0s 7ms/step - loss: 0.5130 - accuracy: 0.8750 - val_loss: 0.4888 - val_accuracy: 1.0000\n",
            "Epoch 82/200\n",
            "3/3 [==============================] - 0s 7ms/step - loss: 0.5036 - accuracy: 0.8750 - val_loss: 0.4783 - val_accuracy: 1.0000\n",
            "Epoch 83/200\n",
            "3/3 [==============================] - 0s 8ms/step - loss: 0.4950 - accuracy: 0.8750 - val_loss: 0.4687 - val_accuracy: 1.0000\n",
            "Epoch 84/200\n",
            "3/3 [==============================] - 0s 9ms/step - loss: 0.4863 - accuracy: 0.8750 - val_loss: 0.4608 - val_accuracy: 1.0000\n",
            "Epoch 85/200\n",
            "3/3 [==============================] - 0s 8ms/step - loss: 0.4774 - accuracy: 0.8750 - val_loss: 0.4511 - val_accuracy: 1.0000\n",
            "Epoch 86/200\n",
            "3/3 [==============================] - 0s 7ms/step - loss: 0.4693 - accuracy: 0.9062 - val_loss: 0.4434 - val_accuracy: 0.9583\n",
            "Epoch 87/200\n",
            "3/3 [==============================] - 0s 9ms/step - loss: 0.4609 - accuracy: 0.9167 - val_loss: 0.4340 - val_accuracy: 0.9583\n",
            "Epoch 88/200\n",
            "3/3 [==============================] - 0s 7ms/step - loss: 0.4535 - accuracy: 0.9062 - val_loss: 0.4276 - val_accuracy: 0.9583\n",
            "Epoch 89/200\n",
            "3/3 [==============================] - 0s 8ms/step - loss: 0.4453 - accuracy: 0.9062 - val_loss: 0.4191 - val_accuracy: 0.9583\n",
            "Epoch 90/200\n",
            "3/3 [==============================] - 0s 9ms/step - loss: 0.4376 - accuracy: 0.9062 - val_loss: 0.4105 - val_accuracy: 0.9583\n",
            "Epoch 91/200\n",
            "3/3 [==============================] - 0s 8ms/step - loss: 0.4303 - accuracy: 0.9167 - val_loss: 0.4017 - val_accuracy: 0.9583\n",
            "Epoch 92/200\n",
            "3/3 [==============================] - 0s 9ms/step - loss: 0.4234 - accuracy: 0.9062 - val_loss: 0.3934 - val_accuracy: 0.9583\n",
            "Epoch 93/200\n",
            "3/3 [==============================] - 0s 7ms/step - loss: 0.4170 - accuracy: 0.9167 - val_loss: 0.3846 - val_accuracy: 1.0000\n",
            "Epoch 94/200\n",
            "3/3 [==============================] - 0s 8ms/step - loss: 0.4103 - accuracy: 0.9167 - val_loss: 0.3778 - val_accuracy: 0.9583\n",
            "Epoch 95/200\n",
            "3/3 [==============================] - 0s 7ms/step - loss: 0.4050 - accuracy: 0.9167 - val_loss: 0.3766 - val_accuracy: 0.9583\n",
            "Epoch 96/200\n",
            "3/3 [==============================] - 0s 7ms/step - loss: 0.3981 - accuracy: 0.9062 - val_loss: 0.3693 - val_accuracy: 0.9583\n",
            "Epoch 97/200\n",
            "3/3 [==============================] - 0s 7ms/step - loss: 0.3922 - accuracy: 0.9062 - val_loss: 0.3607 - val_accuracy: 0.9583\n",
            "Epoch 98/200\n",
            "3/3 [==============================] - 0s 7ms/step - loss: 0.3869 - accuracy: 0.9062 - val_loss: 0.3549 - val_accuracy: 0.9583\n",
            "Epoch 99/200\n",
            "3/3 [==============================] - 0s 8ms/step - loss: 0.3814 - accuracy: 0.9167 - val_loss: 0.3461 - val_accuracy: 0.9583\n",
            "Epoch 100/200\n",
            "3/3 [==============================] - 0s 8ms/step - loss: 0.3766 - accuracy: 0.9167 - val_loss: 0.3372 - val_accuracy: 1.0000\n",
            "Epoch 101/200\n",
            "3/3 [==============================] - 0s 8ms/step - loss: 0.3713 - accuracy: 0.9375 - val_loss: 0.3336 - val_accuracy: 0.9583\n",
            "Epoch 102/200\n",
            "3/3 [==============================] - 0s 7ms/step - loss: 0.3661 - accuracy: 0.9167 - val_loss: 0.3309 - val_accuracy: 0.9583\n",
            "Epoch 103/200\n",
            "3/3 [==============================] - 0s 7ms/step - loss: 0.3612 - accuracy: 0.9062 - val_loss: 0.3274 - val_accuracy: 0.9583\n",
            "Epoch 104/200\n",
            "3/3 [==============================] - 0s 7ms/step - loss: 0.3569 - accuracy: 0.9062 - val_loss: 0.3221 - val_accuracy: 0.9583\n",
            "Epoch 105/200\n",
            "3/3 [==============================] - 0s 7ms/step - loss: 0.3526 - accuracy: 0.9271 - val_loss: 0.3174 - val_accuracy: 0.9583\n",
            "Epoch 106/200\n",
            "3/3 [==============================] - 0s 7ms/step - loss: 0.3481 - accuracy: 0.9167 - val_loss: 0.3101 - val_accuracy: 0.9583\n",
            "Epoch 107/200\n",
            "3/3 [==============================] - 0s 8ms/step - loss: 0.3447 - accuracy: 0.9167 - val_loss: 0.3002 - val_accuracy: 1.0000\n",
            "Epoch 108/200\n",
            "3/3 [==============================] - 0s 7ms/step - loss: 0.3403 - accuracy: 0.9167 - val_loss: 0.2977 - val_accuracy: 0.9583\n",
            "Epoch 109/200\n",
            "3/3 [==============================] - 0s 10ms/step - loss: 0.3368 - accuracy: 0.9062 - val_loss: 0.2971 - val_accuracy: 0.9583\n",
            "Epoch 110/200\n",
            "3/3 [==============================] - 0s 11ms/step - loss: 0.3323 - accuracy: 0.9271 - val_loss: 0.2912 - val_accuracy: 0.9583\n",
            "Epoch 111/200\n",
            "3/3 [==============================] - 0s 7ms/step - loss: 0.3285 - accuracy: 0.9062 - val_loss: 0.2837 - val_accuracy: 1.0000\n",
            "Epoch 112/200\n",
            "3/3 [==============================] - 0s 7ms/step - loss: 0.3247 - accuracy: 0.9167 - val_loss: 0.2799 - val_accuracy: 0.9583\n",
            "Epoch 113/200\n",
            "3/3 [==============================] - 0s 7ms/step - loss: 0.3213 - accuracy: 0.9062 - val_loss: 0.2766 - val_accuracy: 0.9583\n",
            "Epoch 114/200\n",
            "3/3 [==============================] - 0s 7ms/step - loss: 0.3181 - accuracy: 0.9062 - val_loss: 0.2707 - val_accuracy: 1.0000\n",
            "Epoch 115/200\n",
            "3/3 [==============================] - 0s 8ms/step - loss: 0.3158 - accuracy: 0.9271 - val_loss: 0.2715 - val_accuracy: 0.9583\n",
            "Epoch 116/200\n",
            "3/3 [==============================] - 0s 7ms/step - loss: 0.3109 - accuracy: 0.9271 - val_loss: 0.2641 - val_accuracy: 0.9583\n",
            "Epoch 117/200\n",
            "3/3 [==============================] - 0s 7ms/step - loss: 0.3080 - accuracy: 0.9167 - val_loss: 0.2559 - val_accuracy: 1.0000\n",
            "Epoch 118/200\n",
            "3/3 [==============================] - 0s 8ms/step - loss: 0.3042 - accuracy: 0.9167 - val_loss: 0.2535 - val_accuracy: 1.0000\n",
            "Epoch 119/200\n",
            "3/3 [==============================] - 0s 7ms/step - loss: 0.3023 - accuracy: 0.9271 - val_loss: 0.2573 - val_accuracy: 0.9583\n",
            "Epoch 120/200\n",
            "3/3 [==============================] - 0s 8ms/step - loss: 0.2986 - accuracy: 0.9375 - val_loss: 0.2539 - val_accuracy: 0.9583\n",
            "Epoch 121/200\n",
            "3/3 [==============================] - 0s 8ms/step - loss: 0.2957 - accuracy: 0.9271 - val_loss: 0.2436 - val_accuracy: 1.0000\n",
            "Epoch 122/200\n",
            "3/3 [==============================] - 0s 8ms/step - loss: 0.2934 - accuracy: 0.9271 - val_loss: 0.2422 - val_accuracy: 1.0000\n",
            "Epoch 123/200\n",
            "3/3 [==============================] - 0s 7ms/step - loss: 0.2887 - accuracy: 0.9271 - val_loss: 0.2361 - val_accuracy: 1.0000\n",
            "Epoch 124/200\n",
            "3/3 [==============================] - 0s 7ms/step - loss: 0.2861 - accuracy: 0.9271 - val_loss: 0.2299 - val_accuracy: 1.0000\n",
            "Epoch 125/200\n",
            "3/3 [==============================] - 0s 7ms/step - loss: 0.2835 - accuracy: 0.9375 - val_loss: 0.2271 - val_accuracy: 1.0000\n",
            "Epoch 126/200\n",
            "3/3 [==============================] - 0s 7ms/step - loss: 0.2801 - accuracy: 0.9271 - val_loss: 0.2278 - val_accuracy: 1.0000\n",
            "Epoch 127/200\n",
            "3/3 [==============================] - 0s 7ms/step - loss: 0.2777 - accuracy: 0.9375 - val_loss: 0.2321 - val_accuracy: 0.9583\n",
            "Epoch 128/200\n",
            "3/3 [==============================] - 0s 7ms/step - loss: 0.2768 - accuracy: 0.9271 - val_loss: 0.2244 - val_accuracy: 1.0000\n",
            "Epoch 129/200\n",
            "3/3 [==============================] - 0s 7ms/step - loss: 0.2734 - accuracy: 0.9271 - val_loss: 0.2165 - val_accuracy: 1.0000\n",
            "Epoch 130/200\n",
            "3/3 [==============================] - 0s 8ms/step - loss: 0.2696 - accuracy: 0.9271 - val_loss: 0.2177 - val_accuracy: 1.0000\n",
            "Epoch 131/200\n",
            "3/3 [==============================] - 0s 8ms/step - loss: 0.2667 - accuracy: 0.9375 - val_loss: 0.2143 - val_accuracy: 1.0000\n",
            "Epoch 132/200\n",
            "3/3 [==============================] - 0s 8ms/step - loss: 0.2644 - accuracy: 0.9375 - val_loss: 0.2130 - val_accuracy: 1.0000\n",
            "Epoch 133/200\n",
            "3/3 [==============================] - 0s 9ms/step - loss: 0.2621 - accuracy: 0.9375 - val_loss: 0.2104 - val_accuracy: 1.0000\n",
            "Epoch 134/200\n",
            "3/3 [==============================] - 0s 8ms/step - loss: 0.2595 - accuracy: 0.9375 - val_loss: 0.2038 - val_accuracy: 1.0000\n",
            "Epoch 135/200\n",
            "3/3 [==============================] - 0s 7ms/step - loss: 0.2572 - accuracy: 0.9271 - val_loss: 0.2024 - val_accuracy: 1.0000\n",
            "Epoch 136/200\n",
            "3/3 [==============================] - 0s 7ms/step - loss: 0.2553 - accuracy: 0.9271 - val_loss: 0.1966 - val_accuracy: 1.0000\n",
            "Epoch 137/200\n",
            "3/3 [==============================] - 0s 7ms/step - loss: 0.2529 - accuracy: 0.9375 - val_loss: 0.1983 - val_accuracy: 1.0000\n",
            "Epoch 138/200\n",
            "3/3 [==============================] - 0s 7ms/step - loss: 0.2502 - accuracy: 0.9375 - val_loss: 0.1954 - val_accuracy: 1.0000\n",
            "Epoch 139/200\n",
            "3/3 [==============================] - 0s 8ms/step - loss: 0.2487 - accuracy: 0.9375 - val_loss: 0.1881 - val_accuracy: 1.0000\n",
            "Epoch 140/200\n",
            "3/3 [==============================] - 0s 8ms/step - loss: 0.2459 - accuracy: 0.9375 - val_loss: 0.1866 - val_accuracy: 1.0000\n",
            "Epoch 141/200\n",
            "3/3 [==============================] - 0s 9ms/step - loss: 0.2449 - accuracy: 0.9271 - val_loss: 0.1896 - val_accuracy: 1.0000\n",
            "Epoch 142/200\n",
            "3/3 [==============================] - 0s 7ms/step - loss: 0.2420 - accuracy: 0.9375 - val_loss: 0.1818 - val_accuracy: 1.0000\n",
            "Epoch 143/200\n",
            "3/3 [==============================] - 0s 7ms/step - loss: 0.2392 - accuracy: 0.9271 - val_loss: 0.1775 - val_accuracy: 1.0000\n",
            "Epoch 144/200\n",
            "3/3 [==============================] - 0s 7ms/step - loss: 0.2377 - accuracy: 0.9375 - val_loss: 0.1738 - val_accuracy: 1.0000\n",
            "Epoch 145/200\n",
            "3/3 [==============================] - 0s 8ms/step - loss: 0.2352 - accuracy: 0.9375 - val_loss: 0.1746 - val_accuracy: 1.0000\n",
            "Epoch 146/200\n",
            "3/3 [==============================] - 0s 8ms/step - loss: 0.2342 - accuracy: 0.9375 - val_loss: 0.1772 - val_accuracy: 1.0000\n",
            "Epoch 147/200\n",
            "3/3 [==============================] - 0s 7ms/step - loss: 0.2314 - accuracy: 0.9479 - val_loss: 0.1722 - val_accuracy: 1.0000\n",
            "Epoch 148/200\n",
            "3/3 [==============================] - 0s 10ms/step - loss: 0.2291 - accuracy: 0.9375 - val_loss: 0.1653 - val_accuracy: 1.0000\n",
            "Epoch 149/200\n",
            "3/3 [==============================] - 0s 8ms/step - loss: 0.2279 - accuracy: 0.9479 - val_loss: 0.1604 - val_accuracy: 1.0000\n",
            "Epoch 150/200\n",
            "3/3 [==============================] - 0s 8ms/step - loss: 0.2261 - accuracy: 0.9583 - val_loss: 0.1595 - val_accuracy: 1.0000\n",
            "Epoch 151/200\n",
            "3/3 [==============================] - 0s 8ms/step - loss: 0.2239 - accuracy: 0.9375 - val_loss: 0.1628 - val_accuracy: 1.0000\n",
            "Epoch 152/200\n",
            "3/3 [==============================] - 0s 7ms/step - loss: 0.2220 - accuracy: 0.9479 - val_loss: 0.1635 - val_accuracy: 1.0000\n",
            "Epoch 153/200\n",
            "3/3 [==============================] - 0s 11ms/step - loss: 0.2201 - accuracy: 0.9479 - val_loss: 0.1574 - val_accuracy: 1.0000\n",
            "Epoch 154/200\n",
            "3/3 [==============================] - 0s 8ms/step - loss: 0.2177 - accuracy: 0.9479 - val_loss: 0.1525 - val_accuracy: 1.0000\n",
            "Epoch 155/200\n",
            "3/3 [==============================] - 0s 8ms/step - loss: 0.2170 - accuracy: 0.9479 - val_loss: 0.1520 - val_accuracy: 1.0000\n",
            "Epoch 156/200\n",
            "3/3 [==============================] - 0s 7ms/step - loss: 0.2154 - accuracy: 0.9479 - val_loss: 0.1462 - val_accuracy: 1.0000\n",
            "Epoch 157/200\n",
            "3/3 [==============================] - 0s 8ms/step - loss: 0.2133 - accuracy: 0.9479 - val_loss: 0.1439 - val_accuracy: 1.0000\n",
            "Epoch 158/200\n",
            "3/3 [==============================] - 0s 8ms/step - loss: 0.2128 - accuracy: 0.9479 - val_loss: 0.1498 - val_accuracy: 1.0000\n",
            "Epoch 159/200\n",
            "3/3 [==============================] - 0s 9ms/step - loss: 0.2096 - accuracy: 0.9479 - val_loss: 0.1470 - val_accuracy: 1.0000\n",
            "Epoch 160/200\n",
            "3/3 [==============================] - 0s 9ms/step - loss: 0.2079 - accuracy: 0.9479 - val_loss: 0.1400 - val_accuracy: 1.0000\n",
            "Epoch 161/200\n",
            "3/3 [==============================] - 0s 8ms/step - loss: 0.2058 - accuracy: 0.9479 - val_loss: 0.1366 - val_accuracy: 1.0000\n",
            "Epoch 162/200\n",
            "3/3 [==============================] - 0s 7ms/step - loss: 0.2051 - accuracy: 0.9688 - val_loss: 0.1329 - val_accuracy: 1.0000\n",
            "Epoch 163/200\n",
            "3/3 [==============================] - 0s 7ms/step - loss: 0.2029 - accuracy: 0.9583 - val_loss: 0.1339 - val_accuracy: 1.0000\n",
            "Epoch 164/200\n",
            "3/3 [==============================] - 0s 8ms/step - loss: 0.2036 - accuracy: 0.9479 - val_loss: 0.1404 - val_accuracy: 1.0000\n",
            "Epoch 165/200\n",
            "3/3 [==============================] - 0s 8ms/step - loss: 0.2016 - accuracy: 0.9479 - val_loss: 0.1327 - val_accuracy: 1.0000\n",
            "Epoch 166/200\n",
            "3/3 [==============================] - 0s 8ms/step - loss: 0.1981 - accuracy: 0.9479 - val_loss: 0.1282 - val_accuracy: 1.0000\n",
            "Epoch 167/200\n",
            "3/3 [==============================] - 0s 7ms/step - loss: 0.1966 - accuracy: 0.9479 - val_loss: 0.1280 - val_accuracy: 1.0000\n",
            "Epoch 168/200\n",
            "3/3 [==============================] - 0s 7ms/step - loss: 0.1954 - accuracy: 0.9479 - val_loss: 0.1244 - val_accuracy: 1.0000\n",
            "Epoch 169/200\n",
            "3/3 [==============================] - 0s 9ms/step - loss: 0.1940 - accuracy: 0.9479 - val_loss: 0.1251 - val_accuracy: 1.0000\n",
            "Epoch 170/200\n",
            "3/3 [==============================] - 0s 7ms/step - loss: 0.1926 - accuracy: 0.9479 - val_loss: 0.1214 - val_accuracy: 1.0000\n",
            "Epoch 171/200\n",
            "3/3 [==============================] - 0s 8ms/step - loss: 0.1907 - accuracy: 0.9479 - val_loss: 0.1214 - val_accuracy: 1.0000\n",
            "Epoch 172/200\n",
            "3/3 [==============================] - 0s 7ms/step - loss: 0.1902 - accuracy: 0.9479 - val_loss: 0.1197 - val_accuracy: 1.0000\n",
            "Epoch 173/200\n",
            "3/3 [==============================] - 0s 7ms/step - loss: 0.1883 - accuracy: 0.9479 - val_loss: 0.1160 - val_accuracy: 1.0000\n",
            "Epoch 174/200\n",
            "3/3 [==============================] - 0s 7ms/step - loss: 0.1876 - accuracy: 0.9583 - val_loss: 0.1131 - val_accuracy: 1.0000\n",
            "Epoch 175/200\n",
            "3/3 [==============================] - 0s 9ms/step - loss: 0.1853 - accuracy: 0.9688 - val_loss: 0.1135 - val_accuracy: 1.0000\n",
            "Epoch 176/200\n",
            "3/3 [==============================] - 0s 7ms/step - loss: 0.1850 - accuracy: 0.9479 - val_loss: 0.1176 - val_accuracy: 1.0000\n",
            "Epoch 177/200\n",
            "3/3 [==============================] - 0s 7ms/step - loss: 0.1839 - accuracy: 0.9479 - val_loss: 0.1161 - val_accuracy: 1.0000\n",
            "Epoch 178/200\n",
            "3/3 [==============================] - 0s 7ms/step - loss: 0.1827 - accuracy: 0.9479 - val_loss: 0.1074 - val_accuracy: 1.0000\n",
            "Epoch 179/200\n",
            "3/3 [==============================] - 0s 7ms/step - loss: 0.1805 - accuracy: 0.9479 - val_loss: 0.1060 - val_accuracy: 1.0000\n",
            "Epoch 180/200\n",
            "3/3 [==============================] - 0s 6ms/step - loss: 0.1792 - accuracy: 0.9688 - val_loss: 0.1037 - val_accuracy: 1.0000\n",
            "Epoch 181/200\n",
            "3/3 [==============================] - 0s 7ms/step - loss: 0.1781 - accuracy: 0.9688 - val_loss: 0.1048 - val_accuracy: 1.0000\n",
            "Epoch 182/200\n",
            "3/3 [==============================] - 0s 7ms/step - loss: 0.1774 - accuracy: 0.9479 - val_loss: 0.1063 - val_accuracy: 1.0000\n",
            "Epoch 183/200\n",
            "3/3 [==============================] - 0s 7ms/step - loss: 0.1754 - accuracy: 0.9479 - val_loss: 0.1026 - val_accuracy: 1.0000\n",
            "Epoch 184/200\n",
            "3/3 [==============================] - 0s 7ms/step - loss: 0.1744 - accuracy: 0.9583 - val_loss: 0.0990 - val_accuracy: 1.0000\n",
            "Epoch 185/200\n",
            "3/3 [==============================] - 0s 7ms/step - loss: 0.1733 - accuracy: 0.9688 - val_loss: 0.0973 - val_accuracy: 1.0000\n",
            "Epoch 186/200\n",
            "3/3 [==============================] - 0s 7ms/step - loss: 0.1720 - accuracy: 0.9688 - val_loss: 0.0983 - val_accuracy: 1.0000\n",
            "Epoch 187/200\n",
            "3/3 [==============================] - 0s 8ms/step - loss: 0.1711 - accuracy: 0.9479 - val_loss: 0.0974 - val_accuracy: 1.0000\n",
            "Epoch 188/200\n",
            "3/3 [==============================] - 0s 10ms/step - loss: 0.1701 - accuracy: 0.9479 - val_loss: 0.0946 - val_accuracy: 1.0000\n",
            "Epoch 189/200\n",
            "3/3 [==============================] - 0s 7ms/step - loss: 0.1690 - accuracy: 0.9583 - val_loss: 0.0933 - val_accuracy: 1.0000\n",
            "Epoch 190/200\n",
            "3/3 [==============================] - 0s 7ms/step - loss: 0.1678 - accuracy: 0.9583 - val_loss: 0.0945 - val_accuracy: 1.0000\n",
            "Epoch 191/200\n",
            "3/3 [==============================] - 0s 7ms/step - loss: 0.1668 - accuracy: 0.9479 - val_loss: 0.0934 - val_accuracy: 1.0000\n",
            "Epoch 192/200\n",
            "3/3 [==============================] - 0s 8ms/step - loss: 0.1656 - accuracy: 0.9479 - val_loss: 0.0902 - val_accuracy: 1.0000\n",
            "Epoch 193/200\n",
            "3/3 [==============================] - 0s 8ms/step - loss: 0.1650 - accuracy: 0.9479 - val_loss: 0.0885 - val_accuracy: 1.0000\n",
            "Epoch 194/200\n",
            "3/3 [==============================] - 0s 7ms/step - loss: 0.1634 - accuracy: 0.9583 - val_loss: 0.0870 - val_accuracy: 1.0000\n",
            "Epoch 195/200\n",
            "3/3 [==============================] - 0s 8ms/step - loss: 0.1631 - accuracy: 0.9583 - val_loss: 0.0849 - val_accuracy: 1.0000\n",
            "Epoch 196/200\n",
            "3/3 [==============================] - 0s 8ms/step - loss: 0.1636 - accuracy: 0.9583 - val_loss: 0.0883 - val_accuracy: 1.0000\n",
            "Epoch 197/200\n",
            "3/3 [==============================] - 0s 8ms/step - loss: 0.1606 - accuracy: 0.9479 - val_loss: 0.0857 - val_accuracy: 1.0000\n",
            "Epoch 198/200\n",
            "3/3 [==============================] - 0s 8ms/step - loss: 0.1597 - accuracy: 0.9583 - val_loss: 0.0812 - val_accuracy: 1.0000\n",
            "Epoch 199/200\n",
            "3/3 [==============================] - 0s 7ms/step - loss: 0.1586 - accuracy: 0.9688 - val_loss: 0.0802 - val_accuracy: 1.0000\n",
            "Epoch 200/200\n",
            "3/3 [==============================] - 0s 7ms/step - loss: 0.1582 - accuracy: 0.9479 - val_loss: 0.0816 - val_accuracy: 1.0000\n"
          ],
          "name": "stdout"
        }
      ]
    },
    {
      "cell_type": "code",
      "metadata": {
        "id": "Y-g54PeRRLT1",
        "outputId": "ee6c185a-f0b4-40ac-f5a0-f3713b889f89",
        "colab": {
          "base_uri": "https://localhost:8080/",
          "height": 281
        }
      },
      "source": [
        "import matplotlib.pyplot as plt\n",
        "\n",
        "acc = history.history['accuracy']\n",
        "val_acc = history.history['val_accuracy']\n",
        "epochs = range(1, len(acc) + 1)\n",
        "\n",
        "#Train and validation accuracy\n",
        "plt.figure()\n",
        "plt.plot(epochs, acc, 'blue', label='Training accurarcy')\n",
        "plt.plot(epochs, val_acc, 'black', label='Validation accurarcy')\n",
        "plt.title('Training and Validation accurarcy')\n",
        "plt.legend()\n",
        "\n",
        "#Show Plot\n",
        "plt.show()"
      ],
      "execution_count": null,
      "outputs": [
        {
          "output_type": "display_data",
          "data": {
            "image/png": "[encoded data removed]",
            "text/plain": [
              "<Figure size 432x288 with 1 Axes>"
            ]
          },
          "metadata": {
            "tags": [],
            "needs_background": "light"
          }
        }
      ]
    },
    {
      "cell_type": "code",
      "metadata": {
        "id": "ZwEcE7pvMO62",
        "outputId": "b7f686a0-e64e-4262-a360-649cf4aecba9",
        "colab": {
          "base_uri": "https://localhost:8080/",
          "height": 36
        }
      },
      "source": [
        "import numpy as np\n",
        "y_pred = model.predict(x_test)\n",
        "\n",
        "y_test_class = np.argmax(y_test,axis=1)\n",
        "y_pred_class = np.argmax(y_pred,axis=1)\n",
        "\n",
        "accuracy = (y_pred_class == y_test_class).sum()/len(y_test_class)\n",
        "accuracy"
      ],
      "execution_count": null,
      "outputs": [
        {
          "output_type": "execute_result",
          "data": {
            "text/plain": [
              "0.9666666666666667"
            ]
          },
          "metadata": {
            "tags": []
          },
          "execution_count": 23
        }
      ]
    },
    {
      "cell_type": "code",
      "metadata": {
        "id": "lMbp8tMFn4bT",
        "outputId": "387f21b8-327b-400d-e84b-b6e604f141a6",
        "colab": {
          "base_uri": "https://localhost:8080/",
          "height": 573
        }
      },
      "source": [
        "y_pred"
      ],
      "execution_count": null,
      "outputs": [
        {
          "output_type": "execute_result",
          "data": {
            "text/plain": [
              "array([[9.9775380e-01, 8.8218675e-04, 1.3640167e-03],\n",
              "       [9.9613959e-01, 1.5771877e-03, 2.2832139e-03],\n",
              "       [9.9634212e-01, 1.4886531e-03, 2.1692128e-03],\n",
              "       [7.2439318e-05, 5.7869560e-01, 4.2123199e-01],\n",
              "       [8.2880179e-05, 9.3320054e-01, 6.6716596e-02],\n",
              "       [3.7737851e-07, 3.4506436e-02, 9.6549314e-01],\n",
              "       [3.9305405e-06, 1.7707655e-01, 8.2291955e-01],\n",
              "       [9.9202192e-01, 3.5743895e-03, 4.4037206e-03],\n",
              "       [9.9574727e-01, 1.7625482e-03, 2.4902679e-03],\n",
              "       [9.0402982e-06, 3.0614585e-01, 6.9384515e-01],\n",
              "       [1.3270977e-02, 8.1998909e-01, 1.6673993e-01],\n",
              "       [1.5161086e-04, 9.2144859e-01, 7.8399792e-02],\n",
              "       [9.9705768e-01, 1.1786764e-03, 1.7635941e-03],\n",
              "       [1.4984975e-05, 6.1115181e-01, 3.8883319e-01],\n",
              "       [7.7799767e-09, 5.1457467e-03, 9.9485427e-01],\n",
              "       [9.8647618e-01, 6.3351355e-03, 7.1885758e-03],\n",
              "       [5.3097967e-05, 8.5412627e-01, 1.4582069e-01],\n",
              "       [8.2771345e-07, 9.3733847e-02, 9.0626526e-01],\n",
              "       [3.0344152e-06, 9.3383938e-02, 9.0661311e-01],\n",
              "       [2.1582309e-06, 7.9886407e-02, 9.2011142e-01],\n",
              "       [2.6474129e-07, 3.9382141e-02, 9.6061754e-01],\n",
              "       [7.1849940e-06, 2.4734737e-01, 7.5264543e-01],\n",
              "       [2.2209906e-05, 7.6473540e-01, 2.3524235e-01],\n",
              "       [1.7852165e-06, 1.0004616e-01, 8.9995205e-01],\n",
              "       [9.9767119e-01, 9.1702706e-04, 1.4116801e-03],\n",
              "       [1.0081885e-04, 9.0432066e-01, 9.5578484e-02],\n",
              "       [9.9739969e-01, 1.0323317e-03, 1.5680027e-03],\n",
              "       [2.7307266e-07, 9.6274838e-02, 9.0372485e-01],\n",
              "       [3.2975490e-04, 9.0933931e-01, 9.0330876e-02],\n",
              "       [1.1325057e-05, 3.9101231e-01, 6.0897636e-01]], dtype=float32)"
            ]
          },
          "metadata": {
            "tags": []
          },
          "execution_count": 24
        }
      ]
    },
    {
      "cell_type": "code",
      "metadata": {
        "id": "KzQsnnwcMO67",
        "outputId": "6088fe9d-8ebf-4f29-9377-2e3c20614415",
        "colab": {
          "base_uri": "https://localhost:8080/",
          "height": 73
        }
      },
      "source": [
        "from sklearn.metrics import confusion_matrix\n",
        "cm = confusion_matrix(y_pred_class, y_test_class)\n",
        "cm"
      ],
      "execution_count": null,
      "outputs": [
        {
          "output_type": "execute_result",
          "data": {
            "text/plain": [
              "array([[ 9,  0,  0],\n",
              "       [ 0,  9,  0],\n",
              "       [ 0,  1, 11]])"
            ]
          },
          "metadata": {
            "tags": []
          },
          "execution_count": 25
        }
      ]
    }
  ]
}