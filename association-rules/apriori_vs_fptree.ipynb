{
  "nbformat": 4,
  "nbformat_minor": 0,
  "metadata": {
    "orig_nbformat": 2,
    "kernelspec": {
      "name": "python3",
      "display_name": "Python 3"
    },
    "colab": {
      "name": "apriori_mlxtend.ipynb",
      "provenance": [],
      "include_colab_link": true
    }
  },
  "cells": [
    {
      "cell_type": "markdown",
      "metadata": {
        "colab_type": "text",
        "id": "view-in-github"
      },
      "source": [
        "<a href=\"https://colab.research.google.com/github/riomukhtarom/machine-learning/blob/master/apriori_vs_fptree.ipynb\" target=\"_parent\"><img src=\"https://colab.research.google.com/assets/colab-badge.svg\" alt=\"Open In Colab\"/></a>"
      ]
    },
    {
      "cell_type": "code",
      "metadata": {
        "id": "vNSEE7CJKGvW",
        "colab_type": "code",
        "colab": {}
      },
      "source": [
        "# for basic operations\n",
        "import numpy as np\n",
        "import pandas as pd\n",
        "\n",
        "# for visualizations\n",
        "import matplotlib.pyplot as plt\n",
        "\n",
        "# for market basket analysis\n",
        "from mlxtend.frequent_patterns import apriori\n",
        "from mlxtend.frequent_patterns import association_rules"
      ],
      "execution_count": 1,
      "outputs": []
    },
    {
      "cell_type": "code",
      "execution_count": 2,
      "metadata": {},
      "outputs": [
        {
          "output_type": "execute_result",
          "data": {
            "text/plain": "          item_1     item_2      item_3            item_4        item_5  \\\n0         shrimp    almonds     avocado    vegetables mix  green grapes   \n1        burgers  meatballs        eggs               NaN           NaN   \n2        chutney        NaN         NaN               NaN           NaN   \n3         turkey    avocado         NaN               NaN           NaN   \n4  mineral water       milk  energy bar  whole wheat rice     green tea   \n\n             item_6 item_7          item_8        item_9       item_10  \\\n0  whole weat flour   yams  cottage cheese  energy drink  tomato juice   \n1               NaN    NaN             NaN           NaN           NaN   \n2               NaN    NaN             NaN           NaN           NaN   \n3               NaN    NaN             NaN           NaN           NaN   \n4               NaN    NaN             NaN           NaN           NaN   \n\n          item_11    item_12 item_13 item_14        item_15 item_16  \\\n0  low fat yogurt  green tea   honey   salad  mineral water  salmon   \n1             NaN        NaN     NaN     NaN            NaN     NaN   \n2             NaN        NaN     NaN     NaN            NaN     NaN   \n3             NaN        NaN     NaN     NaN            NaN     NaN   \n4             NaN        NaN     NaN     NaN            NaN     NaN   \n\n             item_17          item_18  item_19    item_20  \n0  antioxydant juice  frozen smoothie  spinach  olive oil  \n1                NaN              NaN      NaN        NaN  \n2                NaN              NaN      NaN        NaN  \n3                NaN              NaN      NaN        NaN  \n4                NaN              NaN      NaN        NaN  ",
            "text/html": "<div>\n<style scoped>\n    .dataframe tbody tr th:only-of-type {\n        vertical-align: middle;\n    }\n\n    .dataframe tbody tr th {\n        vertical-align: top;\n    }\n\n    .dataframe thead th {\n        text-align: right;\n    }\n</style>\n<table border=\"1\" class=\"dataframe\">\n  <thead>\n    <tr style=\"text-align: right;\">\n      <th></th>\n      <th>item_1</th>\n      <th>item_2</th>\n      <th>item_3</th>\n      <th>item_4</th>\n      <th>item_5</th>\n      <th>item_6</th>\n      <th>item_7</th>\n      <th>item_8</th>\n      <th>item_9</th>\n      <th>item_10</th>\n      <th>item_11</th>\n      <th>item_12</th>\n      <th>item_13</th>\n      <th>item_14</th>\n      <th>item_15</th>\n      <th>item_16</th>\n      <th>item_17</th>\n      <th>item_18</th>\n      <th>item_19</th>\n      <th>item_20</th>\n    </tr>\n  </thead>\n  <tbody>\n    <tr>\n      <th>0</th>\n      <td>shrimp</td>\n      <td>almonds</td>\n      <td>avocado</td>\n      <td>vegetables mix</td>\n      <td>green grapes</td>\n      <td>whole weat flour</td>\n      <td>yams</td>\n      <td>cottage cheese</td>\n      <td>energy drink</td>\n      <td>tomato juice</td>\n      <td>low fat yogurt</td>\n      <td>green tea</td>\n      <td>honey</td>\n      <td>salad</td>\n      <td>mineral water</td>\n      <td>salmon</td>\n      <td>antioxydant juice</td>\n      <td>frozen smoothie</td>\n      <td>spinach</td>\n      <td>olive oil</td>\n    </tr>\n    <tr>\n      <th>1</th>\n      <td>burgers</td>\n      <td>meatballs</td>\n      <td>eggs</td>\n      <td>NaN</td>\n      <td>NaN</td>\n      <td>NaN</td>\n      <td>NaN</td>\n      <td>NaN</td>\n      <td>NaN</td>\n      <td>NaN</td>\n      <td>NaN</td>\n      <td>NaN</td>\n      <td>NaN</td>\n      <td>NaN</td>\n      <td>NaN</td>\n      <td>NaN</td>\n      <td>NaN</td>\n      <td>NaN</td>\n      <td>NaN</td>\n      <td>NaN</td>\n    </tr>\n    <tr>\n      <th>2</th>\n      <td>chutney</td>\n      <td>NaN</td>\n      <td>NaN</td>\n      <td>NaN</td>\n      <td>NaN</td>\n      <td>NaN</td>\n      <td>NaN</td>\n      <td>NaN</td>\n      <td>NaN</td>\n      <td>NaN</td>\n      <td>NaN</td>\n      <td>NaN</td>\n      <td>NaN</td>\n      <td>NaN</td>\n      <td>NaN</td>\n      <td>NaN</td>\n      <td>NaN</td>\n      <td>NaN</td>\n      <td>NaN</td>\n      <td>NaN</td>\n    </tr>\n    <tr>\n      <th>3</th>\n      <td>turkey</td>\n      <td>avocado</td>\n      <td>NaN</td>\n      <td>NaN</td>\n      <td>NaN</td>\n      <td>NaN</td>\n      <td>NaN</td>\n      <td>NaN</td>\n      <td>NaN</td>\n      <td>NaN</td>\n      <td>NaN</td>\n      <td>NaN</td>\n      <td>NaN</td>\n      <td>NaN</td>\n      <td>NaN</td>\n      <td>NaN</td>\n      <td>NaN</td>\n      <td>NaN</td>\n      <td>NaN</td>\n      <td>NaN</td>\n    </tr>\n    <tr>\n      <th>4</th>\n      <td>mineral water</td>\n      <td>milk</td>\n      <td>energy bar</td>\n      <td>whole wheat rice</td>\n      <td>green tea</td>\n      <td>NaN</td>\n      <td>NaN</td>\n      <td>NaN</td>\n      <td>NaN</td>\n      <td>NaN</td>\n      <td>NaN</td>\n      <td>NaN</td>\n      <td>NaN</td>\n      <td>NaN</td>\n      <td>NaN</td>\n      <td>NaN</td>\n      <td>NaN</td>\n      <td>NaN</td>\n      <td>NaN</td>\n      <td>NaN</td>\n    </tr>\n  </tbody>\n</table>\n</div>"
          },
          "metadata": {},
          "execution_count": 2
        }
      ],
      "source": [
        "data = pd.read_csv('Market_Basket_Optimisation.csv', header=None, names=['item_'+str(i) for i in range(1,21)])\n",
        "data.head()"
      ]
    },
    {
      "cell_type": "code",
      "metadata": {
        "id": "_dqNMY0OLg8W",
        "colab_type": "code",
        "colab": {
          "base_uri": "https://localhost:8080/",
          "height": 35
        },
        "outputId": "cf12f4dd-a744-4d48-8c25-be9e67a14856"
      },
      "source": [
        "# from google.colab import drive\n",
        "# drive.mount('/content/drive')"
      ],
      "execution_count": 3,
      "outputs": []
    },
    {
      "cell_type": "code",
      "metadata": {
        "id": "XllAM9c0KGws",
        "colab_type": "code",
        "colab": {
          "base_uri": "https://localhost:8080/",
          "height": 258
        },
        "outputId": "e2e02b0f-d98f-44a7-abf7-9dba4314bd0a"
      },
      "source": [
        "# data = pd.read_csv('/content/drive/My Drive/dataset/Market_Basket_Optimisation.csv', header=None, names=['item_'+str(i) for i in range(1,21)])\n",
        "# data.head()"
      ],
      "execution_count": 4,
      "outputs": []
    },
    {
      "cell_type": "code",
      "metadata": {
        "tags": [],
        "id": "WbZbeRk4KG04",
        "colab_type": "code",
        "colab": {
          "base_uri": "https://localhost:8080/",
          "height": 35
        },
        "outputId": "941cb2a4-b003-437f-d3ad-2aa895c69a9a"
      },
      "source": [
        "# making each customers shopping items an identical list\n",
        "trans = []\n",
        "for i in range(0, 7501):\n",
        "    trans.append([str(data.values[i,j]) for j in range(0, 20)])\n",
        "\n",
        "# conveting it into an numpy array\n",
        "trans = np.array(trans)\n",
        "\n",
        "# checking the shape of the array\n",
        "print(trans.shape)"
      ],
      "execution_count": 5,
      "outputs": [
        {
          "output_type": "stream",
          "name": "stdout",
          "text": "(7501, 20)\n"
        }
      ]
    },
    {
      "cell_type": "code",
      "metadata": {
        "id": "p5cnLOswKG1O",
        "colab_type": "code",
        "colab": {
          "base_uri": "https://localhost:8080/",
          "height": 290
        },
        "outputId": "e5bb60de-01dd-450d-8792-c9aea2622b68"
      },
      "source": [
        "import pandas as pd\n",
        "from mlxtend.preprocessing import TransactionEncoder\n",
        "\n",
        "te = TransactionEncoder()\n",
        "data = te.fit_transform(trans)\n",
        "data = pd.DataFrame(data, columns = te.columns_)\n",
        "\n",
        "# getting the shape of the data\n",
        "data.tail()"
      ],
      "execution_count": 6,
      "outputs": [
        {
          "output_type": "execute_result",
          "data": {
            "text/plain": "       asparagus  almonds  antioxydant juice  asparagus  avocado  babies food  \\\n7496       False    False              False      False    False        False   \n7497       False    False              False      False    False        False   \n7498       False    False              False      False    False        False   \n7499       False    False              False      False    False        False   \n7500       False    False              False      False    False        False   \n\n      bacon  barbecue sauce  black tea  blueberries  ...  turkey  \\\n7496  False           False      False        False  ...   False   \n7497  False           False      False        False  ...   False   \n7498  False           False      False        False  ...   False   \n7499  False           False      False        False  ...   False   \n7500  False           False      False        False  ...   False   \n\n      vegetables mix  water spray  white wine  whole weat flour  \\\n7496           False        False       False             False   \n7497           False        False       False             False   \n7498           False        False       False             False   \n7499           False        False       False             False   \n7500           False        False       False             False   \n\n      whole wheat pasta  whole wheat rice   yams  yogurt cake  zucchini  \n7496              False             False  False        False     False  \n7497              False             False  False        False     False  \n7498              False             False  False        False     False  \n7499              False             False  False        False     False  \n7500              False             False  False         True     False  \n\n[5 rows x 121 columns]",
            "text/html": "<div>\n<style scoped>\n    .dataframe tbody tr th:only-of-type {\n        vertical-align: middle;\n    }\n\n    .dataframe tbody tr th {\n        vertical-align: top;\n    }\n\n    .dataframe thead th {\n        text-align: right;\n    }\n</style>\n<table border=\"1\" class=\"dataframe\">\n  <thead>\n    <tr style=\"text-align: right;\">\n      <th></th>\n      <th>asparagus</th>\n      <th>almonds</th>\n      <th>antioxydant juice</th>\n      <th>asparagus</th>\n      <th>avocado</th>\n      <th>babies food</th>\n      <th>bacon</th>\n      <th>barbecue sauce</th>\n      <th>black tea</th>\n      <th>blueberries</th>\n      <th>...</th>\n      <th>turkey</th>\n      <th>vegetables mix</th>\n      <th>water spray</th>\n      <th>white wine</th>\n      <th>whole weat flour</th>\n      <th>whole wheat pasta</th>\n      <th>whole wheat rice</th>\n      <th>yams</th>\n      <th>yogurt cake</th>\n      <th>zucchini</th>\n    </tr>\n  </thead>\n  <tbody>\n    <tr>\n      <th>7496</th>\n      <td>False</td>\n      <td>False</td>\n      <td>False</td>\n      <td>False</td>\n      <td>False</td>\n      <td>False</td>\n      <td>False</td>\n      <td>False</td>\n      <td>False</td>\n      <td>False</td>\n      <td>...</td>\n      <td>False</td>\n      <td>False</td>\n      <td>False</td>\n      <td>False</td>\n      <td>False</td>\n      <td>False</td>\n      <td>False</td>\n      <td>False</td>\n      <td>False</td>\n      <td>False</td>\n    </tr>\n    <tr>\n      <th>7497</th>\n      <td>False</td>\n      <td>False</td>\n      <td>False</td>\n      <td>False</td>\n      <td>False</td>\n      <td>False</td>\n      <td>False</td>\n      <td>False</td>\n      <td>False</td>\n      <td>False</td>\n      <td>...</td>\n      <td>False</td>\n      <td>False</td>\n      <td>False</td>\n      <td>False</td>\n      <td>False</td>\n      <td>False</td>\n      <td>False</td>\n      <td>False</td>\n      <td>False</td>\n      <td>False</td>\n    </tr>\n    <tr>\n      <th>7498</th>\n      <td>False</td>\n      <td>False</td>\n      <td>False</td>\n      <td>False</td>\n      <td>False</td>\n      <td>False</td>\n      <td>False</td>\n      <td>False</td>\n      <td>False</td>\n      <td>False</td>\n      <td>...</td>\n      <td>False</td>\n      <td>False</td>\n      <td>False</td>\n      <td>False</td>\n      <td>False</td>\n      <td>False</td>\n      <td>False</td>\n      <td>False</td>\n      <td>False</td>\n      <td>False</td>\n    </tr>\n    <tr>\n      <th>7499</th>\n      <td>False</td>\n      <td>False</td>\n      <td>False</td>\n      <td>False</td>\n      <td>False</td>\n      <td>False</td>\n      <td>False</td>\n      <td>False</td>\n      <td>False</td>\n      <td>False</td>\n      <td>...</td>\n      <td>False</td>\n      <td>False</td>\n      <td>False</td>\n      <td>False</td>\n      <td>False</td>\n      <td>False</td>\n      <td>False</td>\n      <td>False</td>\n      <td>False</td>\n      <td>False</td>\n    </tr>\n    <tr>\n      <th>7500</th>\n      <td>False</td>\n      <td>False</td>\n      <td>False</td>\n      <td>False</td>\n      <td>False</td>\n      <td>False</td>\n      <td>False</td>\n      <td>False</td>\n      <td>False</td>\n      <td>False</td>\n      <td>...</td>\n      <td>False</td>\n      <td>False</td>\n      <td>False</td>\n      <td>False</td>\n      <td>False</td>\n      <td>False</td>\n      <td>False</td>\n      <td>False</td>\n      <td>True</td>\n      <td>False</td>\n    </tr>\n  </tbody>\n</table>\n<p>5 rows × 121 columns</p>\n</div>"
          },
          "metadata": {},
          "execution_count": 6
        }
      ]
    },
    {
      "cell_type": "code",
      "metadata": {
        "id": "aYrg7ywZKG2F",
        "colab_type": "code",
        "colab": {}
      },
      "source": [
        "data = data.drop(columns=['nan'])"
      ],
      "execution_count": 7,
      "outputs": []
    },
    {
      "cell_type": "code",
      "metadata": {
        "tags": [],
        "id": "PSa3_uZoKG2T",
        "colab_type": "code",
        "colab": {
          "base_uri": "https://localhost:8080/",
          "height": 424
        },
        "outputId": "5667ea8f-6508-4915-fa35-22c9c070f756"
      },
      "source": [
        "from mlxtend.frequent_patterns import apriori\n",
        "from datetime import datetime\n",
        "\n",
        "time_start = datetime.now()\n",
        "frequent_itemsets_ap = apriori(data, min_support = 0.01, use_colnames = True)\n",
        "time_finish = datetime.now()\n",
        "duration = time_finish - time_start\n",
        "print('Apriori Time', duration)\n",
        "\n",
        "frequent_itemsets_ap"
      ],
      "execution_count": 8,
      "outputs": [
        {
          "output_type": "stream",
          "name": "stdout",
          "text": "Apriori Time 0:00:00.255114\n"
        },
        {
          "output_type": "execute_result",
          "data": {
            "text/plain": "      support                                 itemsets\n0    0.020397                                (almonds)\n1    0.033329                                (avocado)\n2    0.010799                         (barbecue sauce)\n3    0.014265                              (black tea)\n4    0.011465                             (body spray)\n..        ...                                      ...\n252  0.011065       (milk, mineral water, ground beef)\n253  0.017064  (mineral water, spaghetti, ground beef)\n254  0.015731         (milk, mineral water, spaghetti)\n255  0.010265    (mineral water, spaghetti, olive oil)\n256  0.011465     (spaghetti, mineral water, pancakes)\n\n[257 rows x 2 columns]",
            "text/html": "<div>\n<style scoped>\n    .dataframe tbody tr th:only-of-type {\n        vertical-align: middle;\n    }\n\n    .dataframe tbody tr th {\n        vertical-align: top;\n    }\n\n    .dataframe thead th {\n        text-align: right;\n    }\n</style>\n<table border=\"1\" class=\"dataframe\">\n  <thead>\n    <tr style=\"text-align: right;\">\n      <th></th>\n      <th>support</th>\n      <th>itemsets</th>\n    </tr>\n  </thead>\n  <tbody>\n    <tr>\n      <th>0</th>\n      <td>0.020397</td>\n      <td>(almonds)</td>\n    </tr>\n    <tr>\n      <th>1</th>\n      <td>0.033329</td>\n      <td>(avocado)</td>\n    </tr>\n    <tr>\n      <th>2</th>\n      <td>0.010799</td>\n      <td>(barbecue sauce)</td>\n    </tr>\n    <tr>\n      <th>3</th>\n      <td>0.014265</td>\n      <td>(black tea)</td>\n    </tr>\n    <tr>\n      <th>4</th>\n      <td>0.011465</td>\n      <td>(body spray)</td>\n    </tr>\n    <tr>\n      <th>...</th>\n      <td>...</td>\n      <td>...</td>\n    </tr>\n    <tr>\n      <th>252</th>\n      <td>0.011065</td>\n      <td>(milk, mineral water, ground beef)</td>\n    </tr>\n    <tr>\n      <th>253</th>\n      <td>0.017064</td>\n      <td>(mineral water, spaghetti, ground beef)</td>\n    </tr>\n    <tr>\n      <th>254</th>\n      <td>0.015731</td>\n      <td>(milk, mineral water, spaghetti)</td>\n    </tr>\n    <tr>\n      <th>255</th>\n      <td>0.010265</td>\n      <td>(mineral water, spaghetti, olive oil)</td>\n    </tr>\n    <tr>\n      <th>256</th>\n      <td>0.011465</td>\n      <td>(spaghetti, mineral water, pancakes)</td>\n    </tr>\n  </tbody>\n</table>\n<p>257 rows × 2 columns</p>\n</div>"
          },
          "metadata": {},
          "execution_count": 8
        }
      ]
    },
    {
      "cell_type": "code",
      "execution_count": 9,
      "metadata": {
        "tags": []
      },
      "outputs": [
        {
          "output_type": "stream",
          "name": "stdout",
          "text": "FP-Tree Time 0:00:00.182239\n"
        },
        {
          "output_type": "execute_result",
          "data": {
            "text/plain": "      support                   itemsets\n0    0.238368            (mineral water)\n1    0.132116                (green tea)\n2    0.076523           (low fat yogurt)\n3    0.071457                   (shrimp)\n4    0.065858                (olive oil)\n..        ...                        ...\n252  0.011465            (cake, burgers)\n253  0.014131          (cake, green tea)\n254  0.010265  (cake, frozen vegetables)\n255  0.011865           (cake, pancakes)\n256  0.010265   (cereals, mineral water)\n\n[257 rows x 2 columns]",
            "text/html": "<div>\n<style scoped>\n    .dataframe tbody tr th:only-of-type {\n        vertical-align: middle;\n    }\n\n    .dataframe tbody tr th {\n        vertical-align: top;\n    }\n\n    .dataframe thead th {\n        text-align: right;\n    }\n</style>\n<table border=\"1\" class=\"dataframe\">\n  <thead>\n    <tr style=\"text-align: right;\">\n      <th></th>\n      <th>support</th>\n      <th>itemsets</th>\n    </tr>\n  </thead>\n  <tbody>\n    <tr>\n      <th>0</th>\n      <td>0.238368</td>\n      <td>(mineral water)</td>\n    </tr>\n    <tr>\n      <th>1</th>\n      <td>0.132116</td>\n      <td>(green tea)</td>\n    </tr>\n    <tr>\n      <th>2</th>\n      <td>0.076523</td>\n      <td>(low fat yogurt)</td>\n    </tr>\n    <tr>\n      <th>3</th>\n      <td>0.071457</td>\n      <td>(shrimp)</td>\n    </tr>\n    <tr>\n      <th>4</th>\n      <td>0.065858</td>\n      <td>(olive oil)</td>\n    </tr>\n    <tr>\n      <th>...</th>\n      <td>...</td>\n      <td>...</td>\n    </tr>\n    <tr>\n      <th>252</th>\n      <td>0.011465</td>\n      <td>(cake, burgers)</td>\n    </tr>\n    <tr>\n      <th>253</th>\n      <td>0.014131</td>\n      <td>(cake, green tea)</td>\n    </tr>\n    <tr>\n      <th>254</th>\n      <td>0.010265</td>\n      <td>(cake, frozen vegetables)</td>\n    </tr>\n    <tr>\n      <th>255</th>\n      <td>0.011865</td>\n      <td>(cake, pancakes)</td>\n    </tr>\n    <tr>\n      <th>256</th>\n      <td>0.010265</td>\n      <td>(cereals, mineral water)</td>\n    </tr>\n  </tbody>\n</table>\n<p>257 rows × 2 columns</p>\n</div>"
          },
          "metadata": {},
          "execution_count": 9
        }
      ],
      "source": [
        "from mlxtend.frequent_patterns import fpgrowth\n",
        "from datetime import datetime\n",
        "\n",
        "time_start_fp = datetime.now()\n",
        "frequent_itemsets_fp = fpgrowth(data, min_support=0.01, use_colnames=True)\n",
        "time_finish_fp = datetime.now()\n",
        "duration_fp = time_finish_fp - time_start_fp\n",
        "print('FP-Tree Time', duration_fp)\n",
        "\n",
        "frequent_itemsets_fp"
      ]
    },
    {
      "cell_type": "code",
      "execution_count": 20,
      "metadata": {},
      "outputs": [],
      "source": [
        "from mlxtend.frequent_patterns import association_rules\n",
        "\n",
        "rules_ap = association_rules(frequent_itemsets_ap, metric=\"confidence\", min_threshold=0.4)\n",
        "rules_fp = association_rules(frequent_itemsets_fp, metric=\"confidence\", min_threshold=0.4)"
      ]
    },
    {
      "cell_type": "code",
      "execution_count": 21,
      "metadata": {},
      "outputs": [
        {
          "output_type": "execute_result",
          "data": {
            "text/plain": "                       antecedents      consequents  antecedent support  \\\n0                    (ground beef)  (mineral water)            0.098254   \n1                      (olive oil)  (mineral water)            0.065858   \n2                         (salmon)  (mineral water)            0.042528   \n3                           (soup)  (mineral water)            0.050527   \n4                (chocolate, eggs)  (mineral water)            0.033196   \n5         (ground beef, chocolate)  (mineral water)            0.023064   \n6                (milk, chocolate)  (mineral water)            0.032129   \n7           (spaghetti, chocolate)  (mineral water)            0.039195   \n8              (ground beef, eggs)  (mineral water)            0.019997   \n9                     (milk, eggs)  (mineral water)            0.030796   \n10       (milk, frozen vegetables)  (mineral water)            0.023597   \n11  (frozen vegetables, spaghetti)  (mineral water)            0.027863   \n12             (milk, ground beef)  (mineral water)            0.021997   \n13    (mineral water, ground beef)      (spaghetti)            0.040928   \n14        (ground beef, spaghetti)  (mineral water)            0.039195   \n15               (milk, spaghetti)  (mineral water)            0.035462   \n16          (spaghetti, olive oil)  (mineral water)            0.022930   \n17           (spaghetti, pancakes)  (mineral water)            0.025197   \n\n    consequent support   support  confidence      lift  leverage  conviction  \n0             0.238368  0.040928    0.416554  1.747522  0.017507    1.305401  \n1             0.238368  0.027596    0.419028  1.757904  0.011898    1.310962  \n2             0.238368  0.017064    0.401254  1.683336  0.006927    1.272045  \n3             0.238368  0.023064    0.456464  1.914955  0.011020    1.401255  \n4             0.238368  0.013465    0.405622  1.701663  0.005552    1.281394  \n5             0.238368  0.010932    0.473988  1.988472  0.005434    1.447937  \n6             0.238368  0.013998    0.435685  1.827780  0.006340    1.349656  \n7             0.238368  0.015865    0.404762  1.698053  0.006522    1.279541  \n8             0.238368  0.010132    0.506667  2.125563  0.005365    1.543848  \n9             0.238368  0.013065    0.424242  1.779778  0.005724    1.322834  \n10            0.238368  0.011065    0.468927  1.967236  0.005440    1.434136  \n11            0.238368  0.011998    0.430622  1.806541  0.005357    1.337656  \n12            0.238368  0.011065    0.503030  2.110308  0.005822    1.532552  \n13            0.174110  0.017064    0.416938  2.394681  0.009938    1.416470  \n14            0.238368  0.017064    0.435374  1.826477  0.007722    1.348914  \n15            0.238368  0.015731    0.443609  1.861024  0.007278    1.368879  \n16            0.238368  0.010265    0.447674  1.878079  0.004799    1.378954  \n17            0.238368  0.011465    0.455026  1.908923  0.005459    1.397557  ",
            "text/html": "<div>\n<style scoped>\n    .dataframe tbody tr th:only-of-type {\n        vertical-align: middle;\n    }\n\n    .dataframe tbody tr th {\n        vertical-align: top;\n    }\n\n    .dataframe thead th {\n        text-align: right;\n    }\n</style>\n<table border=\"1\" class=\"dataframe\">\n  <thead>\n    <tr style=\"text-align: right;\">\n      <th></th>\n      <th>antecedents</th>\n      <th>consequents</th>\n      <th>antecedent support</th>\n      <th>consequent support</th>\n      <th>support</th>\n      <th>confidence</th>\n      <th>lift</th>\n      <th>leverage</th>\n      <th>conviction</th>\n    </tr>\n  </thead>\n  <tbody>\n    <tr>\n      <th>0</th>\n      <td>(ground beef)</td>\n      <td>(mineral water)</td>\n      <td>0.098254</td>\n      <td>0.238368</td>\n      <td>0.040928</td>\n      <td>0.416554</td>\n      <td>1.747522</td>\n      <td>0.017507</td>\n      <td>1.305401</td>\n    </tr>\n    <tr>\n      <th>1</th>\n      <td>(olive oil)</td>\n      <td>(mineral water)</td>\n      <td>0.065858</td>\n      <td>0.238368</td>\n      <td>0.027596</td>\n      <td>0.419028</td>\n      <td>1.757904</td>\n      <td>0.011898</td>\n      <td>1.310962</td>\n    </tr>\n    <tr>\n      <th>2</th>\n      <td>(salmon)</td>\n      <td>(mineral water)</td>\n      <td>0.042528</td>\n      <td>0.238368</td>\n      <td>0.017064</td>\n      <td>0.401254</td>\n      <td>1.683336</td>\n      <td>0.006927</td>\n      <td>1.272045</td>\n    </tr>\n    <tr>\n      <th>3</th>\n      <td>(soup)</td>\n      <td>(mineral water)</td>\n      <td>0.050527</td>\n      <td>0.238368</td>\n      <td>0.023064</td>\n      <td>0.456464</td>\n      <td>1.914955</td>\n      <td>0.011020</td>\n      <td>1.401255</td>\n    </tr>\n    <tr>\n      <th>4</th>\n      <td>(chocolate, eggs)</td>\n      <td>(mineral water)</td>\n      <td>0.033196</td>\n      <td>0.238368</td>\n      <td>0.013465</td>\n      <td>0.405622</td>\n      <td>1.701663</td>\n      <td>0.005552</td>\n      <td>1.281394</td>\n    </tr>\n    <tr>\n      <th>5</th>\n      <td>(ground beef, chocolate)</td>\n      <td>(mineral water)</td>\n      <td>0.023064</td>\n      <td>0.238368</td>\n      <td>0.010932</td>\n      <td>0.473988</td>\n      <td>1.988472</td>\n      <td>0.005434</td>\n      <td>1.447937</td>\n    </tr>\n    <tr>\n      <th>6</th>\n      <td>(milk, chocolate)</td>\n      <td>(mineral water)</td>\n      <td>0.032129</td>\n      <td>0.238368</td>\n      <td>0.013998</td>\n      <td>0.435685</td>\n      <td>1.827780</td>\n      <td>0.006340</td>\n      <td>1.349656</td>\n    </tr>\n    <tr>\n      <th>7</th>\n      <td>(spaghetti, chocolate)</td>\n      <td>(mineral water)</td>\n      <td>0.039195</td>\n      <td>0.238368</td>\n      <td>0.015865</td>\n      <td>0.404762</td>\n      <td>1.698053</td>\n      <td>0.006522</td>\n      <td>1.279541</td>\n    </tr>\n    <tr>\n      <th>8</th>\n      <td>(ground beef, eggs)</td>\n      <td>(mineral water)</td>\n      <td>0.019997</td>\n      <td>0.238368</td>\n      <td>0.010132</td>\n      <td>0.506667</td>\n      <td>2.125563</td>\n      <td>0.005365</td>\n      <td>1.543848</td>\n    </tr>\n    <tr>\n      <th>9</th>\n      <td>(milk, eggs)</td>\n      <td>(mineral water)</td>\n      <td>0.030796</td>\n      <td>0.238368</td>\n      <td>0.013065</td>\n      <td>0.424242</td>\n      <td>1.779778</td>\n      <td>0.005724</td>\n      <td>1.322834</td>\n    </tr>\n    <tr>\n      <th>10</th>\n      <td>(milk, frozen vegetables)</td>\n      <td>(mineral water)</td>\n      <td>0.023597</td>\n      <td>0.238368</td>\n      <td>0.011065</td>\n      <td>0.468927</td>\n      <td>1.967236</td>\n      <td>0.005440</td>\n      <td>1.434136</td>\n    </tr>\n    <tr>\n      <th>11</th>\n      <td>(frozen vegetables, spaghetti)</td>\n      <td>(mineral water)</td>\n      <td>0.027863</td>\n      <td>0.238368</td>\n      <td>0.011998</td>\n      <td>0.430622</td>\n      <td>1.806541</td>\n      <td>0.005357</td>\n      <td>1.337656</td>\n    </tr>\n    <tr>\n      <th>12</th>\n      <td>(milk, ground beef)</td>\n      <td>(mineral water)</td>\n      <td>0.021997</td>\n      <td>0.238368</td>\n      <td>0.011065</td>\n      <td>0.503030</td>\n      <td>2.110308</td>\n      <td>0.005822</td>\n      <td>1.532552</td>\n    </tr>\n    <tr>\n      <th>13</th>\n      <td>(mineral water, ground beef)</td>\n      <td>(spaghetti)</td>\n      <td>0.040928</td>\n      <td>0.174110</td>\n      <td>0.017064</td>\n      <td>0.416938</td>\n      <td>2.394681</td>\n      <td>0.009938</td>\n      <td>1.416470</td>\n    </tr>\n    <tr>\n      <th>14</th>\n      <td>(ground beef, spaghetti)</td>\n      <td>(mineral water)</td>\n      <td>0.039195</td>\n      <td>0.238368</td>\n      <td>0.017064</td>\n      <td>0.435374</td>\n      <td>1.826477</td>\n      <td>0.007722</td>\n      <td>1.348914</td>\n    </tr>\n    <tr>\n      <th>15</th>\n      <td>(milk, spaghetti)</td>\n      <td>(mineral water)</td>\n      <td>0.035462</td>\n      <td>0.238368</td>\n      <td>0.015731</td>\n      <td>0.443609</td>\n      <td>1.861024</td>\n      <td>0.007278</td>\n      <td>1.368879</td>\n    </tr>\n    <tr>\n      <th>16</th>\n      <td>(spaghetti, olive oil)</td>\n      <td>(mineral water)</td>\n      <td>0.022930</td>\n      <td>0.238368</td>\n      <td>0.010265</td>\n      <td>0.447674</td>\n      <td>1.878079</td>\n      <td>0.004799</td>\n      <td>1.378954</td>\n    </tr>\n    <tr>\n      <th>17</th>\n      <td>(spaghetti, pancakes)</td>\n      <td>(mineral water)</td>\n      <td>0.025197</td>\n      <td>0.238368</td>\n      <td>0.011465</td>\n      <td>0.455026</td>\n      <td>1.908923</td>\n      <td>0.005459</td>\n      <td>1.397557</td>\n    </tr>\n  </tbody>\n</table>\n</div>"
          },
          "metadata": {},
          "execution_count": 21
        }
      ],
      "source": [
        "rules_ap"
      ]
    },
    {
      "cell_type": "code",
      "execution_count": 22,
      "metadata": {},
      "outputs": [
        {
          "output_type": "execute_result",
          "data": {
            "text/plain": "                       antecedents      consequents  antecedent support  \\\n0                      (olive oil)  (mineral water)            0.065858   \n1           (spaghetti, olive oil)  (mineral water)            0.022930   \n2                         (salmon)  (mineral water)            0.042528   \n3                (milk, spaghetti)  (mineral water)            0.035462   \n4                (milk, chocolate)  (mineral water)            0.032129   \n5                     (milk, eggs)  (mineral water)            0.030796   \n6                           (soup)  (mineral water)            0.050527   \n7   (frozen vegetables, spaghetti)  (mineral water)            0.027863   \n8        (milk, frozen vegetables)  (mineral water)            0.023597   \n9                (chocolate, eggs)  (mineral water)            0.033196   \n10          (spaghetti, chocolate)  (mineral water)            0.039195   \n11           (spaghetti, pancakes)  (mineral water)            0.025197   \n12                   (ground beef)  (mineral water)            0.098254   \n13    (mineral water, ground beef)      (spaghetti)            0.040928   \n14        (ground beef, spaghetti)  (mineral water)            0.039195   \n15             (milk, ground beef)  (mineral water)            0.021997   \n16        (ground beef, chocolate)  (mineral water)            0.023064   \n17             (ground beef, eggs)  (mineral water)            0.019997   \n\n    consequent support   support  confidence      lift  leverage  conviction  \n0             0.238368  0.027596    0.419028  1.757904  0.011898    1.310962  \n1             0.238368  0.010265    0.447674  1.878079  0.004799    1.378954  \n2             0.238368  0.017064    0.401254  1.683336  0.006927    1.272045  \n3             0.238368  0.015731    0.443609  1.861024  0.007278    1.368879  \n4             0.238368  0.013998    0.435685  1.827780  0.006340    1.349656  \n5             0.238368  0.013065    0.424242  1.779778  0.005724    1.322834  \n6             0.238368  0.023064    0.456464  1.914955  0.011020    1.401255  \n7             0.238368  0.011998    0.430622  1.806541  0.005357    1.337656  \n8             0.238368  0.011065    0.468927  1.967236  0.005440    1.434136  \n9             0.238368  0.013465    0.405622  1.701663  0.005552    1.281394  \n10            0.238368  0.015865    0.404762  1.698053  0.006522    1.279541  \n11            0.238368  0.011465    0.455026  1.908923  0.005459    1.397557  \n12            0.238368  0.040928    0.416554  1.747522  0.017507    1.305401  \n13            0.174110  0.017064    0.416938  2.394681  0.009938    1.416470  \n14            0.238368  0.017064    0.435374  1.826477  0.007722    1.348914  \n15            0.238368  0.011065    0.503030  2.110308  0.005822    1.532552  \n16            0.238368  0.010932    0.473988  1.988472  0.005434    1.447937  \n17            0.238368  0.010132    0.506667  2.125563  0.005365    1.543848  ",
            "text/html": "<div>\n<style scoped>\n    .dataframe tbody tr th:only-of-type {\n        vertical-align: middle;\n    }\n\n    .dataframe tbody tr th {\n        vertical-align: top;\n    }\n\n    .dataframe thead th {\n        text-align: right;\n    }\n</style>\n<table border=\"1\" class=\"dataframe\">\n  <thead>\n    <tr style=\"text-align: right;\">\n      <th></th>\n      <th>antecedents</th>\n      <th>consequents</th>\n      <th>antecedent support</th>\n      <th>consequent support</th>\n      <th>support</th>\n      <th>confidence</th>\n      <th>lift</th>\n      <th>leverage</th>\n      <th>conviction</th>\n    </tr>\n  </thead>\n  <tbody>\n    <tr>\n      <th>0</th>\n      <td>(olive oil)</td>\n      <td>(mineral water)</td>\n      <td>0.065858</td>\n      <td>0.238368</td>\n      <td>0.027596</td>\n      <td>0.419028</td>\n      <td>1.757904</td>\n      <td>0.011898</td>\n      <td>1.310962</td>\n    </tr>\n    <tr>\n      <th>1</th>\n      <td>(spaghetti, olive oil)</td>\n      <td>(mineral water)</td>\n      <td>0.022930</td>\n      <td>0.238368</td>\n      <td>0.010265</td>\n      <td>0.447674</td>\n      <td>1.878079</td>\n      <td>0.004799</td>\n      <td>1.378954</td>\n    </tr>\n    <tr>\n      <th>2</th>\n      <td>(salmon)</td>\n      <td>(mineral water)</td>\n      <td>0.042528</td>\n      <td>0.238368</td>\n      <td>0.017064</td>\n      <td>0.401254</td>\n      <td>1.683336</td>\n      <td>0.006927</td>\n      <td>1.272045</td>\n    </tr>\n    <tr>\n      <th>3</th>\n      <td>(milk, spaghetti)</td>\n      <td>(mineral water)</td>\n      <td>0.035462</td>\n      <td>0.238368</td>\n      <td>0.015731</td>\n      <td>0.443609</td>\n      <td>1.861024</td>\n      <td>0.007278</td>\n      <td>1.368879</td>\n    </tr>\n    <tr>\n      <th>4</th>\n      <td>(milk, chocolate)</td>\n      <td>(mineral water)</td>\n      <td>0.032129</td>\n      <td>0.238368</td>\n      <td>0.013998</td>\n      <td>0.435685</td>\n      <td>1.827780</td>\n      <td>0.006340</td>\n      <td>1.349656</td>\n    </tr>\n    <tr>\n      <th>5</th>\n      <td>(milk, eggs)</td>\n      <td>(mineral water)</td>\n      <td>0.030796</td>\n      <td>0.238368</td>\n      <td>0.013065</td>\n      <td>0.424242</td>\n      <td>1.779778</td>\n      <td>0.005724</td>\n      <td>1.322834</td>\n    </tr>\n    <tr>\n      <th>6</th>\n      <td>(soup)</td>\n      <td>(mineral water)</td>\n      <td>0.050527</td>\n      <td>0.238368</td>\n      <td>0.023064</td>\n      <td>0.456464</td>\n      <td>1.914955</td>\n      <td>0.011020</td>\n      <td>1.401255</td>\n    </tr>\n    <tr>\n      <th>7</th>\n      <td>(frozen vegetables, spaghetti)</td>\n      <td>(mineral water)</td>\n      <td>0.027863</td>\n      <td>0.238368</td>\n      <td>0.011998</td>\n      <td>0.430622</td>\n      <td>1.806541</td>\n      <td>0.005357</td>\n      <td>1.337656</td>\n    </tr>\n    <tr>\n      <th>8</th>\n      <td>(milk, frozen vegetables)</td>\n      <td>(mineral water)</td>\n      <td>0.023597</td>\n      <td>0.238368</td>\n      <td>0.011065</td>\n      <td>0.468927</td>\n      <td>1.967236</td>\n      <td>0.005440</td>\n      <td>1.434136</td>\n    </tr>\n    <tr>\n      <th>9</th>\n      <td>(chocolate, eggs)</td>\n      <td>(mineral water)</td>\n      <td>0.033196</td>\n      <td>0.238368</td>\n      <td>0.013465</td>\n      <td>0.405622</td>\n      <td>1.701663</td>\n      <td>0.005552</td>\n      <td>1.281394</td>\n    </tr>\n    <tr>\n      <th>10</th>\n      <td>(spaghetti, chocolate)</td>\n      <td>(mineral water)</td>\n      <td>0.039195</td>\n      <td>0.238368</td>\n      <td>0.015865</td>\n      <td>0.404762</td>\n      <td>1.698053</td>\n      <td>0.006522</td>\n      <td>1.279541</td>\n    </tr>\n    <tr>\n      <th>11</th>\n      <td>(spaghetti, pancakes)</td>\n      <td>(mineral water)</td>\n      <td>0.025197</td>\n      <td>0.238368</td>\n      <td>0.011465</td>\n      <td>0.455026</td>\n      <td>1.908923</td>\n      <td>0.005459</td>\n      <td>1.397557</td>\n    </tr>\n    <tr>\n      <th>12</th>\n      <td>(ground beef)</td>\n      <td>(mineral water)</td>\n      <td>0.098254</td>\n      <td>0.238368</td>\n      <td>0.040928</td>\n      <td>0.416554</td>\n      <td>1.747522</td>\n      <td>0.017507</td>\n      <td>1.305401</td>\n    </tr>\n    <tr>\n      <th>13</th>\n      <td>(mineral water, ground beef)</td>\n      <td>(spaghetti)</td>\n      <td>0.040928</td>\n      <td>0.174110</td>\n      <td>0.017064</td>\n      <td>0.416938</td>\n      <td>2.394681</td>\n      <td>0.009938</td>\n      <td>1.416470</td>\n    </tr>\n    <tr>\n      <th>14</th>\n      <td>(ground beef, spaghetti)</td>\n      <td>(mineral water)</td>\n      <td>0.039195</td>\n      <td>0.238368</td>\n      <td>0.017064</td>\n      <td>0.435374</td>\n      <td>1.826477</td>\n      <td>0.007722</td>\n      <td>1.348914</td>\n    </tr>\n    <tr>\n      <th>15</th>\n      <td>(milk, ground beef)</td>\n      <td>(mineral water)</td>\n      <td>0.021997</td>\n      <td>0.238368</td>\n      <td>0.011065</td>\n      <td>0.503030</td>\n      <td>2.110308</td>\n      <td>0.005822</td>\n      <td>1.532552</td>\n    </tr>\n    <tr>\n      <th>16</th>\n      <td>(ground beef, chocolate)</td>\n      <td>(mineral water)</td>\n      <td>0.023064</td>\n      <td>0.238368</td>\n      <td>0.010932</td>\n      <td>0.473988</td>\n      <td>1.988472</td>\n      <td>0.005434</td>\n      <td>1.447937</td>\n    </tr>\n    <tr>\n      <th>17</th>\n      <td>(ground beef, eggs)</td>\n      <td>(mineral water)</td>\n      <td>0.019997</td>\n      <td>0.238368</td>\n      <td>0.010132</td>\n      <td>0.506667</td>\n      <td>2.125563</td>\n      <td>0.005365</td>\n      <td>1.543848</td>\n    </tr>\n  </tbody>\n</table>\n</div>"
          },
          "metadata": {},
          "execution_count": 22
        }
      ],
      "source": [
        "rules_fp"
      ]
    },
    {
      "cell_type": "code",
      "execution_count": 23,
      "metadata": {},
      "outputs": [
        {
          "output_type": "execute_result",
          "data": {
            "text/plain": "                       antecedents      consequents  antecedent support  \\\n1           (spaghetti, olive oil)  (mineral water)            0.022930   \n3                (milk, spaghetti)  (mineral water)            0.035462   \n4                (milk, chocolate)  (mineral water)            0.032129   \n5                     (milk, eggs)  (mineral water)            0.030796   \n7   (frozen vegetables, spaghetti)  (mineral water)            0.027863   \n8        (milk, frozen vegetables)  (mineral water)            0.023597   \n9                (chocolate, eggs)  (mineral water)            0.033196   \n10          (spaghetti, chocolate)  (mineral water)            0.039195   \n11           (spaghetti, pancakes)  (mineral water)            0.025197   \n13    (mineral water, ground beef)      (spaghetti)            0.040928   \n14        (ground beef, spaghetti)  (mineral water)            0.039195   \n15             (milk, ground beef)  (mineral water)            0.021997   \n16        (ground beef, chocolate)  (mineral water)            0.023064   \n17             (ground beef, eggs)  (mineral water)            0.019997   \n\n    consequent support   support  confidence      lift  leverage  conviction  \\\n1             0.238368  0.010265    0.447674  1.878079  0.004799    1.378954   \n3             0.238368  0.015731    0.443609  1.861024  0.007278    1.368879   \n4             0.238368  0.013998    0.435685  1.827780  0.006340    1.349656   \n5             0.238368  0.013065    0.424242  1.779778  0.005724    1.322834   \n7             0.238368  0.011998    0.430622  1.806541  0.005357    1.337656   \n8             0.238368  0.011065    0.468927  1.967236  0.005440    1.434136   \n9             0.238368  0.013465    0.405622  1.701663  0.005552    1.281394   \n10            0.238368  0.015865    0.404762  1.698053  0.006522    1.279541   \n11            0.238368  0.011465    0.455026  1.908923  0.005459    1.397557   \n13            0.174110  0.017064    0.416938  2.394681  0.009938    1.416470   \n14            0.238368  0.017064    0.435374  1.826477  0.007722    1.348914   \n15            0.238368  0.011065    0.503030  2.110308  0.005822    1.532552   \n16            0.238368  0.010932    0.473988  1.988472  0.005434    1.447937   \n17            0.238368  0.010132    0.506667  2.125563  0.005365    1.543848   \n\n    length  \n1        2  \n3        2  \n4        2  \n5        2  \n7        2  \n8        2  \n9        2  \n10       2  \n11       2  \n13       2  \n14       2  \n15       2  \n16       2  \n17       2  ",
            "text/html": "<div>\n<style scoped>\n    .dataframe tbody tr th:only-of-type {\n        vertical-align: middle;\n    }\n\n    .dataframe tbody tr th {\n        vertical-align: top;\n    }\n\n    .dataframe thead th {\n        text-align: right;\n    }\n</style>\n<table border=\"1\" class=\"dataframe\">\n  <thead>\n    <tr style=\"text-align: right;\">\n      <th></th>\n      <th>antecedents</th>\n      <th>consequents</th>\n      <th>antecedent support</th>\n      <th>consequent support</th>\n      <th>support</th>\n      <th>confidence</th>\n      <th>lift</th>\n      <th>leverage</th>\n      <th>conviction</th>\n      <th>length</th>\n    </tr>\n  </thead>\n  <tbody>\n    <tr>\n      <th>1</th>\n      <td>(spaghetti, olive oil)</td>\n      <td>(mineral water)</td>\n      <td>0.022930</td>\n      <td>0.238368</td>\n      <td>0.010265</td>\n      <td>0.447674</td>\n      <td>1.878079</td>\n      <td>0.004799</td>\n      <td>1.378954</td>\n      <td>2</td>\n    </tr>\n    <tr>\n      <th>3</th>\n      <td>(milk, spaghetti)</td>\n      <td>(mineral water)</td>\n      <td>0.035462</td>\n      <td>0.238368</td>\n      <td>0.015731</td>\n      <td>0.443609</td>\n      <td>1.861024</td>\n      <td>0.007278</td>\n      <td>1.368879</td>\n      <td>2</td>\n    </tr>\n    <tr>\n      <th>4</th>\n      <td>(milk, chocolate)</td>\n      <td>(mineral water)</td>\n      <td>0.032129</td>\n      <td>0.238368</td>\n      <td>0.013998</td>\n      <td>0.435685</td>\n      <td>1.827780</td>\n      <td>0.006340</td>\n      <td>1.349656</td>\n      <td>2</td>\n    </tr>\n    <tr>\n      <th>5</th>\n      <td>(milk, eggs)</td>\n      <td>(mineral water)</td>\n      <td>0.030796</td>\n      <td>0.238368</td>\n      <td>0.013065</td>\n      <td>0.424242</td>\n      <td>1.779778</td>\n      <td>0.005724</td>\n      <td>1.322834</td>\n      <td>2</td>\n    </tr>\n    <tr>\n      <th>7</th>\n      <td>(frozen vegetables, spaghetti)</td>\n      <td>(mineral water)</td>\n      <td>0.027863</td>\n      <td>0.238368</td>\n      <td>0.011998</td>\n      <td>0.430622</td>\n      <td>1.806541</td>\n      <td>0.005357</td>\n      <td>1.337656</td>\n      <td>2</td>\n    </tr>\n    <tr>\n      <th>8</th>\n      <td>(milk, frozen vegetables)</td>\n      <td>(mineral water)</td>\n      <td>0.023597</td>\n      <td>0.238368</td>\n      <td>0.011065</td>\n      <td>0.468927</td>\n      <td>1.967236</td>\n      <td>0.005440</td>\n      <td>1.434136</td>\n      <td>2</td>\n    </tr>\n    <tr>\n      <th>9</th>\n      <td>(chocolate, eggs)</td>\n      <td>(mineral water)</td>\n      <td>0.033196</td>\n      <td>0.238368</td>\n      <td>0.013465</td>\n      <td>0.405622</td>\n      <td>1.701663</td>\n      <td>0.005552</td>\n      <td>1.281394</td>\n      <td>2</td>\n    </tr>\n    <tr>\n      <th>10</th>\n      <td>(spaghetti, chocolate)</td>\n      <td>(mineral water)</td>\n      <td>0.039195</td>\n      <td>0.238368</td>\n      <td>0.015865</td>\n      <td>0.404762</td>\n      <td>1.698053</td>\n      <td>0.006522</td>\n      <td>1.279541</td>\n      <td>2</td>\n    </tr>\n    <tr>\n      <th>11</th>\n      <td>(spaghetti, pancakes)</td>\n      <td>(mineral water)</td>\n      <td>0.025197</td>\n      <td>0.238368</td>\n      <td>0.011465</td>\n      <td>0.455026</td>\n      <td>1.908923</td>\n      <td>0.005459</td>\n      <td>1.397557</td>\n      <td>2</td>\n    </tr>\n    <tr>\n      <th>13</th>\n      <td>(mineral water, ground beef)</td>\n      <td>(spaghetti)</td>\n      <td>0.040928</td>\n      <td>0.174110</td>\n      <td>0.017064</td>\n      <td>0.416938</td>\n      <td>2.394681</td>\n      <td>0.009938</td>\n      <td>1.416470</td>\n      <td>2</td>\n    </tr>\n    <tr>\n      <th>14</th>\n      <td>(ground beef, spaghetti)</td>\n      <td>(mineral water)</td>\n      <td>0.039195</td>\n      <td>0.238368</td>\n      <td>0.017064</td>\n      <td>0.435374</td>\n      <td>1.826477</td>\n      <td>0.007722</td>\n      <td>1.348914</td>\n      <td>2</td>\n    </tr>\n    <tr>\n      <th>15</th>\n      <td>(milk, ground beef)</td>\n      <td>(mineral water)</td>\n      <td>0.021997</td>\n      <td>0.238368</td>\n      <td>0.011065</td>\n      <td>0.503030</td>\n      <td>2.110308</td>\n      <td>0.005822</td>\n      <td>1.532552</td>\n      <td>2</td>\n    </tr>\n    <tr>\n      <th>16</th>\n      <td>(ground beef, chocolate)</td>\n      <td>(mineral water)</td>\n      <td>0.023064</td>\n      <td>0.238368</td>\n      <td>0.010932</td>\n      <td>0.473988</td>\n      <td>1.988472</td>\n      <td>0.005434</td>\n      <td>1.447937</td>\n      <td>2</td>\n    </tr>\n    <tr>\n      <th>17</th>\n      <td>(ground beef, eggs)</td>\n      <td>(mineral water)</td>\n      <td>0.019997</td>\n      <td>0.238368</td>\n      <td>0.010132</td>\n      <td>0.506667</td>\n      <td>2.125563</td>\n      <td>0.005365</td>\n      <td>1.543848</td>\n      <td>2</td>\n    </tr>\n  </tbody>\n</table>\n</div>"
          },
          "metadata": {},
          "execution_count": 23
        }
      ],
      "source": [
        "rules_fp['length'] = rules_fp['antecedents'].apply(lambda x: len(x))\n",
        "rules_fp[ (rules_fp['confidence'] >= 0.3) & (rules_fp['length'] == 2) ]"
      ]
    },
    {
      "cell_type": "code",
      "execution_count": null,
      "metadata": {},
      "outputs": [],
      "source": []
    }
  ]
}