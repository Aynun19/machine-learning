{
  "nbformat": 4,
  "nbformat_minor": 0,
  "metadata": {
    "orig_nbformat": 2,
    "kernelspec": {
      "name": "python3",
      "display_name": "Python 3"
    },
    "colab": {
      "name": "apriori_mlxtend.ipynb",
      "provenance": [],
      "include_colab_link": true
    }
  },
  "cells": [
    {
      "cell_type": "markdown",
      "metadata": {
        "id": "view-in-github",
        "colab_type": "text"
      },
      "source": [
        "<a href=\"https://colab.research.google.com/github/riomukhtarom/machine-learning/blob/master/apriori_mlxtend.ipynb\" target=\"_parent\"><img src=\"https://colab.research.google.com/assets/colab-badge.svg\" alt=\"Open In Colab\"/></a>"
      ]
    },
    {
      "cell_type": "code",
      "metadata": {
        "id": "vNSEE7CJKGvW",
        "colab_type": "code",
        "colab": {}
      },
      "source": [
        "# for basic operations\n",
        "import numpy as np\n",
        "import pandas as pd\n",
        "\n",
        "# for visualizations\n",
        "import matplotlib.pyplot as plt\n",
        "\n",
        "# for market basket analysis\n",
        "from mlxtend.frequent_patterns import apriori\n",
        "from mlxtend.frequent_patterns import association_rules"
      ],
      "execution_count": 1,
      "outputs": []
    },
    {
      "cell_type": "code",
      "metadata": {
        "id": "_dqNMY0OLg8W",
        "colab_type": "code",
        "colab": {
          "base_uri": "https://localhost:8080/",
          "height": 35
        },
        "outputId": "cf12f4dd-a744-4d48-8c25-be9e67a14856"
      },
      "source": [
        "from google.colab import drive\n",
        "drive.mount('/content/drive')"
      ],
      "execution_count": 3,
      "outputs": []
    },
    {
      "cell_type": "code",
      "metadata": {
        "id": "XllAM9c0KGws",
        "colab_type": "code",
        "colab": {
          "base_uri": "https://localhost:8080/",
          "height": 258
        },
        "outputId": "e2e02b0f-d98f-44a7-abf7-9dba4314bd0a"
      },
      "source": [
        "data = pd.read_csv('/content/drive/My Drive/dataset/Market_Basket_Optimisation.csv', header=None, names=['item_'+str(i) for i in range(1,21)])\n",
        "data.head()"
      ],
      "execution_count": 4,
      "outputs": []
    },
    {
      "cell_type": "code",
      "metadata": {
        "tags": [],
        "id": "WbZbeRk4KG04",
        "colab_type": "code",
        "colab": {
          "base_uri": "https://localhost:8080/",
          "height": 35
        },
        "outputId": "941cb2a4-b003-437f-d3ad-2aa895c69a9a"
      },
      "source": [
        "# making each customers shopping items an identical list\n",
        "trans = []\n",
        "for i in range(0, 7501):\n",
        "    trans.append([str(data.values[i,j]) for j in range(0, 20)])\n",
        "\n",
        "# conveting it into an numpy array\n",
        "trans = np.array(trans)\n",
        "\n",
        "# checking the shape of the array\n",
        "print(trans.shape)"
      ],
      "execution_count": 5,
      "outputs": [
        {
          "output_type": "stream",
          "name": "stdout",
          "text": "(7501, 20)\n"
        }
      ]
    },
    {
      "cell_type": "code",
      "metadata": {
        "id": "p5cnLOswKG1O",
        "colab_type": "code",
        "colab": {
          "base_uri": "https://localhost:8080/",
          "height": 290
        },
        "outputId": "e5bb60de-01dd-450d-8792-c9aea2622b68"
      },
      "source": [
        "import pandas as pd\n",
        "from mlxtend.preprocessing import TransactionEncoder\n",
        "\n",
        "te = TransactionEncoder()\n",
        "data = te.fit_transform(trans)\n",
        "data = pd.DataFrame(data, columns = te.columns_)\n",
        "\n",
        "# getting the shape of the data\n",
        "data.tail()"
      ],
      "execution_count": 6,
      "outputs": [
        {
          "output_type": "execute_result",
          "data": {
            "text/plain": "       asparagus  almonds  antioxydant juice  asparagus  avocado  babies food  \\\n7496       False    False              False      False    False        False   \n7497       False    False              False      False    False        False   \n7498       False    False              False      False    False        False   \n7499       False    False              False      False    False        False   \n7500       False    False              False      False    False        False   \n\n      bacon  barbecue sauce  black tea  blueberries  ...  turkey  \\\n7496  False           False      False        False  ...   False   \n7497  False           False      False        False  ...   False   \n7498  False           False      False        False  ...   False   \n7499  False           False      False        False  ...   False   \n7500  False           False      False        False  ...   False   \n\n      vegetables mix  water spray  white wine  whole weat flour  \\\n7496           False        False       False             False   \n7497           False        False       False             False   \n7498           False        False       False             False   \n7499           False        False       False             False   \n7500           False        False       False             False   \n\n      whole wheat pasta  whole wheat rice   yams  yogurt cake  zucchini  \n7496              False             False  False        False     False  \n7497              False             False  False        False     False  \n7498              False             False  False        False     False  \n7499              False             False  False        False     False  \n7500              False             False  False         True     False  \n\n[5 rows x 121 columns]",
            "text/html": "<div>\n<style scoped>\n    .dataframe tbody tr th:only-of-type {\n        vertical-align: middle;\n    }\n\n    .dataframe tbody tr th {\n        vertical-align: top;\n    }\n\n    .dataframe thead th {\n        text-align: right;\n    }\n</style>\n<table border=\"1\" class=\"dataframe\">\n  <thead>\n    <tr style=\"text-align: right;\">\n      <th></th>\n      <th>asparagus</th>\n      <th>almonds</th>\n      <th>antioxydant juice</th>\n      <th>asparagus</th>\n      <th>avocado</th>\n      <th>babies food</th>\n      <th>bacon</th>\n      <th>barbecue sauce</th>\n      <th>black tea</th>\n      <th>blueberries</th>\n      <th>...</th>\n      <th>turkey</th>\n      <th>vegetables mix</th>\n      <th>water spray</th>\n      <th>white wine</th>\n      <th>whole weat flour</th>\n      <th>whole wheat pasta</th>\n      <th>whole wheat rice</th>\n      <th>yams</th>\n      <th>yogurt cake</th>\n      <th>zucchini</th>\n    </tr>\n  </thead>\n  <tbody>\n    <tr>\n      <th>7496</th>\n      <td>False</td>\n      <td>False</td>\n      <td>False</td>\n      <td>False</td>\n      <td>False</td>\n      <td>False</td>\n      <td>False</td>\n      <td>False</td>\n      <td>False</td>\n      <td>False</td>\n      <td>...</td>\n      <td>False</td>\n      <td>False</td>\n      <td>False</td>\n      <td>False</td>\n      <td>False</td>\n      <td>False</td>\n      <td>False</td>\n      <td>False</td>\n      <td>False</td>\n      <td>False</td>\n    </tr>\n    <tr>\n      <th>7497</th>\n      <td>False</td>\n      <td>False</td>\n      <td>False</td>\n      <td>False</td>\n      <td>False</td>\n      <td>False</td>\n      <td>False</td>\n      <td>False</td>\n      <td>False</td>\n      <td>False</td>\n      <td>...</td>\n      <td>False</td>\n      <td>False</td>\n      <td>False</td>\n      <td>False</td>\n      <td>False</td>\n      <td>False</td>\n      <td>False</td>\n      <td>False</td>\n      <td>False</td>\n      <td>False</td>\n    </tr>\n    <tr>\n      <th>7498</th>\n      <td>False</td>\n      <td>False</td>\n      <td>False</td>\n      <td>False</td>\n      <td>False</td>\n      <td>False</td>\n      <td>False</td>\n      <td>False</td>\n      <td>False</td>\n      <td>False</td>\n      <td>...</td>\n      <td>False</td>\n      <td>False</td>\n      <td>False</td>\n      <td>False</td>\n      <td>False</td>\n      <td>False</td>\n      <td>False</td>\n      <td>False</td>\n      <td>False</td>\n      <td>False</td>\n    </tr>\n    <tr>\n      <th>7499</th>\n      <td>False</td>\n      <td>False</td>\n      <td>False</td>\n      <td>False</td>\n      <td>False</td>\n      <td>False</td>\n      <td>False</td>\n      <td>False</td>\n      <td>False</td>\n      <td>False</td>\n      <td>...</td>\n      <td>False</td>\n      <td>False</td>\n      <td>False</td>\n      <td>False</td>\n      <td>False</td>\n      <td>False</td>\n      <td>False</td>\n      <td>False</td>\n      <td>False</td>\n      <td>False</td>\n    </tr>\n    <tr>\n      <th>7500</th>\n      <td>False</td>\n      <td>False</td>\n      <td>False</td>\n      <td>False</td>\n      <td>False</td>\n      <td>False</td>\n      <td>False</td>\n      <td>False</td>\n      <td>False</td>\n      <td>False</td>\n      <td>...</td>\n      <td>False</td>\n      <td>False</td>\n      <td>False</td>\n      <td>False</td>\n      <td>False</td>\n      <td>False</td>\n      <td>False</td>\n      <td>False</td>\n      <td>True</td>\n      <td>False</td>\n    </tr>\n  </tbody>\n</table>\n<p>5 rows × 121 columns</p>\n</div>"
          },
          "metadata": {},
          "execution_count": 6
        }
      ]
    },
    {
      "cell_type": "code",
      "metadata": {
        "id": "aYrg7ywZKG2F",
        "colab_type": "code",
        "colab": {}
      },
      "source": [
        "data = data.drop(columns=['nan'])"
      ],
      "execution_count": 7,
      "outputs": []
    },
    {
      "cell_type": "code",
      "metadata": {
        "tags": [],
        "id": "PSa3_uZoKG2T",
        "colab_type": "code",
        "colab": {
          "base_uri": "https://localhost:8080/",
          "height": 424
        },
        "outputId": "5667ea8f-6508-4915-fa35-22c9c070f756"
      },
      "source": [
        "from mlxtend.frequent_patterns import apriori\n",
        "from datetime import datetime\n",
        "\n",
        "time_start = datetime.now()\n",
        "frequent_itemsets_ap = apriori(data, min_support = 0.001, use_colnames = True)\n",
        "time_finish = datetime.now()\n",
        "duration = time_finish - time_start\n",
        "print('Apriori Time', duration)\n",
        "\n",
        "frequent_itemsets_ap"
      ],
      "execution_count": 72,
      "outputs": [
        {
          "output_type": "stream",
          "name": "stdout",
          "text": "Apriori Time 0:00:35.158663\n"
        },
        {
          "output_type": "execute_result",
          "data": {
            "text/plain": "       support                                           itemsets\n0     0.020397                                          (almonds)\n1     0.008932                                (antioxydant juice)\n2     0.004666                                        (asparagus)\n3     0.033329                                          (avocado)\n4     0.004533                                      (babies food)\n...        ...                                                ...\n6773  0.001466  (tomatoes, frozen vegetables, spaghetti, miner...\n6774  0.001200  (frozen vegetables, spaghetti, mineral water, ...\n6775  0.001067  (olive oil, tomatoes, frozen vegetables, spagh...\n6776  0.001067  (spaghetti, pancakes, mineral water, herb & pe...\n6777  0.001067  (frozen vegetables, chocolate, spaghetti, mine...\n\n[6778 rows x 2 columns]",
            "text/html": "<div>\n<style scoped>\n    .dataframe tbody tr th:only-of-type {\n        vertical-align: middle;\n    }\n\n    .dataframe tbody tr th {\n        vertical-align: top;\n    }\n\n    .dataframe thead th {\n        text-align: right;\n    }\n</style>\n<table border=\"1\" class=\"dataframe\">\n  <thead>\n    <tr style=\"text-align: right;\">\n      <th></th>\n      <th>support</th>\n      <th>itemsets</th>\n    </tr>\n  </thead>\n  <tbody>\n    <tr>\n      <th>0</th>\n      <td>0.020397</td>\n      <td>(almonds)</td>\n    </tr>\n    <tr>\n      <th>1</th>\n      <td>0.008932</td>\n      <td>(antioxydant juice)</td>\n    </tr>\n    <tr>\n      <th>2</th>\n      <td>0.004666</td>\n      <td>(asparagus)</td>\n    </tr>\n    <tr>\n      <th>3</th>\n      <td>0.033329</td>\n      <td>(avocado)</td>\n    </tr>\n    <tr>\n      <th>4</th>\n      <td>0.004533</td>\n      <td>(babies food)</td>\n    </tr>\n    <tr>\n      <th>...</th>\n      <td>...</td>\n      <td>...</td>\n    </tr>\n    <tr>\n      <th>6773</th>\n      <td>0.001466</td>\n      <td>(tomatoes, frozen vegetables, spaghetti, miner...</td>\n    </tr>\n    <tr>\n      <th>6774</th>\n      <td>0.001200</td>\n      <td>(frozen vegetables, spaghetti, mineral water, ...</td>\n    </tr>\n    <tr>\n      <th>6775</th>\n      <td>0.001067</td>\n      <td>(olive oil, tomatoes, frozen vegetables, spagh...</td>\n    </tr>\n    <tr>\n      <th>6776</th>\n      <td>0.001067</td>\n      <td>(spaghetti, pancakes, mineral water, herb &amp; pe...</td>\n    </tr>\n    <tr>\n      <th>6777</th>\n      <td>0.001067</td>\n      <td>(frozen vegetables, chocolate, spaghetti, mine...</td>\n    </tr>\n  </tbody>\n</table>\n<p>6778 rows × 2 columns</p>\n</div>"
          },
          "metadata": {},
          "execution_count": 72
        }
      ]
    },
    {
      "cell_type": "code",
      "execution_count": 73,
      "metadata": {
        "tags": []
      },
      "outputs": [
        {
          "output_type": "stream",
          "name": "stdout",
          "text": "FP-Tree Time 0:00:00.471270\n"
        },
        {
          "output_type": "execute_result",
          "data": {
            "text/plain": "       support                  itemsets\n0     0.238368           (mineral water)\n1     0.132116               (green tea)\n2     0.076523          (low fat yogurt)\n3     0.071457                  (shrimp)\n4     0.065858               (olive oil)\n...        ...                       ...\n6773  0.001733  (oatmeal, mineral water)\n6774  0.001333      (oatmeal, chocolate)\n6775  0.001067    (oatmeal, ground beef)\n6776  0.001067      (green tea, oatmeal)\n6777  0.001067      (spaghetti, oatmeal)\n\n[6778 rows x 2 columns]",
            "text/html": "<div>\n<style scoped>\n    .dataframe tbody tr th:only-of-type {\n        vertical-align: middle;\n    }\n\n    .dataframe tbody tr th {\n        vertical-align: top;\n    }\n\n    .dataframe thead th {\n        text-align: right;\n    }\n</style>\n<table border=\"1\" class=\"dataframe\">\n  <thead>\n    <tr style=\"text-align: right;\">\n      <th></th>\n      <th>support</th>\n      <th>itemsets</th>\n    </tr>\n  </thead>\n  <tbody>\n    <tr>\n      <th>0</th>\n      <td>0.238368</td>\n      <td>(mineral water)</td>\n    </tr>\n    <tr>\n      <th>1</th>\n      <td>0.132116</td>\n      <td>(green tea)</td>\n    </tr>\n    <tr>\n      <th>2</th>\n      <td>0.076523</td>\n      <td>(low fat yogurt)</td>\n    </tr>\n    <tr>\n      <th>3</th>\n      <td>0.071457</td>\n      <td>(shrimp)</td>\n    </tr>\n    <tr>\n      <th>4</th>\n      <td>0.065858</td>\n      <td>(olive oil)</td>\n    </tr>\n    <tr>\n      <th>...</th>\n      <td>...</td>\n      <td>...</td>\n    </tr>\n    <tr>\n      <th>6773</th>\n      <td>0.001733</td>\n      <td>(oatmeal, mineral water)</td>\n    </tr>\n    <tr>\n      <th>6774</th>\n      <td>0.001333</td>\n      <td>(oatmeal, chocolate)</td>\n    </tr>\n    <tr>\n      <th>6775</th>\n      <td>0.001067</td>\n      <td>(oatmeal, ground beef)</td>\n    </tr>\n    <tr>\n      <th>6776</th>\n      <td>0.001067</td>\n      <td>(green tea, oatmeal)</td>\n    </tr>\n    <tr>\n      <th>6777</th>\n      <td>0.001067</td>\n      <td>(spaghetti, oatmeal)</td>\n    </tr>\n  </tbody>\n</table>\n<p>6778 rows × 2 columns</p>\n</div>"
          },
          "metadata": {},
          "execution_count": 73
        }
      ],
      "source": [
        "from mlxtend.frequent_patterns import fpgrowth\n",
        "from datetime import datetime\n",
        "\n",
        "time_start_fp = datetime.now()\n",
        "frequent_itemsets_fp = fpgrowth(data, min_support=0.001, use_colnames=True)\n",
        "time_finish_fp = datetime.now()\n",
        "duration_fp = time_finish_fp - time_start_fp\n",
        "print('FP-Tree Time', duration_fp)\n",
        "\n",
        "frequent_itemsets_fp"
      ]
    },
    {
      "cell_type": "code",
      "execution_count": 74,
      "metadata": {},
      "outputs": [],
      "source": [
        "from mlxtend.frequent_patterns import association_rules\n",
        "\n",
        "rules_ap = association_rules(frequent_itemsets_ap, metric=\"confidence\", min_threshold=0.4)\n",
        "rules_fp = association_rules(frequent_itemsets_fp, metric=\"confidence\", min_threshold=0.4)"
      ]
    },
    {
      "cell_type": "code",
      "execution_count": 75,
      "metadata": {},
      "outputs": [
        {
          "output_type": "execute_result",
          "data": {
            "text/plain": "                                            antecedents          consequents  \\\n0                                           (asparagus)      (mineral water)   \n1                                        (burger sauce)      (mineral water)   \n2                                        (burger sauce)          (spaghetti)   \n3                                     (chocolate bread)      (mineral water)   \n4                                             (chutney)      (mineral water)   \n...                                                 ...                  ...   \n2661  (frozen vegetables, chocolate, spaghetti, mine...               (milk)   \n2662  (frozen vegetables, chocolate, spaghetti, milk...      (mineral water)   \n2663  (frozen vegetables, chocolate, mineral water, ...          (spaghetti)   \n2664  (frozen vegetables, spaghetti, mineral water, ...          (chocolate)   \n2665  (chocolate, spaghetti, mineral water, milk, gr...  (frozen vegetables)   \n\n      antecedent support  consequent support   support  confidence      lift  \\\n0               0.004666            0.238368  0.002133    0.457143  1.917801   \n1               0.005866            0.238368  0.002400    0.409091  1.716214   \n2               0.005866            0.174110  0.002400    0.409091  2.349610   \n3               0.004266            0.238368  0.001866    0.437500  1.835396   \n4               0.004133            0.238368  0.001733    0.419355  1.759273   \n...                  ...                 ...       ...         ...       ...   \n2661            0.001733            0.129583  0.001067    0.615385  4.748971   \n2662            0.001600            0.238368  0.001067    0.666667  2.796793   \n2663            0.002000            0.174110  0.001067    0.533333  3.063196   \n2664            0.001866            0.163845  0.001067    0.571429  3.487621   \n2665            0.001200            0.095321  0.001067    0.888889  9.325253   \n\n      leverage  conviction  \n0     0.001021    1.403006  \n1     0.001001    1.288915  \n2     0.001378    1.397660  \n3     0.000850    1.354012  \n4     0.000748    1.311699  \n...        ...         ...  \n2661  0.000842    2.263085  \n2662  0.000685    2.284895  \n2663  0.000718    1.769764  \n2664  0.000761    1.951029  \n2665  0.000952    8.142114  \n\n[2666 rows x 9 columns]",
            "text/html": "<div>\n<style scoped>\n    .dataframe tbody tr th:only-of-type {\n        vertical-align: middle;\n    }\n\n    .dataframe tbody tr th {\n        vertical-align: top;\n    }\n\n    .dataframe thead th {\n        text-align: right;\n    }\n</style>\n<table border=\"1\" class=\"dataframe\">\n  <thead>\n    <tr style=\"text-align: right;\">\n      <th></th>\n      <th>antecedents</th>\n      <th>consequents</th>\n      <th>antecedent support</th>\n      <th>consequent support</th>\n      <th>support</th>\n      <th>confidence</th>\n      <th>lift</th>\n      <th>leverage</th>\n      <th>conviction</th>\n    </tr>\n  </thead>\n  <tbody>\n    <tr>\n      <th>0</th>\n      <td>(asparagus)</td>\n      <td>(mineral water)</td>\n      <td>0.004666</td>\n      <td>0.238368</td>\n      <td>0.002133</td>\n      <td>0.457143</td>\n      <td>1.917801</td>\n      <td>0.001021</td>\n      <td>1.403006</td>\n    </tr>\n    <tr>\n      <th>1</th>\n      <td>(burger sauce)</td>\n      <td>(mineral water)</td>\n      <td>0.005866</td>\n      <td>0.238368</td>\n      <td>0.002400</td>\n      <td>0.409091</td>\n      <td>1.716214</td>\n      <td>0.001001</td>\n      <td>1.288915</td>\n    </tr>\n    <tr>\n      <th>2</th>\n      <td>(burger sauce)</td>\n      <td>(spaghetti)</td>\n      <td>0.005866</td>\n      <td>0.174110</td>\n      <td>0.002400</td>\n      <td>0.409091</td>\n      <td>2.349610</td>\n      <td>0.001378</td>\n      <td>1.397660</td>\n    </tr>\n    <tr>\n      <th>3</th>\n      <td>(chocolate bread)</td>\n      <td>(mineral water)</td>\n      <td>0.004266</td>\n      <td>0.238368</td>\n      <td>0.001866</td>\n      <td>0.437500</td>\n      <td>1.835396</td>\n      <td>0.000850</td>\n      <td>1.354012</td>\n    </tr>\n    <tr>\n      <th>4</th>\n      <td>(chutney)</td>\n      <td>(mineral water)</td>\n      <td>0.004133</td>\n      <td>0.238368</td>\n      <td>0.001733</td>\n      <td>0.419355</td>\n      <td>1.759273</td>\n      <td>0.000748</td>\n      <td>1.311699</td>\n    </tr>\n    <tr>\n      <th>...</th>\n      <td>...</td>\n      <td>...</td>\n      <td>...</td>\n      <td>...</td>\n      <td>...</td>\n      <td>...</td>\n      <td>...</td>\n      <td>...</td>\n      <td>...</td>\n    </tr>\n    <tr>\n      <th>2661</th>\n      <td>(frozen vegetables, chocolate, spaghetti, mine...</td>\n      <td>(milk)</td>\n      <td>0.001733</td>\n      <td>0.129583</td>\n      <td>0.001067</td>\n      <td>0.615385</td>\n      <td>4.748971</td>\n      <td>0.000842</td>\n      <td>2.263085</td>\n    </tr>\n    <tr>\n      <th>2662</th>\n      <td>(frozen vegetables, chocolate, spaghetti, milk...</td>\n      <td>(mineral water)</td>\n      <td>0.001600</td>\n      <td>0.238368</td>\n      <td>0.001067</td>\n      <td>0.666667</td>\n      <td>2.796793</td>\n      <td>0.000685</td>\n      <td>2.284895</td>\n    </tr>\n    <tr>\n      <th>2663</th>\n      <td>(frozen vegetables, chocolate, mineral water, ...</td>\n      <td>(spaghetti)</td>\n      <td>0.002000</td>\n      <td>0.174110</td>\n      <td>0.001067</td>\n      <td>0.533333</td>\n      <td>3.063196</td>\n      <td>0.000718</td>\n      <td>1.769764</td>\n    </tr>\n    <tr>\n      <th>2664</th>\n      <td>(frozen vegetables, spaghetti, mineral water, ...</td>\n      <td>(chocolate)</td>\n      <td>0.001866</td>\n      <td>0.163845</td>\n      <td>0.001067</td>\n      <td>0.571429</td>\n      <td>3.487621</td>\n      <td>0.000761</td>\n      <td>1.951029</td>\n    </tr>\n    <tr>\n      <th>2665</th>\n      <td>(chocolate, spaghetti, mineral water, milk, gr...</td>\n      <td>(frozen vegetables)</td>\n      <td>0.001200</td>\n      <td>0.095321</td>\n      <td>0.001067</td>\n      <td>0.888889</td>\n      <td>9.325253</td>\n      <td>0.000952</td>\n      <td>8.142114</td>\n    </tr>\n  </tbody>\n</table>\n<p>2666 rows × 9 columns</p>\n</div>"
          },
          "metadata": {},
          "execution_count": 75
        }
      ],
      "source": [
        "rules_ap"
      ]
    },
    {
      "cell_type": "code",
      "execution_count": 76,
      "metadata": {},
      "outputs": [
        {
          "output_type": "execute_result",
          "data": {
            "text/plain": "                                        antecedents      consequents  \\\n0         (spaghetti, low fat yogurt, french fries)  (mineral water)   \n1     (low fat yogurt, mineral water, french fries)      (spaghetti)   \n2          (low fat yogurt, burgers, mineral water)      (spaghetti)   \n3                   (low fat yogurt, burgers, eggs)      (spaghetti)   \n4                   (low fat yogurt, burgers, eggs)           (milk)   \n...                                             ...              ...   \n2661                                 (burger sauce)      (spaghetti)   \n2662                      (spaghetti, burger sauce)  (mineral water)   \n2663                  (burger sauce, mineral water)      (spaghetti)   \n2664                        (chicken, burger sauce)  (mineral water)   \n2665                  (burger sauce, mineral water)        (chicken)   \n\n      antecedent support  consequent support   support  confidence      lift  \\\n0               0.003600            0.238368  0.001600    0.444444  1.864529   \n1               0.003733            0.174110  0.001600    0.428571  2.461496   \n2               0.002533            0.174110  0.001067    0.421053  2.418312   \n3               0.002133            0.174110  0.001067    0.500000  2.871746   \n4               0.002133            0.129583  0.001067    0.500000  3.858539   \n...                  ...                 ...       ...         ...       ...   \n2661            0.005866            0.174110  0.002400    0.409091  2.349610   \n2662            0.002400            0.238368  0.001333    0.555556  2.330661   \n2663            0.002400            0.174110  0.001333    0.555556  3.190829   \n2664            0.001600            0.238368  0.001067    0.666667  2.796793   \n2665            0.002400            0.059992  0.001067    0.444444  7.408395   \n\n      leverage  conviction  \n0     0.000742    1.370937  \n1     0.000950    1.445307  \n2     0.000626    1.426537  \n3     0.000695    1.651780  \n4     0.000790    1.740835  \n...        ...         ...  \n2661  0.001378    1.397660  \n2662  0.000761    1.713672  \n2663  0.000915    1.858252  \n2664  0.000685    2.284895  \n2665  0.000923    1.692014  \n\n[2666 rows x 9 columns]",
            "text/html": "<div>\n<style scoped>\n    .dataframe tbody tr th:only-of-type {\n        vertical-align: middle;\n    }\n\n    .dataframe tbody tr th {\n        vertical-align: top;\n    }\n\n    .dataframe thead th {\n        text-align: right;\n    }\n</style>\n<table border=\"1\" class=\"dataframe\">\n  <thead>\n    <tr style=\"text-align: right;\">\n      <th></th>\n      <th>antecedents</th>\n      <th>consequents</th>\n      <th>antecedent support</th>\n      <th>consequent support</th>\n      <th>support</th>\n      <th>confidence</th>\n      <th>lift</th>\n      <th>leverage</th>\n      <th>conviction</th>\n    </tr>\n  </thead>\n  <tbody>\n    <tr>\n      <th>0</th>\n      <td>(spaghetti, low fat yogurt, french fries)</td>\n      <td>(mineral water)</td>\n      <td>0.003600</td>\n      <td>0.238368</td>\n      <td>0.001600</td>\n      <td>0.444444</td>\n      <td>1.864529</td>\n      <td>0.000742</td>\n      <td>1.370937</td>\n    </tr>\n    <tr>\n      <th>1</th>\n      <td>(low fat yogurt, mineral water, french fries)</td>\n      <td>(spaghetti)</td>\n      <td>0.003733</td>\n      <td>0.174110</td>\n      <td>0.001600</td>\n      <td>0.428571</td>\n      <td>2.461496</td>\n      <td>0.000950</td>\n      <td>1.445307</td>\n    </tr>\n    <tr>\n      <th>2</th>\n      <td>(low fat yogurt, burgers, mineral water)</td>\n      <td>(spaghetti)</td>\n      <td>0.002533</td>\n      <td>0.174110</td>\n      <td>0.001067</td>\n      <td>0.421053</td>\n      <td>2.418312</td>\n      <td>0.000626</td>\n      <td>1.426537</td>\n    </tr>\n    <tr>\n      <th>3</th>\n      <td>(low fat yogurt, burgers, eggs)</td>\n      <td>(spaghetti)</td>\n      <td>0.002133</td>\n      <td>0.174110</td>\n      <td>0.001067</td>\n      <td>0.500000</td>\n      <td>2.871746</td>\n      <td>0.000695</td>\n      <td>1.651780</td>\n    </tr>\n    <tr>\n      <th>4</th>\n      <td>(low fat yogurt, burgers, eggs)</td>\n      <td>(milk)</td>\n      <td>0.002133</td>\n      <td>0.129583</td>\n      <td>0.001067</td>\n      <td>0.500000</td>\n      <td>3.858539</td>\n      <td>0.000790</td>\n      <td>1.740835</td>\n    </tr>\n    <tr>\n      <th>...</th>\n      <td>...</td>\n      <td>...</td>\n      <td>...</td>\n      <td>...</td>\n      <td>...</td>\n      <td>...</td>\n      <td>...</td>\n      <td>...</td>\n      <td>...</td>\n    </tr>\n    <tr>\n      <th>2661</th>\n      <td>(burger sauce)</td>\n      <td>(spaghetti)</td>\n      <td>0.005866</td>\n      <td>0.174110</td>\n      <td>0.002400</td>\n      <td>0.409091</td>\n      <td>2.349610</td>\n      <td>0.001378</td>\n      <td>1.397660</td>\n    </tr>\n    <tr>\n      <th>2662</th>\n      <td>(spaghetti, burger sauce)</td>\n      <td>(mineral water)</td>\n      <td>0.002400</td>\n      <td>0.238368</td>\n      <td>0.001333</td>\n      <td>0.555556</td>\n      <td>2.330661</td>\n      <td>0.000761</td>\n      <td>1.713672</td>\n    </tr>\n    <tr>\n      <th>2663</th>\n      <td>(burger sauce, mineral water)</td>\n      <td>(spaghetti)</td>\n      <td>0.002400</td>\n      <td>0.174110</td>\n      <td>0.001333</td>\n      <td>0.555556</td>\n      <td>3.190829</td>\n      <td>0.000915</td>\n      <td>1.858252</td>\n    </tr>\n    <tr>\n      <th>2664</th>\n      <td>(chicken, burger sauce)</td>\n      <td>(mineral water)</td>\n      <td>0.001600</td>\n      <td>0.238368</td>\n      <td>0.001067</td>\n      <td>0.666667</td>\n      <td>2.796793</td>\n      <td>0.000685</td>\n      <td>2.284895</td>\n    </tr>\n    <tr>\n      <th>2665</th>\n      <td>(burger sauce, mineral water)</td>\n      <td>(chicken)</td>\n      <td>0.002400</td>\n      <td>0.059992</td>\n      <td>0.001067</td>\n      <td>0.444444</td>\n      <td>7.408395</td>\n      <td>0.000923</td>\n      <td>1.692014</td>\n    </tr>\n  </tbody>\n</table>\n<p>2666 rows × 9 columns</p>\n</div>"
          },
          "metadata": {},
          "execution_count": 76
        }
      ],
      "source": [
        "rules_fp"
      ]
    },
    {
      "cell_type": "code",
      "execution_count": 89,
      "metadata": {},
      "outputs": [
        {
          "output_type": "execute_result",
          "data": {
            "text/plain": "                                        antecedents      consequents  \\\n0         (spaghetti, low fat yogurt, french fries)  (mineral water)   \n1     (low fat yogurt, mineral water, french fries)      (spaghetti)   \n2          (low fat yogurt, burgers, mineral water)      (spaghetti)   \n3                   (low fat yogurt, burgers, eggs)      (spaghetti)   \n4                   (low fat yogurt, burgers, eggs)           (milk)   \n...                                             ...              ...   \n2585                 (spaghetti, milk, french wine)  (mineral water)   \n2586             (french wine, mineral water, milk)      (spaghetti)   \n2589        (spaghetti, mineral water, french wine)    (ground beef)   \n2590          (spaghetti, ground beef, french wine)  (mineral water)   \n2591      (french wine, mineral water, ground beef)      (spaghetti)   \n\n      antecedent support  consequent support   support  confidence      lift  \\\n0               0.003600            0.238368  0.001600    0.444444  1.864529   \n1               0.003733            0.174110  0.001600    0.428571  2.461496   \n2               0.002533            0.174110  0.001067    0.421053  2.418312   \n3               0.002133            0.174110  0.001067    0.500000  2.871746   \n4               0.002133            0.129583  0.001067    0.500000  3.858539   \n...                  ...                 ...       ...         ...       ...   \n2585            0.001866            0.238368  0.001200    0.642857  2.696908   \n2586            0.002800            0.174110  0.001200    0.428571  2.461496   \n2589            0.003333            0.098254  0.001466    0.440000  4.478209   \n2590            0.002400            0.238368  0.001466    0.611111  2.563727   \n2591            0.002400            0.174110  0.001466    0.611111  3.509912   \n\n      leverage  conviction  length  \n0     0.000742    1.370937       3  \n1     0.000950    1.445307       3  \n2     0.000626    1.426537       3  \n3     0.000695    1.651780       3  \n4     0.000790    1.740835       3  \n...        ...         ...     ...  \n2585  0.000755    2.132569       3  \n2586  0.000712    1.445307       3  \n2589  0.001139    1.610261       3  \n2590  0.000894    1.958482       3  \n2591  0.001049    2.123717       3  \n\n[1399 rows x 10 columns]",
            "text/html": "<div>\n<style scoped>\n    .dataframe tbody tr th:only-of-type {\n        vertical-align: middle;\n    }\n\n    .dataframe tbody tr th {\n        vertical-align: top;\n    }\n\n    .dataframe thead th {\n        text-align: right;\n    }\n</style>\n<table border=\"1\" class=\"dataframe\">\n  <thead>\n    <tr style=\"text-align: right;\">\n      <th></th>\n      <th>antecedents</th>\n      <th>consequents</th>\n      <th>antecedent support</th>\n      <th>consequent support</th>\n      <th>support</th>\n      <th>confidence</th>\n      <th>lift</th>\n      <th>leverage</th>\n      <th>conviction</th>\n      <th>length</th>\n    </tr>\n  </thead>\n  <tbody>\n    <tr>\n      <th>0</th>\n      <td>(spaghetti, low fat yogurt, french fries)</td>\n      <td>(mineral water)</td>\n      <td>0.003600</td>\n      <td>0.238368</td>\n      <td>0.001600</td>\n      <td>0.444444</td>\n      <td>1.864529</td>\n      <td>0.000742</td>\n      <td>1.370937</td>\n      <td>3</td>\n    </tr>\n    <tr>\n      <th>1</th>\n      <td>(low fat yogurt, mineral water, french fries)</td>\n      <td>(spaghetti)</td>\n      <td>0.003733</td>\n      <td>0.174110</td>\n      <td>0.001600</td>\n      <td>0.428571</td>\n      <td>2.461496</td>\n      <td>0.000950</td>\n      <td>1.445307</td>\n      <td>3</td>\n    </tr>\n    <tr>\n      <th>2</th>\n      <td>(low fat yogurt, burgers, mineral water)</td>\n      <td>(spaghetti)</td>\n      <td>0.002533</td>\n      <td>0.174110</td>\n      <td>0.001067</td>\n      <td>0.421053</td>\n      <td>2.418312</td>\n      <td>0.000626</td>\n      <td>1.426537</td>\n      <td>3</td>\n    </tr>\n    <tr>\n      <th>3</th>\n      <td>(low fat yogurt, burgers, eggs)</td>\n      <td>(spaghetti)</td>\n      <td>0.002133</td>\n      <td>0.174110</td>\n      <td>0.001067</td>\n      <td>0.500000</td>\n      <td>2.871746</td>\n      <td>0.000695</td>\n      <td>1.651780</td>\n      <td>3</td>\n    </tr>\n    <tr>\n      <th>4</th>\n      <td>(low fat yogurt, burgers, eggs)</td>\n      <td>(milk)</td>\n      <td>0.002133</td>\n      <td>0.129583</td>\n      <td>0.001067</td>\n      <td>0.500000</td>\n      <td>3.858539</td>\n      <td>0.000790</td>\n      <td>1.740835</td>\n      <td>3</td>\n    </tr>\n    <tr>\n      <th>...</th>\n      <td>...</td>\n      <td>...</td>\n      <td>...</td>\n      <td>...</td>\n      <td>...</td>\n      <td>...</td>\n      <td>...</td>\n      <td>...</td>\n      <td>...</td>\n      <td>...</td>\n    </tr>\n    <tr>\n      <th>2585</th>\n      <td>(spaghetti, milk, french wine)</td>\n      <td>(mineral water)</td>\n      <td>0.001866</td>\n      <td>0.238368</td>\n      <td>0.001200</td>\n      <td>0.642857</td>\n      <td>2.696908</td>\n      <td>0.000755</td>\n      <td>2.132569</td>\n      <td>3</td>\n    </tr>\n    <tr>\n      <th>2586</th>\n      <td>(french wine, mineral water, milk)</td>\n      <td>(spaghetti)</td>\n      <td>0.002800</td>\n      <td>0.174110</td>\n      <td>0.001200</td>\n      <td>0.428571</td>\n      <td>2.461496</td>\n      <td>0.000712</td>\n      <td>1.445307</td>\n      <td>3</td>\n    </tr>\n    <tr>\n      <th>2589</th>\n      <td>(spaghetti, mineral water, french wine)</td>\n      <td>(ground beef)</td>\n      <td>0.003333</td>\n      <td>0.098254</td>\n      <td>0.001466</td>\n      <td>0.440000</td>\n      <td>4.478209</td>\n      <td>0.001139</td>\n      <td>1.610261</td>\n      <td>3</td>\n    </tr>\n    <tr>\n      <th>2590</th>\n      <td>(spaghetti, ground beef, french wine)</td>\n      <td>(mineral water)</td>\n      <td>0.002400</td>\n      <td>0.238368</td>\n      <td>0.001466</td>\n      <td>0.611111</td>\n      <td>2.563727</td>\n      <td>0.000894</td>\n      <td>1.958482</td>\n      <td>3</td>\n    </tr>\n    <tr>\n      <th>2591</th>\n      <td>(french wine, mineral water, ground beef)</td>\n      <td>(spaghetti)</td>\n      <td>0.002400</td>\n      <td>0.174110</td>\n      <td>0.001466</td>\n      <td>0.611111</td>\n      <td>3.509912</td>\n      <td>0.001049</td>\n      <td>2.123717</td>\n      <td>3</td>\n    </tr>\n  </tbody>\n</table>\n<p>1399 rows × 10 columns</p>\n</div>"
          },
          "metadata": {},
          "execution_count": 89
        }
      ],
      "source": [
        "rules_fp['length'] = rules_fp['antecedents'].apply(lambda x: len(x))\n",
        "rules_fp[ (rules_fp['confidence'] >= 0.3) & (rules_fp['length'] == 3) ]"
      ]
    }
  ]
}